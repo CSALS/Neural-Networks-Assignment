{
 "cells": [
  {
   "cell_type": "code",
   "execution_count": 21,
   "metadata": {},
   "outputs": [],
   "source": [
    "import numpy as np\n",
    "from preprocessing import getData\n",
    "from pandas import *"
   ]
  },
  {
   "cell_type": "code",
   "execution_count": 22,
   "metadata": {},
   "outputs": [],
   "source": [
    "def sigmoid(Z):\n",
    "    return 1/(1 + np.exp(-Z))\n",
    "def sigmoidDerivative(A):\n",
    "    return A*(1-A)\n",
    "def PreTrain(Input, Output, HiddenNeurons):\n",
    "    #Parameters\n",
    "    Features = Input.shape[0]\n",
    "    Classes = Output.shape[0]\n",
    "    num_iterations = 2000\n",
    "    alpha = 0.1\n",
    "    np.random.seed(15)\n",
    "    #Random Initialization of weights\n",
    "    W1 = np.random.rand(HiddenNeurons, Features)\n",
    "    b1 = np.random.rand(HiddenNeurons, 1)\n",
    "    W2 = np.random.rand(Classes, HiddenNeurons)\n",
    "    b2 = np.random.rand(Classes, 1)\n",
    "    #Start Training\n",
    "    for iteration in range(num_iterations):\n",
    "        #Forward Propagation\n",
    "        Z1 = W1.dot(Input) + b1\n",
    "        A1 = sigmoid(Z1)\n",
    "        Z2 = W2.dot(A1) + b2\n",
    "        A2 = Y_tilda = sigmoid(Z2)\n",
    "        #Backpropagation\n",
    "        Delta_2 = (Y_tilda - Output) * sigmoidDerivative(A2)\n",
    "        Delta_1 = W2.T.dot(Delta_2) * sigmoidDerivative(A1)\n",
    "        #Weight and bias updation\n",
    "        W2 = W2 - alpha * np.dot(Delta_2, A1.T)\n",
    "        W1 = W1 - alpha * np.dot(Delta_1, Input.T)\n",
    "        b2 = b2 - alpha * np.sum(Delta_2, axis = 1, keepdims = True)\n",
    "        b1 = b1 - alpha * np.sum(Delta_1, axis = 1, keepdims = True)\n",
    "    #Completed Training\n",
    "    return [W1, b1, sigmoid(W1.dot(Input) + b1)]"
   ]
  },
  {
   "cell_type": "code",
   "execution_count": 26,
   "metadata": {},
   "outputs": [],
   "source": [
    "X, Y = getData('data.mat')\n",
    "#Holdout method\n",
    "train_percent = 0.7\n",
    "train_size = int(train_percent*X.shape[0])\n",
    "train_X = X[:train_size,:]\n",
    "test_X = X[train_size:,:]\n",
    "train_Y = Y[:train_size,:]\n",
    "test_Y = Y[train_size:,:]\n",
    "train_X = train_X.T\n",
    "train_Y = train_Y.T\n",
    "test_X = test_X.T\n",
    "test_Y = test_Y.T"
   ]
  },
  {
   "cell_type": "code",
   "execution_count": 27,
   "metadata": {},
   "outputs": [],
   "source": [
    "#Stacked Autoencoder based Deep Neural Network\n",
    "HiddenLayer = [42,24,12]"
   ]
  },
  {
   "cell_type": "code",
   "execution_count": 28,
   "metadata": {},
   "outputs": [],
   "source": [
    "#Pre-training the three autoencoders\n",
    "[W1, b1, Output1] = PreTrain(train_X, train_X, HiddenLayer[0])\n",
    "[W2, b2, Output2] = PreTrain(Output1, Output1, HiddenLayer[1])\n",
    "[W3, b3, Output3] = PreTrain(Output2, Output2, HiddenLayer[2])"
   ]
  },
  {
   "cell_type": "code",
   "execution_count": 29,
   "metadata": {},
   "outputs": [],
   "source": [
    "#Fine Tuning by stacking all those three autoencoders\n",
    "\"\"\"\n",
    "      W1     W2      W3      W4\n",
    "Input --- H1 ---- H2 ---- H3 --- Output\n",
    "      b1     b2      b3      b4\n",
    "Use W1, W2, W3 from pre-trained autoencoders\n",
    "Randomly initalize W4\n",
    "\"\"\"\n",
    "#Parameters\n",
    "Input = train_X\n",
    "Output = train_Y\n",
    "Classes = Output.shape[0]\n",
    "num_iterations = 3000\n",
    "alpha = 0.1\n",
    "np.random.seed(17)\n",
    "#Random initialize W4, b4\n",
    "W4 = np.random.rand(Classes, HiddenLayer[2])\n",
    "b4 = np.random.rand(Classes, 1)\n",
    "#Start Training\n",
    "for iteration in range(num_iterations):\n",
    "    #Forward Propagation\n",
    "    Z1 = W1.dot(Input) + b1\n",
    "    A1 = sigmoid(Z1)\n",
    "    Z2 = W2.dot(A1) + b2\n",
    "    A2 = sigmoid(Z2)\n",
    "    Z3 = W3.dot(A2) + b3\n",
    "    A3 = sigmoid(Z3)\n",
    "    Z4 = W4.dot(A3) + b4\n",
    "    A4 = Y_tilda = sigmoid(Z4)\n",
    "    #Backpropagation\n",
    "    delta_4 = (Y_tilda - Output) * sigmoidDerivative(A4)\n",
    "    delta_3 = W4.T.dot(delta_4) * sigmoidDerivative(A3)\n",
    "    delta_2 = W3.T.dot(delta_3) * sigmoidDerivative(A2)\n",
    "    delta_1 = W2.T.dot(delta_2) * sigmoidDerivative(A1)\n",
    "    #Weight and bias updation\n",
    "    W4 = W4 - alpha * np.dot(delta_4, A3.T)\n",
    "    b4 = b4 - alpha * np.sum(delta_4, axis = 1, keepdims = True)\n",
    "    W3 = W3 - alpha * np.dot(delta_3, A2.T)\n",
    "    b3 = b3 - alpha * np.sum(delta_3, axis = 1, keepdims = True)\n",
    "    W2 = W2 - alpha * np.dot(delta_2, A1.T)\n",
    "    b2 = b2 - alpha * np.sum(delta_2, axis = 1 ,keepdims = True)\n",
    "    W1 = W1 - alpha * np.dot(delta_1, train_X.T)\n",
    "    b1 = b1 - alpha * np.sum(delta_1, axis = 1, keepdims = True)\n",
    "#After end of loop we have optimal parameters"
   ]
  },
  {
   "cell_type": "code",
   "execution_count": 35,
   "metadata": {},
   "outputs": [],
   "source": [
    "# Testing\n",
    "\n",
    "#Forward Propagation\n",
    "Z1 = W1.dot(test_X) + b1\n",
    "A1 = sigmoid(Z1)\n",
    "Z2 = W2.dot(A1) + b2\n",
    "A2 = sigmoid(Z2)\n",
    "Z3 = W3.dot(A2) + b3\n",
    "A3 = sigmoid(Z3)\n",
    "Z4 = W4.dot(A3) + b4\n",
    "A4 = Y_tilda = sigmoid(Z4)\n",
    "test_size = test_X.shape[1]\n",
    "count = 0\n",
    "TrueZeros = TrueOnes = FalseZeros = FalseOnes = 0\n",
    "for i in range(test_size):\n",
    "    actualClass = np.argmax(test_Y.T[i,:])\n",
    "    predictedClass = np.argmax(Y_tilda.T[i,:])\n",
    "    if actualClass == predictedClass:\n",
    "        count += 1\n",
    "        if actualClass == 0:\n",
    "            TrueZeros += 1\n",
    "        else:\n",
    "            TrueOnes += 1\n",
    "    else:\n",
    "        if actualClass == 0:\n",
    "            FalseZeros += 1\n",
    "        else:\n",
    "            FalseOnes += 1\n",
    "conf_mat = ([[TrueZeros, FalseZeros], [FalseOnes, TrueOnes]])\n",
    "accuracy = count*100/test_size"
   ]
  },
  {
   "cell_type": "code",
   "execution_count": 39,
   "metadata": {},
   "outputs": [
    {
     "name": "stdout",
     "output_type": "stream",
     "text": [
      "70 - 30 Holdout Method :- \n",
      "\n",
      "Confusion Matrix :- \n",
      "     0    1\n",
      "0  280   39\n",
      "1   38  288\n",
      "\n",
      "Accuracy :-  88.06201550387597\n"
     ]
    }
   ],
   "source": [
    "print(\"70 - 30 Holdout Method :- \")\n",
    "print()\n",
    "print(\"Confusion Matrix :- \")\n",
    "print(DataFrame(conf_mat))\n",
    "print()\n",
    "print(\"Accuracy :- \", accuracy)"
   ]
  },
  {
   "cell_type": "code",
   "execution_count": null,
   "metadata": {},
   "outputs": [],
   "source": []
  }
 ],
 "metadata": {
  "kernelspec": {
   "display_name": "Python 3",
   "language": "python",
   "name": "python3"
  },
  "language_info": {
   "codemirror_mode": {
    "name": "ipython",
    "version": 3
   },
   "file_extension": ".py",
   "mimetype": "text/x-python",
   "name": "python",
   "nbconvert_exporter": "python",
   "pygments_lexer": "ipython3",
   "version": "3.7.3"
  },
  "varInspector": {
   "cols": {
    "lenName": 16,
    "lenType": 16,
    "lenVar": 40
   },
   "kernels_config": {
    "python": {
     "delete_cmd_postfix": "",
     "delete_cmd_prefix": "del ",
     "library": "var_list.py",
     "varRefreshCmd": "print(var_dic_list())"
    },
    "r": {
     "delete_cmd_postfix": ") ",
     "delete_cmd_prefix": "rm(",
     "library": "var_list.r",
     "varRefreshCmd": "cat(var_dic_list()) "
    }
   },
   "types_to_exclude": [
    "module",
    "function",
    "builtin_function_or_method",
    "instance",
    "_Feature"
   ],
   "window_display": false
  }
 },
 "nbformat": 4,
 "nbformat_minor": 2
}
