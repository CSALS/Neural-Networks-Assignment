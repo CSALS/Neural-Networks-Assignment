{
 "cells": [
  {
   "cell_type": "code",
   "execution_count": 1,
   "metadata": {},
   "outputs": [],
   "source": [
    "import numpy as np\n",
    "import math  \n",
    "from sklearn.cluster import KMeans"
   ]
  },
  {
   "cell_type": "code",
   "execution_count": 2,
   "metadata": {},
   "outputs": [],
   "source": [
    "from preprocessing import getData"
   ]
  },
  {
   "cell_type": "code",
   "execution_count": 3,
   "metadata": {},
   "outputs": [],
   "source": [
    "def kernelFunction(XminusMu, sigmaK, name):\n",
    "    phi = 0.0\n",
    "    if name == \"Gaussian\":\n",
    "        phi = np.exp((-0.5 * (XminusMu**2))/(sigmaK**2))\n",
    "    elif name == \"Multiquadratic\":\n",
    "        phi = (XminusMu**2 + sigmaK**2)**0.5 \n",
    "    elif name == \"Linear\":\n",
    "        phi = XminusMu\n",
    "    return phi"
   ]
  },
  {
   "cell_type": "code",
   "execution_count": 4,
   "metadata": {},
   "outputs": [],
   "source": [
    "def train(train_X, train_Y, K, name):\n",
    "    m = train_X.shape[0]\n",
    "    classes = train_Y.shape[1]\n",
    "    # K Means on train_X\n",
    "    # Number of hidden neurons = Number of clusters K\n",
    "    # mu(k) = centroid of kth cluster (k = 1 to K)\n",
    "    kmeans = KMeans(n_clusters = K, max_iter=1000, random_state = 0).fit(train_X) \n",
    "    mu = kmeans.cluster_centers_\n",
    "    labels = kmeans.predict(train_X)\n",
    "    # sigma(k) = 1/m(k) * sum over i=1 to m(k) [||X(i) - Mu(k)||]\n",
    "    sigma = np.zeros(K)\n",
    "    for k in range(K):\n",
    "        clusterK = train_X[(labels == k)]\n",
    "        mK = len(clusterK)\n",
    "        summation = 0.0\n",
    "        for i in range(mK):\n",
    "            summation = summation + np.linalg.norm(clusterK[i]-mu[k],1)\n",
    "        sigma[k] = (1.0/mK) * summation\n",
    "    # Evaluate hidden layer matrix H m*K\n",
    "    H = np.ndarray((m, K))\n",
    "    # H[i][k] = phi(||X(i) - mu(k)||)\n",
    "    for i in range(m):\n",
    "        for k in range(K):\n",
    "            XminusMu = np.linalg.norm(train_X[i] - mu[k], 1)\n",
    "            H[i][k] = kernelFunction(XminusMu, sigma[k], name)\n",
    "    # Weight matrix W = H^-1 Y () m*K.K*classes = m*classes\n",
    "    W = np.dot(np.linalg.pinv(H),train_Y)\n",
    "    #Return Values\n",
    "    return [W, mu, sigma, name]"
   ]
  },
  {
   "cell_type": "code",
   "execution_count": 5,
   "metadata": {},
   "outputs": [],
   "source": [
    "def test(test_X, test_Y, W, K, mu, sigma, name):\n",
    "    # Evaluate hidden layer matrix H m*K\n",
    "    m = test_X.shape[0]\n",
    "    H = np.zeros((m, K))\n",
    "    # H[i][k] = phi(||X(i) - mu(k)||)\n",
    "    for i in range(m):\n",
    "        for k in range(K):\n",
    "            XminusMu = np.linalg.norm(test_X[i] - mu[k], 1)\n",
    "            H[i][k] = kernelFunction(XminusMu, sigma[k], name)\n",
    "    # Y_predicted = H.dot(W)\n",
    "    Y_predicted = H.dot(W)\n",
    "    # MaxIndex of Y_predicted[i] is prediction for test_X[i] and compare with test_Y[i]\n",
    "    count = 0\n",
    "    for i in range(m):\n",
    "        actualClass = np.argmax(test_Y[i])\n",
    "        predictedClass = np.argmax(Y_predicted[i])\n",
    "        if actualClass == predictedClass:\n",
    "            count += 1\n",
    "    print(count, m, count/m * 100)"
   ]
  },
  {
   "cell_type": "code",
   "execution_count": 6,
   "metadata": {},
   "outputs": [
    {
     "name": "stdout",
     "output_type": "stream",
     "text": [
      "546 645 84.65116279069768\n"
     ]
    }
   ],
   "source": [
    "X, Y = getData('data.mat')\n",
    "#Holdout method -> \n",
    "def holdout(X, Y, train_percent, K, name):\n",
    "    train_size = int(train_percent*X.shape[0])\n",
    "    train_X = X[:train_size,:]\n",
    "    test_X = X[train_size:,:]\n",
    "    train_Y = Y[:train_size,:]\n",
    "    test_Y = Y[train_size:,:]\n",
    "    [W, mu, sigma, name] = train(train_X, train_Y, K, name)\n",
    "    test(test_X, test_Y, W, K, mu, sigma, name)\n",
    "holdout(X, Y, 0.7, 815, \"Gaussian\")"
   ]
  },
  {
   "cell_type": "code",
   "execution_count": null,
   "metadata": {},
   "outputs": [],
   "source": []
  },
  {
   "cell_type": "code",
   "execution_count": null,
   "metadata": {},
   "outputs": [],
   "source": []
  },
  {
   "cell_type": "code",
   "execution_count": null,
   "metadata": {},
   "outputs": [],
   "source": []
  },
  {
   "cell_type": "code",
   "execution_count": 19,
   "metadata": {},
   "outputs": [],
   "source": [
    "X, Y = getData('data.mat')\n",
    "K = 5"
   ]
  },
  {
   "cell_type": "code",
   "execution_count": 20,
   "metadata": {},
   "outputs": [],
   "source": [
    "kmeans = KMeans(n_clusters = K, random_state = 0).fit(X) \n",
    "mu = kmeans.cluster_centers_\n",
    "labels = kmeans.predict(X)\n",
    "sigma = np.zeros(K)"
   ]
  },
  {
   "cell_type": "code",
   "execution_count": 35,
   "metadata": {},
   "outputs": [],
   "source": [
    "for k in range(K):\n",
    "    clusterK = X[(labels == k)]\n",
    "    mK = len(clusterK)\n",
    "    sigma[k] = (1.0/mK) * np.sum(np.linalg.norm(clusterK - mu[k],1,axis=1),axis=0)"
   ]
  },
  {
   "cell_type": "code",
   "execution_count": 36,
   "metadata": {},
   "outputs": [
    {
     "data": {
      "text/plain": [
       "array([29.84166055, 35.15635781, 66.11795003, 57.61202748,  0.        ])"
      ]
     },
     "execution_count": 36,
     "metadata": {},
     "output_type": "execute_result"
    }
   ],
   "source": [
    "sigma"
   ]
  },
  {
   "cell_type": "code",
   "execution_count": null,
   "metadata": {},
   "outputs": [],
   "source": []
  },
  {
   "cell_type": "code",
   "execution_count": 36,
   "metadata": {},
   "outputs": [
    {
     "name": "stdout",
     "output_type": "stream",
     "text": [
      "551 645 0.8542635658914729\n"
     ]
    }
   ],
   "source": [
    "holdout(valueArray, X, Y, 0.7, 51, \"Multiquadratic\")"
   ]
  },
  {
   "cell_type": "code",
   "execution_count": 37,
   "metadata": {},
   "outputs": [
    {
     "name": "stdout",
     "output_type": "stream",
     "text": [
      "555 645 0.8604651162790697\n"
     ]
    }
   ],
   "source": [
    "holdout(valueArray, X, Y, 0.7, 51, \"Linear\")"
   ]
  },
  {
   "cell_type": "code",
   "execution_count": 6,
   "metadata": {},
   "outputs": [],
   "source": [
    "def test(test_X,test_Y,W,k,cluster_centers,sigma):\n",
    "    #Y_predicted <- H.dot(W)\n",
    "    #evaluate hidden layer matrix\n",
    "    test_instances = test_X.shape[0]\n",
    "    classes = test_Y.shape[1]\n",
    "    H = [[0.0]*k]*test_instances\n",
    "    H = (np.asarray(H))\n",
    "    for i in range(test_instances):\n",
    "        for j in range(classes):\n",
    "            XminusMu = np.linalg.norm(test_X[i] - cluster_centers[j][0:72])\n",
    "            x = kernelFunction(XminusMu,sigma[j],\"Gaussian\")\n",
    "            H[i][j] = x\n",
    "    Y_predicted = H.dot(W)\n",
    "    count = 0\n",
    "    for test_index in range(test_instances):\n",
    "        if np.argmax(test_Y[test_index]) == np.argmax(Y_predicted[test_index]):\n",
    "            count += 1\n",
    "    accuracy = count*100/test_instances\n",
    "    return count,test_instances"
   ]
  },
  {
   "cell_type": "code",
   "execution_count": 7,
   "metadata": {},
   "outputs": [],
   "source": [
    "valueArray,X,Y = getData('data.mat')\n",
    "valueArray = (valueArray[0:72] - np.mean(valueArray[0:72],axis=0))/np.std(valueArray[0:72],axis=0)"
   ]
  },
  {
   "cell_type": "code",
   "execution_count": 8,
   "metadata": {},
   "outputs": [],
   "source": [
    "#Holdout method -> 70,30\n",
    "def holdout(valueArray,X,Y,train_percent):\n",
    "    train_size = int(train_percent*X.shape[0])\n",
    "    test_size = X.shape[0] - train_size\n",
    "    train_X = X[:train_size,:]\n",
    "    test_X = X[train_size:,:]\n",
    "    train_Y = Y[:train_size,:]\n",
    "    test_Y = Y[train_size:,:]\n",
    "    instances = train_X.shape[0] # equals to train_size\n",
    "    classes = test_Y.shape[1]\n",
    "    features = train_X.shape[1]\n",
    "    W,k,cluster_centers,sigma = train(valueArray,train_X,train_Y,train_size,features,classes)\n",
    "    #print(valueArray.shape,train_X.shape)\n",
    "    #print(cluster_centers)\n",
    "    accuracy = test(test_X,test_Y,W,k,cluster_centers,sigma)\n",
    "    print(\"70-30 Holdout Method Accuracy :-\",accuracy)"
   ]
  },
  {
   "cell_type": "code",
   "execution_count": 9,
   "metadata": {},
   "outputs": [
    {
     "name": "stdout",
     "output_type": "stream",
     "text": [
      "[[ 3.42465556e-01  1.30746878e+00  6.36887220e-02  1.35220808e+00\n",
      "  -4.67784451e-01  7.59191414e-01  1.31914324e+00  1.72883533e+00\n",
      "   9.86918749e-01  7.48056639e-01  9.40952623e-01  8.21251678e-01\n",
      "   2.94205285e-01  1.89374244e+00  1.78297440e-01  2.15394812e+00\n",
      "  -5.24669687e-01  1.19501901e+00  2.47486192e+00  2.13326581e+00\n",
      "   1.40870156e+00  7.13831917e-01  8.79719466e-01  1.40774023e+00\n",
      "   9.68498320e-01  1.41844015e+00  1.39292001e-01  2.10055757e+00\n",
      "  -4.17604907e-01  7.46125881e-01  2.57798573e+00  2.11648863e+00\n",
      "   7.19633357e-01 -1.72695327e-01  6.88035277e-01  1.00267626e+00\n",
      "   3.11947524e-01  1.58203371e+00  5.20013972e-01  1.97271299e+00\n",
      "  -8.03494989e-02  1.01086585e+00  1.63596663e+00  8.71928550e-01\n",
      "   2.80159395e-01 -1.37683353e-01 -5.21844924e-02  6.88374940e-01\n",
      "   8.70762994e-01 -5.60387471e-01 -5.51441698e-01 -5.71955746e-01\n",
      "  -5.76477511e-01 -3.10154894e-01  1.32423150e+00 -1.22618199e+00\n",
      "  -2.85633086e-01 -3.72592400e-01 -5.03643115e-01 -3.81663792e-01\n",
      "   1.01740711e+00 -9.81701681e-01 -3.83667519e-01 -2.62280619e-01\n",
      "  -2.96397729e-01 -2.42173563e-01  2.66497144e-01  5.87445076e-01\n",
      "  -4.04193339e-01 -1.13528886e+00 -5.35369633e-01 -5.61015970e-01\n",
      "   1.72288704e-01]\n",
      " [-1.97533882e-01 -1.79839599e-01 -1.05174648e-01 -2.33792432e-01\n",
      "  -1.42762553e-01 -1.24707173e-01 -2.37797696e-01 -2.92310088e-01\n",
      "  -2.52097328e-01 -1.63639945e-01 -1.28993396e-01 -1.65590303e-01\n",
      "  -1.11880337e-01 -1.50101841e-01 -2.02753115e-01 -1.20277545e-01\n",
      "  -1.53133690e-01 -1.91333943e-01 -2.79245506e-01 -2.14253664e-01\n",
      "  -1.06016071e-01  4.44859703e-02  3.63851120e-03 -1.84473971e-02\n",
      "  -7.92286818e-02 -1.90877627e-01 -1.34369901e-01 -1.95785408e-01\n",
      "  -9.39320334e-02 -1.62099128e-01 -1.28989482e-01 -9.99884134e-02\n",
      "  -2.28604050e-02 -6.46600459e-02 -3.36277535e-02 -1.01758987e-01\n",
      "  -2.50819470e-02 -2.10997611e-01 -1.82674500e-01 -1.58773516e-01\n",
      "  -1.45716696e-01 -1.99471107e-01 -1.40559029e-01 -6.85897255e-02\n",
      "  -1.97733920e-02 -3.85620469e-02  9.86217444e-02  3.97265513e-02\n",
      "  -1.31460941e-01  1.80911074e-01 -3.17615760e-02 -1.70576298e-02\n",
      "  -6.75399259e-03  3.43966624e-03 -5.27936202e-02  9.62687727e-02\n",
      "  -1.50077610e-01 -1.53254599e-01 -1.98733901e-01 -2.09767053e-01\n",
      "  -3.02404918e-02  1.37183698e-01 -1.35998611e-01 -2.30111574e-01\n",
      "  -2.12402275e-01 -1.88729238e-01 -1.70055478e-01  1.29394079e-01\n",
      "   1.47865376e-01  1.98800845e-02  1.22503666e-02  1.17984382e-02\n",
      "   1.48750210e-01]\n",
      " [-4.17841486e-01  4.78790523e+00  6.82267327e+00  1.54717899e+00\n",
      "   3.60332185e+00  6.38984149e+00  1.80242152e-01  2.02281464e+00\n",
      "   1.02716162e+00  9.35880209e-02  6.20478515e-01  1.23552881e-01\n",
      "  -4.80828939e-01  3.80676352e+00  5.32738433e+00  1.05465846e+00\n",
      "   2.57641456e+00  5.47929950e+00  1.09914452e+00  3.31830132e+00\n",
      "   2.10184312e+00 -3.79656999e-01 -2.18175247e-01 -3.21379850e-01\n",
      "  -1.04487314e+00  6.47100987e+00  7.66567693e+00  3.26244444e+00\n",
      "   5.76827088e+00  7.38257095e+00 -1.39888888e-01  8.79638873e-01\n",
      "  -5.80705201e-01 -1.06934195e-02  1.00552354e+00  4.52081979e-01\n",
      "  -1.09277486e-01  6.17730659e+00  7.63320542e+00  2.29876399e+00\n",
      "   7.21369864e+00  7.18332239e+00  1.44184994e-01  2.49482462e+00\n",
      "   3.79930205e-01 -2.36434977e-01 -1.02967461e-01 -4.09332330e-01\n",
      "  -5.59916677e-01  1.57322972e+00 -1.09966857e+00 -8.62370125e-01\n",
      "  -8.44964979e-01 -6.12735417e-01 -5.67531579e-01  8.14290054e-01\n",
      "  -9.63171644e-01 -4.48309459e-01 -5.80709774e-01 -4.36251727e-01\n",
      "   3.92040129e-01 -2.35542463e-01 -3.92083686e-01 -3.36434757e-01\n",
      "  -2.80114591e-01 -2.50002641e-01 -1.34288730e-01  1.73389488e+00\n",
      "  -1.30977282e+00 -4.36584879e-01 -7.19918066e-01 -6.93713328e-01\n",
      "   9.72597525e-01]\n",
      " [-4.51281522e-01 -5.84038970e-01 -4.96588296e-01 -5.95103859e-01\n",
      "  -4.76342645e-01 -5.18047756e-01 -3.21136131e-01  2.36738661e-01\n",
      "   2.87716521e-01  7.03715548e-02 -3.93273429e-01 -4.22513421e-01\n",
      "  -9.47137921e-01 -6.91737747e-01 -5.62968158e-01 -9.99772199e-01\n",
      "  -5.88889744e-01 -5.96974957e-01 -7.47127714e-01 -5.59540668e-01\n",
      "  -4.70243574e-01 -1.10299010e+00 -9.31402414e-01 -8.79844247e-01\n",
      "  -8.60068643e-01 -5.73263293e-01 -4.24208509e-01 -8.48876108e-01\n",
      "  -6.98251350e-01 -4.37062331e-01 -6.39161594e-01 -6.62542530e-01\n",
      "  -8.65565452e-01 -8.31873595e-01 -1.12540573e+00 -8.35408288e-01\n",
      "  -7.22612805e-01 -5.44730110e-01 -2.65652617e-01 -9.03084310e-01\n",
      "  -3.48307960e-01 -3.47570355e-01 -6.92507544e-01 -6.27603546e-01\n",
      "  -5.52578200e-01 -8.51798306e-01 -9.49191436e-01 -9.62248284e-01\n",
      "   7.43592028e-01 -9.25439018e-01 -7.81370990e-02  7.77325028e-01\n",
      "   8.55931910e-01  3.79100561e-01 -4.59425405e-01  5.40413617e-03\n",
      "   1.53003155e+00  1.62532338e+00  2.09017360e+00  2.13324246e+00\n",
      "  -9.77552063e-01  5.89126187e-02  1.66813079e+00  1.99363386e+00\n",
      "   1.97529976e+00  1.78538707e+00  1.11732161e+00 -9.60985128e-01\n",
      "  -7.48107197e-01 -3.40481041e-01 -2.67493746e-01  2.14207532e-01\n",
      "  -4.56525369e-01]\n",
      " [ 1.49233904e+00  2.41855401e-01  2.12363530e-01  9.72615204e-01\n",
      "   1.16886114e+00 -2.49248070e-02  9.49959630e-01  3.22956569e-01\n",
      "   6.10149090e-01  5.02395639e-01  5.00791948e-01  8.96611018e-01\n",
      "   1.41820814e+00 -9.72647006e-02  1.00778931e+00  1.63520144e-01\n",
      "   1.49737253e+00  3.10307652e-01  7.49745089e-01  1.07386402e-01\n",
      "  -5.58532870e-02  2.82830458e-01  2.69228843e-01  4.78007128e-02\n",
      "   7.82940601e-01  2.30489276e-02  1.82523446e-01  2.70244536e-01\n",
      "   7.49755851e-01  2.66614378e-02 -2.12180627e-01 -2.15609403e-01\n",
      "   5.25922154e-01  1.24936845e+00  6.43394451e-01  6.96512882e-01\n",
      "   6.10876100e-01  6.08142212e-02  1.17836566e-01  2.82088820e-01\n",
      "   3.82219509e-01  4.60459129e-02  4.61505646e-01  1.29604182e-01\n",
      "   3.86970402e-01  1.10676303e+00  2.47315126e-01  2.09642688e-01\n",
      "  -2.86816815e-01 -1.89960500e-01  7.52959641e-01 -1.06148402e-01\n",
      "  -2.39964651e-01 -8.32021279e-02 -1.81466824e-02  4.61354414e-02\n",
      "  -8.31157070e-02 -1.56250956e-01 -1.74607618e-01 -2.36250857e-01\n",
      "   3.63256731e-01 -2.83088255e-01 -3.03820641e-01 -7.14886148e-02\n",
      "  -1.54059883e-01 -1.76455985e-01 -4.33273580e-02 -5.67915301e-01\n",
      "   1.28294466e-01  9.35314020e-01  5.80556720e-01  1.74702513e-01\n",
      "  -7.78078020e-01]]\n",
      "70-30 Holdout Method Accuracy :- (347, 645)\n"
     ]
    }
   ],
   "source": [
    "holdout(valueArray,X,Y,0.7)"
   ]
  },
  {
   "cell_type": "code",
   "execution_count": 557,
   "metadata": {},
   "outputs": [
    {
     "data": {
      "text/plain": [
       "(72, 73)"
      ]
     },
     "execution_count": 557,
     "metadata": {},
     "output_type": "execute_result"
    }
   ],
   "source": [
    "valueArray.shape"
   ]
  },
  {
   "cell_type": "code",
   "execution_count": 10,
   "metadata": {},
   "outputs": [
    {
     "data": {
      "text/plain": [
       "0.537984496124031"
      ]
     },
     "execution_count": 10,
     "metadata": {},
     "output_type": "execute_result"
    }
   ],
   "source": [
    "347/645"
   ]
  },
  {
   "cell_type": "code",
   "execution_count": 547,
   "metadata": {},
   "outputs": [],
   "source": []
  },
  {
   "cell_type": "code",
   "execution_count": null,
   "metadata": {},
   "outputs": [],
   "source": []
  }
 ],
 "metadata": {
  "kernelspec": {
   "display_name": "Python 3",
   "language": "python",
   "name": "python3"
  },
  "language_info": {
   "codemirror_mode": {
    "name": "ipython",
    "version": 3
   },
   "file_extension": ".py",
   "mimetype": "text/x-python",
   "name": "python",
   "nbconvert_exporter": "python",
   "pygments_lexer": "ipython3",
   "version": "3.7.3"
  },
  "varInspector": {
   "cols": {
    "lenName": 16,
    "lenType": 16,
    "lenVar": 40
   },
   "kernels_config": {
    "python": {
     "delete_cmd_postfix": "",
     "delete_cmd_prefix": "del ",
     "library": "var_list.py",
     "varRefreshCmd": "print(var_dic_list())"
    },
    "r": {
     "delete_cmd_postfix": ") ",
     "delete_cmd_prefix": "rm(",
     "library": "var_list.r",
     "varRefreshCmd": "cat(var_dic_list()) "
    }
   },
   "types_to_exclude": [
    "module",
    "function",
    "builtin_function_or_method",
    "instance",
    "_Feature"
   ],
   "window_display": false
  }
 },
 "nbformat": 4,
 "nbformat_minor": 2
}
