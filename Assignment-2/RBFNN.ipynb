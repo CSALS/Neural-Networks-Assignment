{
 "cells": [
  {
   "cell_type": "code",
   "execution_count": 1,
   "metadata": {},
   "outputs": [],
   "source": [
    "import numpy as np\n",
    "import math  \n",
    "from sklearn.cluster import KMeans"
   ]
  },
  {
   "cell_type": "code",
   "execution_count": 2,
   "metadata": {},
   "outputs": [],
   "source": [
    "from preprocessing import getData"
   ]
  },
  {
   "cell_type": "code",
   "execution_count": 3,
   "metadata": {},
   "outputs": [],
   "source": [
    "def kernelFunction(XminusMu, sigmaK, name):\n",
    "    phi = 0.0\n",
    "    if sigmaK == 0: sigmaK = 1e-10 #This step is because when one of the cluster has only value that means its sigma=0 \n",
    "    if name == \"Gaussian\":\n",
    "        phi = np.exp((-0.5 * (XminusMu**2))/(sigmaK**2))\n",
    "    elif name == \"Multiquadratic\":\n",
    "        phi = (XminusMu**2 + sigmaK**2)**0.5 \n",
    "    elif name == \"Linear\":\n",
    "        phi = XminusMu\n",
    "    return phi"
   ]
  },
  {
   "cell_type": "code",
   "execution_count": 4,
   "metadata": {},
   "outputs": [],
   "source": [
    "def train(train_X, train_Y, K, name):\n",
    "    m = train_X.shape[0]\n",
    "    classes = train_Y.shape[1]\n",
    "    # K Means on train_X\n",
    "    # Number of hidden neurons = Number of clusters K\n",
    "    # mu(k) = centroid of kth cluster (k = 1 to K)\n",
    "    kmeans = KMeans(n_clusters = K, max_iter=1000, random_state = 0).fit(train_X) \n",
    "    mu = kmeans.cluster_centers_\n",
    "    labels = kmeans.predict(train_X)\n",
    "    # sigma(k) = 1/m(k) * sum over i=1 to m(k) [||X(i) - Mu(k)||]\n",
    "    sigma = np.zeros(K)\n",
    "    for k in range(K):\n",
    "        clusterK = train_X[(labels == k)]\n",
    "        mK = len(clusterK)\n",
    "        summation = 0.0\n",
    "        for i in range(mK):\n",
    "            summation = summation + np.linalg.norm(clusterK[i]-mu[k],1)\n",
    "        sigma[k] = (1.0/mK) * summation\n",
    "    # Evaluate hidden layer matrix H m*K\n",
    "    H = np.ndarray((m, K))\n",
    "    # H[i][k] = phi(||X(i) - mu(k)||)\n",
    "    for i in range(m):\n",
    "        for k in range(K):\n",
    "            XminusMu = np.linalg.norm(train_X[i] - mu[k], 1)\n",
    "            H[i][k] = kernelFunction(XminusMu, sigma[k], name)\n",
    "    # Weight matrix W = H^-1 Y () m*K.K*classes = m*classes\n",
    "    W = np.dot(np.linalg.pinv(H),train_Y)\n",
    "    #Return Values\n",
    "    return [W, mu, sigma, name]"
   ]
  },
  {
   "cell_type": "code",
   "execution_count": 5,
   "metadata": {},
   "outputs": [],
   "source": [
    "def test(test_X, test_Y, W, K, mu, sigma, name):\n",
    "    # Evaluate hidden layer matrix H m*K\n",
    "    m = test_X.shape[0]\n",
    "    H = np.zeros((m, K))\n",
    "    # H[i][k] = phi(||X(i) - mu(k)||)\n",
    "    for i in range(m):\n",
    "        for k in range(K):\n",
    "            XminusMu = np.linalg.norm(test_X[i] - mu[k], 1)\n",
    "            H[i][k] = kernelFunction(XminusMu, sigma[k], name)\n",
    "    # Y_predicted = H.dot(W)\n",
    "    Y_predicted = H.dot(W)\n",
    "    # MaxIndex of Y_predicted[i] is prediction for test_X[i] and compare with test_Y[i]\n",
    "    count = 0\n",
    "    for i in range(m):\n",
    "        actualClass = np.argmax(test_Y[i])\n",
    "        predictedClass = np.argmax(Y_predicted[i])\n",
    "        if actualClass == predictedClass:\n",
    "            count += 1\n",
    "    print(count/m*100)"
   ]
  },
  {
   "cell_type": "code",
   "execution_count": 6,
   "metadata": {},
   "outputs": [],
   "source": [
    "X, Y = getData('data.mat')\n",
    "#Holdout method -> \n",
    "def holdout(X, Y, train_percent, K, name):\n",
    "    train_size = int(train_percent*X.shape[0])\n",
    "    train_X = X[:train_size,:]\n",
    "    test_X = X[train_size:,:]\n",
    "    train_Y = Y[:train_size,:]\n",
    "    test_Y = Y[train_size:,:]\n",
    "    [W, mu, sigma, name] = train(train_X, train_Y, K, name)\n",
    "    return test(test_X, test_Y, W, K, mu, sigma, name)"
   ]
  },
  {
   "cell_type": "code",
   "execution_count": 7,
   "metadata": {},
   "outputs": [
    {
     "name": "stdout",
     "output_type": "stream",
     "text": [
      "93.02325581395348\n",
      "89.30232558139535\n",
      "90.23255813953487\n"
     ]
    }
   ],
   "source": [
    "holdout(X, Y, 0.7, 350, \"Gaussian\")\n",
    "holdout(X, Y, 0.7, 350, \"Multiquadratic\")\n",
    "holdout(X, Y, 0.7, 350, \"Linear\")"
   ]
  },
  {
   "cell_type": "code",
   "execution_count": null,
   "metadata": {},
   "outputs": [],
   "source": [
    "gAcc = mAcc = lAcc = 0.0\n",
    "gK = mK = lK = 0\n",
    "for i in range(150, 600, 10):\n",
    "    a1 = holdout(X, Y, 0.7, i, \"Gaussian\")\n",
    "    if gAcc < a1:\n",
    "        gAcc = a1\n",
    "        gK = i\n",
    "    a2 = holdout(X, Y, 0.7, i, \"Multiquadratic\")\n",
    "    if mAcc < a2:\n",
    "        mAcc = a2\n",
    "        mK = i\n",
    "    a3 = holdout(X, Y, 0.7, i, \"Linear\")\n",
    "    if lAcc < a3:\n",
    "        lAcc = a3\n",
    "        lK = i"
   ]
  },
  {
   "cell_type": "code",
   "execution_count": 13,
   "metadata": {},
   "outputs": [
    {
     "data": {
      "text/plain": [
       "95.50387596899225"
      ]
     },
     "execution_count": 13,
     "metadata": {},
     "output_type": "execute_result"
    }
   ],
   "source": [
    "gAcc"
   ]
  },
  {
   "cell_type": "code",
   "execution_count": 14,
   "metadata": {},
   "outputs": [
    {
     "data": {
      "text/plain": [
       "93.48837209302326"
      ]
     },
     "execution_count": 14,
     "metadata": {},
     "output_type": "execute_result"
    }
   ],
   "source": [
    "mAcc"
   ]
  },
  {
   "cell_type": "code",
   "execution_count": 15,
   "metadata": {},
   "outputs": [
    {
     "data": {
      "text/plain": [
       "93.33333333333333"
      ]
     },
     "execution_count": 15,
     "metadata": {},
     "output_type": "execute_result"
    }
   ],
   "source": [
    "lAcc"
   ]
  },
  {
   "cell_type": "code",
   "execution_count": 17,
   "metadata": {},
   "outputs": [
    {
     "data": {
      "text/plain": [
       "(370, 460, 370)"
      ]
     },
     "execution_count": 17,
     "metadata": {},
     "output_type": "execute_result"
    }
   ],
   "source": [
    "gK, mK, lK"
   ]
  },
  {
   "cell_type": "code",
   "execution_count": 26,
   "metadata": {},
   "outputs": [
    {
     "name": "stdout",
     "output_type": "stream",
     "text": [
      "94.72868217054263\n",
      "92.55813953488372\n",
      "93.1782945736434\n"
     ]
    }
   ],
   "source": [
    "holdout(X, Y, 0.7, 350, \"Gaussian\")\n",
    "holdout(X, Y, 0.7, 460, \"Multiquadratic\")\n",
    "holdout(X, Y, 0.7, 370, \"Linear\")"
   ]
  },
  {
   "cell_type": "code",
   "execution_count": 27,
   "metadata": {},
   "outputs": [
    {
     "name": "stdout",
     "output_type": "stream",
     "text": [
      "94.72868217054263\n",
      "92.4031007751938\n",
      "91.93798449612403\n"
     ]
    }
   ],
   "source": [
    "holdout(X, Y, 0.7, 350, \"Gaussian\")\n",
    "holdout(X, Y, 0.7, 350, \"Multiquadratic\")\n",
    "holdout(X, Y, 0.7, 350, \"Linear\")"
   ]
  },
  {
   "cell_type": "code",
   "execution_count": null,
   "metadata": {},
   "outputs": [],
   "source": []
  }
 ],
 "metadata": {
  "kernelspec": {
   "display_name": "Python 3",
   "language": "python",
   "name": "python3"
  },
  "language_info": {
   "codemirror_mode": {
    "name": "ipython",
    "version": 3
   },
   "file_extension": ".py",
   "mimetype": "text/x-python",
   "name": "python",
   "nbconvert_exporter": "python",
   "pygments_lexer": "ipython3",
   "version": "3.7.3"
  },
  "varInspector": {
   "cols": {
    "lenName": 16,
    "lenType": 16,
    "lenVar": 40
   },
   "kernels_config": {
    "python": {
     "delete_cmd_postfix": "",
     "delete_cmd_prefix": "del ",
     "library": "var_list.py",
     "varRefreshCmd": "print(var_dic_list())"
    },
    "r": {
     "delete_cmd_postfix": ") ",
     "delete_cmd_prefix": "rm(",
     "library": "var_list.r",
     "varRefreshCmd": "cat(var_dic_list()) "
    }
   },
   "types_to_exclude": [
    "module",
    "function",
    "builtin_function_or_method",
    "instance",
    "_Feature"
   ],
   "window_display": false
  }
 },
 "nbformat": 4,
 "nbformat_minor": 2
}
