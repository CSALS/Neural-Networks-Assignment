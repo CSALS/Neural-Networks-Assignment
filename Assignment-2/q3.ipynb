{
 "cells": [
  {
   "cell_type": "code",
   "execution_count": null,
   "metadata": {
    "lines_to_next_cell": 0
   },
   "outputs": [],
   "source": []
  },
  {
   "cell_type": "markdown",
   "metadata": {},
   "source": [
    "BEST HIDDEN SIZES:  25 55  With Accuracy:  97.77777777777777"
   ]
  },
  {
   "cell_type": "code",
   "execution_count": 24,
   "metadata": {},
   "outputs": [
    {
     "name": "stdout",
     "output_type": "stream",
     "text": [
      "(2148, 73)\n"
     ]
    }
   ],
   "source": [
    "import numpy as np \n",
    "import os \n",
    "import pandas as pd \n",
    "import matplotlib.pyplot as plt\n",
    "import scipy.io\n",
    "def sigmoid(x,deriv = False):\n",
    "    if not deriv:\n",
    "        return 1/(1 + np.exp(-x))\n",
    "    else:\n",
    "        return x*(1 - x)        \n",
    "mat = scipy.io.loadmat('data.mat')\n",
    "data = mat['x']\n",
    "print(data.shape)"
   ]
  },
  {
   "cell_type": "code",
   "execution_count": 25,
   "metadata": {},
   "outputs": [
    {
     "data": {
      "text/plain": [
       "0"
      ]
     },
     "execution_count": 25,
     "metadata": {},
     "output_type": "execute_result"
    }
   ],
   "source": [
    "sigmoid(1,True)"
   ]
  },
  {
   "cell_type": "code",
   "execution_count": 26,
   "metadata": {},
   "outputs": [],
   "source": [
    "np.random.shuffle(data)"
   ]
  },
  {
   "cell_type": "code",
   "execution_count": 27,
   "metadata": {},
   "outputs": [
    {
     "name": "stdout",
     "output_type": "stream",
     "text": [
      "(2148,)\n",
      "[[0.]\n",
      " [1.]]\n",
      "[[0.]\n",
      " [1.]]\n"
     ]
    }
   ],
   "source": [
    "X = data[:,0:-1]\n",
    "Y = data[:,-1]\n",
    "print(Y.shape)\n",
    "Y = np.reshape(Y,(Y.shape[0],1))\n",
    "print(np.unique(Y,axis=0))\n",
    "# Y = Y - 1\n",
    "print(np.unique(Y,axis=0))\n",
    "Y = Y.astype(int)\n",
    "temp = np.eye(2)[(Y.T).flatten()]\n",
    "Y = temp"
   ]
  },
  {
   "cell_type": "code",
   "execution_count": 28,
   "metadata": {},
   "outputs": [
    {
     "data": {
      "text/plain": [
       "(2148, 72)"
      ]
     },
     "execution_count": 28,
     "metadata": {},
     "output_type": "execute_result"
    }
   ],
   "source": [
    "X.shape"
   ]
  },
  {
   "cell_type": "code",
   "execution_count": 29,
   "metadata": {},
   "outputs": [
    {
     "name": "stdout",
     "output_type": "stream",
     "text": [
      "(2148, 2) (2148, 72)\n"
     ]
    }
   ],
   "source": [
    "print(Y.shape,X.shape)"
   ]
  },
  {
   "cell_type": "code",
   "execution_count": 30,
   "metadata": {},
   "outputs": [],
   "source": [
    "train_size = int(0.7*X.shape[0])\n",
    "test_size = X.shape[0] - train_size"
   ]
  },
  {
   "cell_type": "code",
   "execution_count": 31,
   "metadata": {},
   "outputs": [
    {
     "name": "stdout",
     "output_type": "stream",
     "text": [
      "train:  (1503, 72) (1503, 2)\n",
      "test:  (645, 72) (645, 2)\n"
     ]
    }
   ],
   "source": [
    "train_X = X[:train_size,:]\n",
    "test_X = X[train_size:,:]\n",
    "train_Y = Y[:train_size,:]\n",
    "test_Y = Y[train_size:,:]\n",
    "print('train: ',train_X.shape,train_Y.shape)\n",
    "print('test: ',test_X.shape,test_Y.shape)"
   ]
  },
  {
   "cell_type": "code",
   "execution_count": 32,
   "metadata": {},
   "outputs": [],
   "source": [
    "# # feature scaling\n",
    "train_X = (train_X - np.mean(train_X,axis=0))/np.std(train_X,axis=0)\n",
    "test_X = (test_X - np.mean(test_X,axis=0))/np.std(test_X,axis=0)"
   ]
  },
  {
   "cell_type": "code",
   "execution_count": 33,
   "metadata": {},
   "outputs": [],
   "source": [
    "instances = train_X.shape[0] # equals to train_size\n",
    "classes = test_Y.shape[1]\n",
    "features = train_X.shape[1]"
   ]
  },
  {
   "cell_type": "code",
   "execution_count": 34,
   "metadata": {
    "lines_to_next_cell": 2
   },
   "outputs": [],
   "source": [
    "num_hidden1 = 14\n",
    "num_hidden2 = 15\n",
    "alpha = [0.00001,0.000002,0.00002]\n",
    "num_iterations = 1000"
   ]
  },
  {
   "cell_type": "code",
   "execution_count": 35,
   "metadata": {
    "lines_to_next_cell": 2
   },
   "outputs": [],
   "source": [
    "train_X = train_X.T\n",
    "test_X = test_X.T\n",
    "train_Y = train_Y.T\n",
    "test_Y = test_Y.T"
   ]
  },
  {
   "cell_type": "code",
   "execution_count": 36,
   "metadata": {},
   "outputs": [
    {
     "data": {
      "text/plain": [
       "((72, 1503), (2, 1503))"
      ]
     },
     "execution_count": 36,
     "metadata": {},
     "output_type": "execute_result"
    }
   ],
   "source": [
    "train_X.shape,train_Y.shape"
   ]
  },
  {
   "cell_type": "code",
   "execution_count": 37,
   "metadata": {
    "lines_to_next_cell": 2
   },
   "outputs": [],
   "source": [
    "temp_X = test_X.T\n",
    "temp_Y = test_Y.T"
   ]
  },
  {
   "cell_type": "code",
   "execution_count": 38,
   "metadata": {},
   "outputs": [],
   "source": [
    "num_hidden1_data = []\n",
    "num_hidden2_data = []\n",
    "accuracy_data = []"
   ]
  },
  {
   "cell_type": "code",
   "execution_count": 39,
   "metadata": {},
   "outputs": [],
   "source": [
    "losses_data = {}"
   ]
  },
  {
   "cell_type": "code",
   "execution_count": 40,
   "metadata": {},
   "outputs": [
    {
     "data": {
      "text/plain": [
       "2"
      ]
     },
     "execution_count": 40,
     "metadata": {},
     "output_type": "execute_result"
    }
   ],
   "source": [
    "Y.shape[1]"
   ]
  },
  {
   "cell_type": "code",
   "execution_count": 46,
   "metadata": {},
   "outputs": [
    {
     "name": "stdout",
     "output_type": "stream",
     "text": [
      "start  10 5\n",
      " num_hidden_1  10  num_hidden_2  5 \n",
      "\n",
      " 87.59689922480621\n",
      "This is  565 645\n"
     ]
    }
   ],
   "source": [
    "# for num_hidden1 in range(100,105,5):\n",
    "#         for num_hidden2 in range(100,105,5):\n",
    "num_hidden1 = 10\n",
    "num_hidden2 = 5\n",
    "np.random.seed(192)\n",
    "print(\"start \",num_hidden1,num_hidden2)\n",
    "# weights layer 1\n",
    "W1 = np.random.randn(num_hidden1,X.shape[1])\n",
    "b1 = np.zeros((num_hidden1,1))\n",
    "# weights layer 2\n",
    "W2 = np.random.randn(num_hidden2,num_hidden1)\n",
    "b2 = np.zeros((num_hidden2,1))\n",
    "\n",
    "# weights layer 2\n",
    "W3 = np.random.randn(Y.shape[1],num_hidden2)\n",
    "b3 = np.zeros((2,1))\n",
    "loss = []\n",
    "at_iteration = [] \n",
    "for iteration in range(num_iterations):\n",
    "        # for iteration in range(1):\n",
    "        # forward prop\n",
    "        #print(\"hello\",np.dot(W1,train_X).shape,b1.shape)\n",
    "        Z1 = np.dot(W1,train_X) + b1\n",
    "        A1 = sigmoid(Z1)\n",
    "        Z2 = np.dot(W2,A1) + b2\n",
    "        A2 = sigmoid(Z2)\n",
    "        Z3 = np.dot(W3,A2) + b3\n",
    "        A3 = Y_tilda = sigmoid(Z3)\n",
    "       # print(Y_tilda.shape,sigmoid(A3,deriv=True).shape)\n",
    "        #print(\"DIfference \",Y_tilda,Y)\n",
    "        if iteration % 100 == 0:\n",
    "                error = (np.sum(np.power((Y_tilda-train_Y),2)))/(train_size*4) # m*c*2\n",
    "                loss.append(error)\n",
    "                at_iteration.append(iteration)\n",
    "        delta_3 = (Y_tilda - train_Y)*sigmoid(A3,deriv=True)\n",
    "        #print(\"fucking\",delta_3.shape)\n",
    "        delta_2 = W3.T.dot((delta_3))*sigmoid(A2,deriv=True)\n",
    "        #print(delta_3.shape,W3.shape,sigmoid(A2,deriv=True).shape)\n",
    "        delta_1 = W2.T.dot((delta_2))*sigmoid(A1,deriv=True)\n",
    "#                         print('deltas: ',delta_3.shape,delta_2.shape,delta_1.shape)\n",
    "\n",
    "        #     print(Y_tilda)\n",
    "        #     print(delta_3,'\\n\\n')\n",
    "        #print(\"sucking\",W3.shape)\n",
    "        W3 = W3 - alpha[0]*np.dot(delta_3,A2.T)/classes*train_size\n",
    "        b3 = b3 - alpha[0]*np.sum(delta_3,axis=1,keepdims=True)/classes*train_size\n",
    "        W2 = W2 - alpha[1]*np.dot(delta_2,A1.T)/classes*train_size\n",
    "        b2 = b2 - alpha[1]*np.sum(delta_2,axis=1,keepdims=True)/classes*train_size\n",
    "        W1 = W1 - alpha[2]*np.dot(delta_1,train_X.T)/classes*train_size\n",
    "        b1 = b1 - alpha[2]*np.sum(delta_1,axis=1,keepdims=True)/classes*train_size\n",
    "\n",
    "#print(b1,b2,b3)\n",
    "losses_data[(num_hidden1,num_hidden2)] = loss \n",
    "# print('1\\n',W1,'2\\n',W2,'3\\n',W3,'1\\n',b1,'2\\n',b2,'3\\n',b3)\n",
    "\n",
    "Z1 = np.dot(W1,test_X) + b1\n",
    "A1 = sigmoid(Z1)\n",
    "Z2 = np.dot(W2,A1) + b2\n",
    "A2 = sigmoid(Z2)\n",
    "Z3 = np.dot(W3,A2) + b3\n",
    "Y_tilda = sigmoid(Z3)\n",
    "\n",
    "test = np.copy(Y_tilda)\n",
    "count = 0\n",
    "#print(\"bhai\",Y_tilda.shape)\n",
    "# print('train: ',train_X.shape,train_Y.shape)\n",
    "# print('test: ',test_X.shape,test_Y.shape)\n",
    "temp = Y_tilda.T\n",
    "for i in range(test_size):\n",
    "        # print(np.argmax(test[i,:]),np.argmax(temp_test[i,:]))\n",
    "        if np.argmax(temp_Y[i,:]) == np.argmax(temp[i,:]):\n",
    "                count += 1\n",
    "                # print('true')\n",
    "\n",
    "accuracy = count*100/test_size\n",
    "print(' num_hidden_1 ',num_hidden1,' num_hidden_2 ',num_hidden2,'\\n\\n',accuracy)\n",
    "num_hidden1_data.append(num_hidden1)\n",
    "num_hidden2_data.append(num_hidden2)\n",
    "accuracy_data.append(accuracy)\n",
    "print(\"This is \",count,test_size)\n",
    "# error = (np.sum(np.power((Y_tilda-test_Y),2)))/(test_size*6)\n",
    "# print('\\ntest error: ',error)"
   ]
  },
  {
   "cell_type": "code",
   "execution_count": 44,
   "metadata": {},
   "outputs": [
    {
     "name": "stdout",
     "output_type": "stream",
     "text": [
      "0\n",
      "BEST HIDDEN SIZES:  10 5  With Accuracy:  87.59689922480621\n"
     ]
    },
    {
     "data": {
      "image/png": "[encoded data removed]",
      "text/plain": [
       "<Figure size 432x288 with 1 Axes>"
      ]
     },
     "metadata": {
      "needs_background": "light"
     },
     "output_type": "display_data"
    }
   ],
   "source": [
    "### Printing the plot of best accuracy\n",
    "best_accuracy_index = accuracy_data.index(max(accuracy_data))\n",
    "print(best_accuracy_index)\n",
    "num_hidden1 = num_hidden1_data[best_accuracy_index] \n",
    "num_hidden2 = num_hidden2_data[best_accuracy_index] \n",
    "loss = losses_data[(num_hidden1,num_hidden2)]\n",
    "iterations = np.arange(len(loss))\n",
    "print('BEST HIDDEN SIZES: ',num_hidden1,num_hidden2,' With Accuracy: ',accuracy_data[best_accuracy_index])\n",
    "plt.plot(iterations,loss)\n",
    "plt.show()"
   ]
  },
  {
   "cell_type": "code",
   "execution_count": null,
   "metadata": {},
   "outputs": [],
   "source": []
  },
  {
   "cell_type": "code",
   "execution_count": null,
   "metadata": {},
   "outputs": [],
   "source": []
  }
 ],
 "metadata": {
  "jupytext": {
   "cell_metadata_filter": "-all",
   "main_language": "python",
   "notebook_metadata_filter": "-all"
  },
  "kernelspec": {
   "display_name": "Python 3",
   "language": "python",
   "name": "python3"
  },
  "language_info": {
   "codemirror_mode": {
    "name": "ipython",
    "version": 3
   },
   "file_extension": ".py",
   "mimetype": "text/x-python",
   "name": "python",
   "nbconvert_exporter": "python",
   "pygments_lexer": "ipython3",
   "version": "3.7.3"
  },
  "varInspector": {
   "cols": {
    "lenName": 16,
    "lenType": 16,
    "lenVar": 40
   },
   "kernels_config": {
    "python": {
     "delete_cmd_postfix": "",
     "delete_cmd_prefix": "del ",
     "library": "var_list.py",
     "varRefreshCmd": "print(var_dic_list())"
    },
    "r": {
     "delete_cmd_postfix": ") ",
     "delete_cmd_prefix": "rm(",
     "library": "var_list.r",
     "varRefreshCmd": "cat(var_dic_list()) "
    }
   },
   "types_to_exclude": [
    "module",
    "function",
    "builtin_function_or_method",
    "instance",
    "_Feature"
   ],
   "window_display": false
  }
 },
 "nbformat": 4,
 "nbformat_minor": 2
}
