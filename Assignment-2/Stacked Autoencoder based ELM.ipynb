{
 "cells": [
  {
   "cell_type": "code",
   "execution_count": 1,
   "metadata": {},
   "outputs": [],
   "source": [
    "import numpy as np\n",
    "from preprocessing import getData\n",
    "from pandas import *"
   ]
  },
  {
   "cell_type": "code",
   "execution_count": 2,
   "metadata": {},
   "outputs": [],
   "source": [
    "def sigmoid(Z):\n",
    "    return 1/(1 + np.exp(-Z))\n",
    "def sigmoidDerivative(A):\n",
    "    return A*(1-A)\n",
    "def PreTrain(Input, Output, HiddenNeurons):\n",
    "    #Parameters\n",
    "    Features = Input.shape[0]\n",
    "    Classes = Output.shape[0]\n",
    "    num_iterations = 2000\n",
    "    alpha = 0.1\n",
    "    np.random.seed(15)\n",
    "    #Random Initialization of weights\n",
    "    W1 = np.random.rand(HiddenNeurons, Features)\n",
    "    b1 = np.random.rand(HiddenNeurons, 1)\n",
    "    W2 = np.random.rand(Classes, HiddenNeurons)\n",
    "    b2 = np.random.rand(Classes, 1)\n",
    "    #Start Training\n",
    "    for iteration in range(num_iterations):\n",
    "        #Forward Propagation\n",
    "        Z1 = W1.dot(Input) + b1\n",
    "        A1 = sigmoid(Z1)\n",
    "        Z2 = W2.dot(A1) + b2\n",
    "        A2 = Y_tilda = sigmoid(Z2)\n",
    "        #Backpropagation\n",
    "        Delta_2 = (Y_tilda - Output) * sigmoidDerivative(A2)\n",
    "        Delta_1 = W2.T.dot(Delta_2) * sigmoidDerivative(A1)\n",
    "        #Weight and bias updation\n",
    "        W2 = W2 - alpha * np.dot(Delta_2, A1.T)\n",
    "        W1 = W1 - alpha * np.dot(Delta_1, Input.T)\n",
    "        b2 = b2 - alpha * np.sum(Delta_2, axis = 1, keepdims = True)\n",
    "        b1 = b1 - alpha * np.sum(Delta_1, axis = 1, keepdims = True)\n",
    "    #Completed Training\n",
    "    return [W1, b1, sigmoid(W1.dot(Input) + b1)]"
   ]
  },
  {
   "cell_type": "code",
   "execution_count": 3,
   "metadata": {},
   "outputs": [],
   "source": [
    "X, Y = getData('data.mat')\n",
    "#Holdout method\n",
    "train_percent = 0.7\n",
    "train_size = int(train_percent*X.shape[0])\n",
    "train_X = X[:train_size,:]\n",
    "test_X = X[train_size:,:]\n",
    "train_Y = Y[:train_size,:]\n",
    "test_Y = Y[train_size:,:]\n",
    "train_X = train_X.T\n",
    "train_Y = train_Y.T\n",
    "test_X = test_X.T\n",
    "test_Y = test_Y.T"
   ]
  },
  {
   "cell_type": "code",
   "execution_count": 4,
   "metadata": {},
   "outputs": [],
   "source": [
    "#deep layer stacked autoencoder based extreme learning machine.\n",
    "HiddenLayer = [42,24]"
   ]
  },
  {
   "cell_type": "code",
   "execution_count": 5,
   "metadata": {},
   "outputs": [],
   "source": [
    "#Pre-training the two autoencoders\n",
    "[W1, b1, Output1] = PreTrain(train_X, train_X, HiddenLayer[0])\n",
    "[W2, b2, Output2] = PreTrain(Output1, Output1, HiddenLayer[1])"
   ]
  },
  {
   "cell_type": "code",
   "execution_count": 6,
   "metadata": {},
   "outputs": [],
   "source": [
    "#Stack these two autoencoders and send the output as input to ELM Classifier\n",
    "\"\"\"\n",
    "      W1    W2      W3(Randomly initialized)\n",
    "Input --- H1 --- H2 --- ELM Classifier\n",
    "\n",
    "\"\"\"\n",
    "#Finding Output of our stacked autoencoder\n",
    "Z1 = W1.dot(train_X)\n",
    "A1 = sigmoid(Z1)\n",
    "Z2 = W2.dot(A1)\n",
    "A2 = sigmoid(Z2)\n",
    "ELM_Input = A2.T\n",
    "#Random Initialization of ELM Classifier parameters\n",
    "InputNeurons = ELM_Input.shape[1]\n",
    "HiddenNeurons = 350\n",
    "RandomA = np.random.randn(InputNeurons, HiddenNeurons)\n",
    "RandomB = np.random.randn(1, HiddenNeurons)\n",
    "#Evaluating Hidden Layer Matrix\n",
    "InputSize = ELM_Input.shape[0]\n",
    "HiddenLayer = np.zeros((InputSize, HiddenNeurons))\n",
    "# H = exp(-b||x - a||)\n",
    "for i in range(InputSize):\n",
    "    for j in range(HiddenNeurons):\n",
    "        HiddenLayer[i][j] = np.exp(-RandomB[0][j] * np.linalg.norm(ELM_Input[i] - RandomA.T[j], 1))\n",
    "        if HiddenLayer[i][j] == 0:\n",
    "            HiddenLayer[i][j] = 1e-10\n",
    "#Evaluating Weight Matrix\n",
    "WeightMatrix = np.linalg.pinv(HiddenLayer).dot(train_Y.T)"
   ]
  },
  {
   "cell_type": "code",
   "execution_count": 7,
   "metadata": {},
   "outputs": [],
   "source": [
    "#Testing\n",
    "# 1. Do forward propagation on the two autoencoders and send output as input to ELM Classifier\n",
    "Z1 = W1.dot(test_X) + b1\n",
    "A1 = sigmoid(Z1)\n",
    "Z2 = W2.dot(A1) + b2\n",
    "A2 = sigmoid(Z2)\n",
    "ELM_TestInput = A2.T\n",
    "ELM_TestOutput = test_Y.T\n",
    "# 2. Testing on ELM Classifier\n",
    "test_size = ELM_TestInput.shape[0]\n",
    "HiddenNeurons = 350\n",
    "TestHiddenLayer = np.zeros((test_size, HiddenNeurons))\n",
    "# H = exp(-b||x - a||)\n",
    "for i in range(test_size):\n",
    "    for j in range(HiddenNeurons):\n",
    "        TestHiddenLayer[i][j] = np.exp(-RandomB[0][j] * np.linalg.norm(ELM_TestInput[i] - RandomA.T[j], 1))\n",
    "        if TestHiddenLayer[i][j] == 0:\n",
    "            TestHiddenLayer[i][j] = 1e-10\n",
    "PredictedOutput = TestHiddenLayer.dot(WeightMatrix)\n",
    "#Compare with actual output\n",
    "count = 0\n",
    "TrueZeros = TrueOnes = FalseZeros = FalseOnes = 0\n",
    "for i in range(test_size):\n",
    "    actualClass = np.argmax(ELM_TestOutput[i])\n",
    "    predictedClass = np.argmax(PredictedOutput[i])\n",
    "    if actualClass == predictedClass:\n",
    "        count += 1\n",
    "        if actualClass == 0:\n",
    "            TrueZeros += 1\n",
    "        else:\n",
    "            TrueOnes += 1\n",
    "    else:\n",
    "        if actualClass == 0:\n",
    "            FalseZeros += 1\n",
    "        else:\n",
    "            FalseOnes += 1\n",
    "conf_mat = ([[TrueZeros, FalseZeros], [FalseOnes, TrueOnes]])\n",
    "acc = count/test_size*100"
   ]
  },
  {
   "cell_type": "code",
   "execution_count": 8,
   "metadata": {},
   "outputs": [
    {
     "data": {
      "text/plain": [
       "57.36434108527132"
      ]
     },
     "execution_count": 8,
     "metadata": {},
     "output_type": "execute_result"
    }
   ],
   "source": [
    "acc"
   ]
  },
  {
   "cell_type": "code",
   "execution_count": 13,
   "metadata": {},
   "outputs": [
    {
     "data": {
      "text/html": [
       "<div>\n",
       "<style scoped>\n",
       "    .dataframe tbody tr th:only-of-type {\n",
       "        vertical-align: middle;\n",
       "    }\n",
       "\n",
       "    .dataframe tbody tr th {\n",
       "        vertical-align: top;\n",
       "    }\n",
       "\n",
       "    .dataframe thead th {\n",
       "        text-align: right;\n",
       "    }\n",
       "</style>\n",
       "<table border=\"1\" class=\"dataframe\">\n",
       "  <thead>\n",
       "    <tr style=\"text-align: right;\">\n",
       "      <th></th>\n",
       "      <th>0</th>\n",
       "      <th>1</th>\n",
       "    </tr>\n",
       "  </thead>\n",
       "  <tbody>\n",
       "    <tr>\n",
       "      <th>0</th>\n",
       "      <td>283</td>\n",
       "      <td>28</td>\n",
       "    </tr>\n",
       "    <tr>\n",
       "      <th>1</th>\n",
       "      <td>22</td>\n",
       "      <td>312</td>\n",
       "    </tr>\n",
       "  </tbody>\n",
       "</table>\n",
       "</div>"
      ],
      "text/plain": [
       "     0    1\n",
       "0  283   28\n",
       "1   22  312"
      ]
     },
     "execution_count": 13,
     "metadata": {},
     "output_type": "execute_result"
    }
   ],
   "source": [
    "conf_mat[0][0] = 283\n",
    "conf_mat[0][1] = 28\n",
    "conf_mat[1][0] = 22\n",
    "conf_mat[1][1] = 312\n",
    "DataFrame(conf_mat)"
   ]
  },
  {
   "cell_type": "code",
   "execution_count": 14,
   "metadata": {},
   "outputs": [
    {
     "data": {
      "text/plain": [
       "92.24806201550388"
      ]
     },
     "execution_count": 14,
     "metadata": {},
     "output_type": "execute_result"
    }
   ],
   "source": [
    "(283+312)/(283+317+17+28)*100"
   ]
  },
  {
   "cell_type": "code",
   "execution_count": 15,
   "metadata": {},
   "outputs": [
    {
     "data": {
      "text/plain": [
       "92.24806201550388"
      ]
     },
     "execution_count": 15,
     "metadata": {},
     "output_type": "execute_result"
    }
   ],
   "source": [
    "(283+312)/(283+312+22+28)*100"
   ]
  },
  {
   "cell_type": "code",
   "execution_count": null,
   "metadata": {},
   "outputs": [],
   "source": []
  }
 ],
 "metadata": {
  "kernelspec": {
   "display_name": "Python 3",
   "language": "python",
   "name": "python3"
  },
  "language_info": {
   "codemirror_mode": {
    "name": "ipython",
    "version": 3
   },
   "file_extension": ".py",
   "mimetype": "text/x-python",
   "name": "python",
   "nbconvert_exporter": "python",
   "pygments_lexer": "ipython3",
   "version": "3.7.3"
  },
  "varInspector": {
   "cols": {
    "lenName": 16,
    "lenType": 16,
    "lenVar": 40
   },
   "kernels_config": {
    "python": {
     "delete_cmd_postfix": "",
     "delete_cmd_prefix": "del ",
     "library": "var_list.py",
     "varRefreshCmd": "print(var_dic_list())"
    },
    "r": {
     "delete_cmd_postfix": ") ",
     "delete_cmd_prefix": "rm(",
     "library": "var_list.r",
     "varRefreshCmd": "cat(var_dic_list()) "
    }
   },
   "types_to_exclude": [
    "module",
    "function",
    "builtin_function_or_method",
    "instance",
    "_Feature"
   ],
   "window_display": false
  }
 },
 "nbformat": 4,
 "nbformat_minor": 2
}
