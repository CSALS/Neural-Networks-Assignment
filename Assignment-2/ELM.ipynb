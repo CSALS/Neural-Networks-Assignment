{
 "cells": [
  {
   "cell_type": "code",
   "execution_count": 97,
   "metadata": {},
   "outputs": [],
   "source": [
    "import numpy as np\n",
    "from pandas import *\n",
    "from preprocessing import getData"
   ]
  },
  {
   "cell_type": "code",
   "execution_count": 98,
   "metadata": {},
   "outputs": [],
   "source": [
    "def mappingFunction(X, InputSize, HiddenNeurons, RandomA, RandomB, name):\n",
    "    HiddenLayer = np.zeros((InputSize, HiddenNeurons))\n",
    "    if name == \"Gaussian\":\n",
    "        # H = exp(-b||x - a||)\n",
    "        for i in range(InputSize):\n",
    "            for j in range(HiddenNeurons):\n",
    "                HiddenLayer[i][j] = np.exp(-RandomB[0][j] * np.linalg.norm(X[i] - RandomA.T[j], 1))\n",
    "                if HiddenLayer[i][j] == 0:\n",
    "                    HiddenLayer[i][j] = 1e-10\n",
    "    elif name == \"Tanh\":\n",
    "        for i in range(InputSize):\n",
    "            for j in range(HiddenNeurons):\n",
    "                ExponentValue = np.exp(-(X[i].dot(RandomA.T[j].T) + RandomB[0][j]))\n",
    "                HiddenLayer[i][j] = (1 - ExponentValue)/(1 + ExponentValue)\n",
    "    return HiddenLayer"
   ]
  },
  {
   "cell_type": "code",
   "execution_count": 99,
   "metadata": {},
   "outputs": [],
   "source": [
    "def trainAndTest(train_X, train_Y, test_X, test_Y, name, HiddenNeurons):\n",
    "    # TRAINING\n",
    "    TrainSize = train_X.shape[0]\n",
    "    InputNeurons = train_X.shape[1]\n",
    "    # Random Feature Mapping, Evaluating Hidden Layer Matrix\n",
    "    if name == \"Gaussian\":\n",
    "        RandomA = np.random.rand(InputNeurons, HiddenNeurons)\n",
    "        RandomB = np.random.rand(1, HiddenNeurons)\n",
    "    else:\n",
    "        RandomA = np.random.randn(InputNeurons, HiddenNeurons)\n",
    "        RandomB = np.random.randn(1, HiddenNeurons)\n",
    "    HiddenLayer = mappingFunction(train_X, TrainSize, HiddenNeurons, RandomA, RandomB, name)\n",
    "    # Evaluating Weight Matrix\n",
    "    #WeightMatrix = np.linalg.inv(HiddenLayer.T.dot(HiddenLayer)).dot(HiddenLayer.T).dot(train_Y)\n",
    "#     WeightMatrix = np.linalg.pinv(HiddenLayer).dot(train_Y)\n",
    "    WeightMatrix = np.linalg.inv(HiddenLayer.T.dot(HiddenLayer)).dot(HiddenLayer.T).dot(train_Y)\n",
    "    \n",
    "    # TESTING\n",
    "    TestSize = test_X.shape[0]\n",
    "    TestHiddenLayer = mappingFunction(test_X, TestSize, HiddenNeurons, RandomA, RandomB, name)\n",
    "    PredictedOutput = TestHiddenLayer.dot(WeightMatrix)\n",
    "    #Compare with actual output\n",
    "    count = 0\n",
    "    TrueZeros = TrueOnes = FalseZeros = FalseOnes = 0\n",
    "    for i in range(TestSize):\n",
    "        actualClass = np.argmax(test_Y[i])\n",
    "        predictedClass = np.argmax(PredictedOutput[i])\n",
    "        if actualClass == predictedClass:\n",
    "            count += 1\n",
    "            if actualClass == 0:\n",
    "                TrueZeros += 1\n",
    "            else:\n",
    "                TrueOnes += 1\n",
    "        else:\n",
    "            if actualClass == 0:\n",
    "                FalseZeros += 1\n",
    "            else:\n",
    "                FalseOnes += 1\n",
    "    conf_mat = ([[TrueZeros, FalseZeros], [FalseOnes, TrueOnes]])\n",
    "    return [count/TestSize*100, conf_mat]"
   ]
  },
  {
   "cell_type": "code",
   "execution_count": 104,
   "metadata": {},
   "outputs": [],
   "source": [
    "#5 fold cross validation\n",
    "from sklearn.model_selection import KFold\n",
    "def k_fold(k, name):\n",
    "    kf = KFold(n_splits = k)\n",
    "    kf.get_n_splits(X)\n",
    "    fold = 0\n",
    "    avg_accuracy = 0\n",
    "    print(\"{} function :- \\n\".format(name))\n",
    "    for train_index, test_index in kf.split(X):\n",
    "        fold += 1\n",
    "        train_X, test_X = X[train_index], X[test_index]\n",
    "        train_Y, test_Y = Y[train_index], Y[test_index]\n",
    "        [accuracy, conf_mat] =  trainAndTest(train_X, train_Y, test_X, test_Y, name, HiddenNeurons)\n",
    "        print(\"Confusion matrix :- \")\n",
    "        print(DataFrame(conf_mat))\n",
    "        print()\n",
    "        print(\"Fold %d Accuracy :- %s\"%(fold, accuracy),\"%\")\n",
    "        avg_accuracy += accuracy\n",
    "    print(\"Average Accuracy is :- %s\"%(avg_accuracy/fold),\"%\")"
   ]
  },
  {
   "cell_type": "code",
   "execution_count": 105,
   "metadata": {},
   "outputs": [],
   "source": [
    "X, Y = getData('data.mat')"
   ]
  },
  {
   "cell_type": "code",
   "execution_count": 106,
   "metadata": {},
   "outputs": [
    {
     "name": "stdout",
     "output_type": "stream",
     "text": [
      "Number of hidden neurons :-  350\n",
      "Gaussian function :- \n",
      "\n",
      "Confusion matrix :- \n",
      "     0    1\n",
      "0  175   34\n",
      "1   32  189\n",
      "\n",
      "Fold 1 Accuracy :- 84.65116279069768 %\n",
      "Confusion matrix :- \n",
      "     0    1\n",
      "0  159   56\n",
      "1   41  174\n",
      "\n",
      "Fold 2 Accuracy :- 77.44186046511628 %\n",
      "Confusion matrix :- \n",
      "     0    1\n",
      "0  175   32\n",
      "1   60  163\n",
      "\n",
      "Fold 3 Accuracy :- 78.6046511627907 %\n",
      "Confusion matrix :- \n",
      "     0    1\n",
      "0  170   52\n",
      "1   41  166\n",
      "\n",
      "Fold 4 Accuracy :- 78.32167832167832 %\n",
      "Confusion matrix :- \n",
      "     0    1\n",
      "0  171   51\n",
      "1   43  164\n",
      "\n",
      "Fold 5 Accuracy :- 78.08857808857809 %\n",
      "Average Accuracy is :- 79.42158616577221 %\n"
     ]
    }
   ],
   "source": [
    "HiddenNeurons = 350\n",
    "print(\"Number of hidden neurons :- \",HiddenNeurons)\n",
    "k_fold(5, \"Gaussian\")"
   ]
  },
  {
   "cell_type": "code",
   "execution_count": 144,
   "metadata": {},
   "outputs": [
    {
     "name": "stdout",
     "output_type": "stream",
     "text": [
      "Number of hidden neurons :-  315\n",
      "Tanh function :- \n",
      "\n",
      "Confusion matrix :- \n",
      "     0    1\n",
      "0  185   24\n",
      "1   24  197\n",
      "\n",
      "Fold 1 Accuracy :- 88.83720930232558 %\n",
      "Confusion matrix :- \n",
      "     0    1\n",
      "0  181   34\n",
      "1   30  185\n",
      "\n",
      "Fold 2 Accuracy :- 85.11627906976744 %\n",
      "Confusion matrix :- \n",
      "     0    1\n",
      "0  176   31\n",
      "1   29  194\n",
      "\n",
      "Fold 3 Accuracy :- 86.04651162790698 %\n",
      "Confusion matrix :- \n",
      "     0    1\n",
      "0  200   22\n",
      "1   21  186\n",
      "\n",
      "Fold 4 Accuracy :- 89.97668997668997 %\n",
      "Confusion matrix :- \n",
      "     0    1\n",
      "0  183   39\n",
      "1   24  183\n",
      "\n",
      "Fold 5 Accuracy :- 85.3146853146853 %\n",
      "Average Accuracy is :- 87.05827505827506 %\n"
     ]
    }
   ],
   "source": [
    "HiddenNeurons = 315\n",
    "print(\"Number of hidden neurons :- \",HiddenNeurons)\n",
    "k_fold(5, \"Tanh\")"
   ]
  },
  {
   "cell_type": "code",
   "execution_count": null,
   "metadata": {},
   "outputs": [],
   "source": []
  }
 ],
 "metadata": {
  "kernelspec": {
   "display_name": "Python 3",
   "language": "python",
   "name": "python3"
  },
  "language_info": {
   "codemirror_mode": {
    "name": "ipython",
    "version": 3
   },
   "file_extension": ".py",
   "mimetype": "text/x-python",
   "name": "python",
   "nbconvert_exporter": "python",
   "pygments_lexer": "ipython3",
   "version": "3.7.3"
  },
  "varInspector": {
   "cols": {
    "lenName": 16,
    "lenType": 16,
    "lenVar": 40
   },
   "kernels_config": {
    "python": {
     "delete_cmd_postfix": "",
     "delete_cmd_prefix": "del ",
     "library": "var_list.py",
     "varRefreshCmd": "print(var_dic_list())"
    },
    "r": {
     "delete_cmd_postfix": ") ",
     "delete_cmd_prefix": "rm(",
     "library": "var_list.r",
     "varRefreshCmd": "cat(var_dic_list()) "
    }
   },
   "types_to_exclude": [
    "module",
    "function",
    "builtin_function_or_method",
    "instance",
    "_Feature"
   ],
   "window_display": false
  }
 },
 "nbformat": 4,
 "nbformat_minor": 2
}
