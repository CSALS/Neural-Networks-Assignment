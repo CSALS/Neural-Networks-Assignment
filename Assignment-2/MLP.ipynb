{
 "cells": [
  {
   "cell_type": "code",
   "execution_count": 22,
   "metadata": {},
   "outputs": [],
   "source": [
    "import numpy as np\n",
    "from preprocessing import getData\n",
    "from pandas import *"
   ]
  },
  {
   "cell_type": "code",
   "execution_count": 23,
   "metadata": {},
   "outputs": [],
   "source": [
    "def sigmoid(Z):\n",
    "    return 1/(1 + np.exp(-Z))\n",
    "def sigmoidDerivate(A):\n",
    "    return A*(1-A)"
   ]
  },
  {
   "cell_type": "code",
   "execution_count": 24,
   "metadata": {},
   "outputs": [],
   "source": [
    "def train(train_X,train_Y,train_size,features,classes,weight_seed):\n",
    "    #Training\n",
    "    num_hidden1 = 10\n",
    "    num_hidden2 = 5\n",
    "    num_iterations = 2000\n",
    "    #alpha = [0.007515000000000001,0.001503,0.015030000000000002]\n",
    "    alpha = [0.0075,0.0075,0.0075]\n",
    "    np.random.seed(weight_seed)\n",
    "    #Initialization of weights\n",
    "    W1 = np.random.randn(num_hidden1,features)\n",
    "    b1 = np.zeros((num_hidden1,1))\n",
    "    W2 = np.random.randn(num_hidden2,num_hidden1)\n",
    "    b2 = np.zeros((num_hidden2,1))\n",
    "    W3 = np.random.randn(classes,num_hidden2)\n",
    "    b3 = np.zeros((classes,1))\n",
    "    costs = []\n",
    "    iters = []\n",
    "    for iteration in range(num_iterations):\n",
    "        #Forward propagation\n",
    "        Z1 = np.dot(W1,train_X) + b1\n",
    "        A1 = sigmoid(Z1)\n",
    "        Z2 = np.dot(W2,A1) + b2\n",
    "        A2 = sigmoid(Z2)\n",
    "        Z3 = np.dot(W3,A2) + b3\n",
    "        A3 = Y_tilda = sigmoid(Z3)\n",
    "        #Calculating cost\n",
    "        costs.append((np.sum(np.power((Y_tilda-train_Y),2)))/(2*train_size*classes))\n",
    "        iters.append(iteration+1)\n",
    "        #Backpropagation\n",
    "        delta_3 = (Y_tilda - train_Y)*sigmoidDerivate(A3)\n",
    "        delta_2 = W3.T.dot((delta_3))*sigmoidDerivate(A2)\n",
    "        delta_1 = W2.T.dot((delta_2))*sigmoidDerivate(A1)\n",
    "        #Update weights\n",
    "        W3 = W3 - alpha[0]*np.dot(delta_3,A2.T)\n",
    "        b3 = b3 - alpha[0]*np.sum(delta_3,axis=1,keepdims=True)\n",
    "        W2 = W2 - alpha[1]*np.dot(delta_2,A1.T)\n",
    "        b2 = b2 - alpha[1]*np.sum(delta_2,axis=1,keepdims=True)\n",
    "        W1 = W1 - alpha[2]*np.dot(delta_1,train_X.T)\n",
    "        b1 = b1 - alpha[2]*np.sum(delta_1,axis=1,keepdims=True)\n",
    "    \n",
    "    return W1,b1,W2,b2,W3,b3"
   ]
  },
  {
   "cell_type": "code",
   "execution_count": 25,
   "metadata": {},
   "outputs": [],
   "source": [
    "def test(test_X,test_Y,W1,b1,W2,b2,W3,b3):\n",
    "    #Testing\n",
    "    Z1 = np.dot(W1,test_X) + b1\n",
    "    A1 = sigmoid(Z1)\n",
    "    Z2 = np.dot(W2,A1) + b2\n",
    "    A2 = sigmoid(Z2)\n",
    "    Z3 = np.dot(W3,A2) + b3\n",
    "    Y_tilda = sigmoid(Z3)\n",
    "    test_size = test_X.shape[1]\n",
    "    count = 0\n",
    "    TrueZeros = TrueOnes = FalseZeros = FalseOnes = 0\n",
    "    for i in range(test_size):\n",
    "        actualClass = np.argmax(test_Y.T[i,:])\n",
    "        predictedClass = np.argmax(Y_tilda.T[i,:])\n",
    "        if actualClass == predictedClass:\n",
    "            count += 1\n",
    "            if actualClass == 0:\n",
    "                TrueZeros += 1\n",
    "            else:\n",
    "                TrueOnes += 1\n",
    "        else:\n",
    "            if actualClass == 0:\n",
    "                FalseZeros += 1\n",
    "            else:\n",
    "                FalseOnes += 1\n",
    "    conf_mat = ([[TrueZeros, FalseZeros], [FalseOnes, TrueOnes]])\n",
    "    accuracy = count*100/test_size\n",
    "    return [accuracy, conf_mat]"
   ]
  },
  {
   "cell_type": "code",
   "execution_count": 33,
   "metadata": {},
   "outputs": [],
   "source": [
    "#Holdout method -> 70,30\n",
    "def holdout(X,Y,train_percent):\n",
    "    train_size = int(train_percent*X.shape[0])\n",
    "    test_size = X.shape[0] - train_size\n",
    "    train_X = X[:train_size,:]\n",
    "    test_X = X[train_size:,:]\n",
    "    train_Y = Y[:train_size,:]\n",
    "    test_Y = Y[train_size:,:]\n",
    "    instances = train_X.shape[0] # equals to train_size\n",
    "    classes = test_Y.shape[1]\n",
    "    features = train_X.shape[1]\n",
    "    train_X = train_X.T\n",
    "    test_X = test_X.T\n",
    "    train_Y = train_Y.T\n",
    "    test_Y = test_Y.T\n",
    "    W1,b1,W2,b2,W3,b3 = train(train_X,train_Y,train_size,features,classes,1)\n",
    "    [accuracy, conf_mat] = test(test_X,test_Y,W1,b1,W2,b2,W3,b3)\n",
    "    print(\"70-30 Holdout Method :- \")\n",
    "    print()\n",
    "    print(\"Confusion Matrix :-\")\n",
    "    print(DataFrame(conf_mat))\n",
    "    print()\n",
    "    print(\"Accuracy :-\", accuracy)"
   ]
  },
  {
   "cell_type": "code",
   "execution_count": 34,
   "metadata": {},
   "outputs": [],
   "source": [
    "#5 fold cross validation\n",
    "from sklearn.model_selection import KFold\n",
    "def k_fold(k):\n",
    "    kf = KFold(n_splits=5)\n",
    "    kf.get_n_splits(X)\n",
    "    fold = 0\n",
    "    avg_accuracy = 0\n",
    "    for train_index, test_index in kf.split(X):\n",
    "        fold += 1\n",
    "        train_X, test_X = X[train_index], X[test_index]\n",
    "        train_Y, test_Y = Y[train_index], Y[test_index]\n",
    "        instances = train_X.shape[0]\n",
    "        classes = test_Y.shape[1]\n",
    "        features = train_X.shape[1]\n",
    "        train_X = train_X.T\n",
    "        test_X = test_X.T\n",
    "        train_Y = train_Y.T\n",
    "        test_Y = test_Y.T\n",
    "        W1,b1,W2,b2,W3,b3 = train(train_X,train_Y,instances,features,classes,5)\n",
    "        [accuracy, conf_mat] = test(test_X,test_Y,W1,b1,W2,b2,W3,b3)\n",
    "        print(\"Fold %d Accuracy :- %s\"%(fold,accuracy),\"%\")\n",
    "        print()\n",
    "        print(\"Confusion Matrix :-\")\n",
    "        print(DataFrame(conf_mat))\n",
    "        print()\n",
    "        avg_accuracy += accuracy\n",
    "\n",
    "    print(\"Average Accuracy is :- %s\"%(avg_accuracy/fold),\"%\")"
   ]
  },
  {
   "cell_type": "code",
   "execution_count": 35,
   "metadata": {},
   "outputs": [],
   "source": [
    "X, Y = getData('data.mat')"
   ]
  },
  {
   "cell_type": "code",
   "execution_count": 36,
   "metadata": {},
   "outputs": [
    {
     "ename": "TypeError",
     "evalue": "cannot unpack non-iterable float object",
     "output_type": "error",
     "traceback": [
      "\u001b[1;31m---------------------------------------------------------------------------\u001b[0m",
      "\u001b[1;31mTypeError\u001b[0m                                 Traceback (most recent call last)",
      "\u001b[1;32m<ipython-input-36-4552923b3f13>\u001b[0m in \u001b[0;36m<module>\u001b[1;34m\u001b[0m\n\u001b[1;32m----> 1\u001b[1;33m \u001b[0mholdout\u001b[0m\u001b[1;33m(\u001b[0m\u001b[0mX\u001b[0m\u001b[1;33m,\u001b[0m\u001b[0mY\u001b[0m\u001b[1;33m,\u001b[0m\u001b[1;36m0.7\u001b[0m\u001b[1;33m)\u001b[0m\u001b[1;33m\u001b[0m\u001b[1;33m\u001b[0m\u001b[0m\n\u001b[0m",
      "\u001b[1;32m<ipython-input-33-cc7116fb46fb>\u001b[0m in \u001b[0;36mholdout\u001b[1;34m(X, Y, train_percent)\u001b[0m\n\u001b[0;32m     15\u001b[0m     \u001b[0mtest_Y\u001b[0m \u001b[1;33m=\u001b[0m \u001b[0mtest_Y\u001b[0m\u001b[1;33m.\u001b[0m\u001b[0mT\u001b[0m\u001b[1;33m\u001b[0m\u001b[1;33m\u001b[0m\u001b[0m\n\u001b[0;32m     16\u001b[0m     \u001b[0mW1\u001b[0m\u001b[1;33m,\u001b[0m\u001b[0mb1\u001b[0m\u001b[1;33m,\u001b[0m\u001b[0mW2\u001b[0m\u001b[1;33m,\u001b[0m\u001b[0mb2\u001b[0m\u001b[1;33m,\u001b[0m\u001b[0mW3\u001b[0m\u001b[1;33m,\u001b[0m\u001b[0mb3\u001b[0m \u001b[1;33m=\u001b[0m \u001b[0mtrain\u001b[0m\u001b[1;33m(\u001b[0m\u001b[0mtrain_X\u001b[0m\u001b[1;33m,\u001b[0m\u001b[0mtrain_Y\u001b[0m\u001b[1;33m,\u001b[0m\u001b[0mtrain_size\u001b[0m\u001b[1;33m,\u001b[0m\u001b[0mfeatures\u001b[0m\u001b[1;33m,\u001b[0m\u001b[0mclasses\u001b[0m\u001b[1;33m,\u001b[0m\u001b[1;36m1\u001b[0m\u001b[1;33m)\u001b[0m\u001b[1;33m\u001b[0m\u001b[1;33m\u001b[0m\u001b[0m\n\u001b[1;32m---> 17\u001b[1;33m     \u001b[1;33m[\u001b[0m\u001b[0maccuracy\u001b[0m\u001b[1;33m,\u001b[0m \u001b[0mconf_mat\u001b[0m\u001b[1;33m]\u001b[0m \u001b[1;33m=\u001b[0m \u001b[0mtest\u001b[0m\u001b[1;33m(\u001b[0m\u001b[0mtest_X\u001b[0m\u001b[1;33m,\u001b[0m\u001b[0mtest_Y\u001b[0m\u001b[1;33m,\u001b[0m\u001b[0mW1\u001b[0m\u001b[1;33m,\u001b[0m\u001b[0mb1\u001b[0m\u001b[1;33m,\u001b[0m\u001b[0mW2\u001b[0m\u001b[1;33m,\u001b[0m\u001b[0mb2\u001b[0m\u001b[1;33m,\u001b[0m\u001b[0mW3\u001b[0m\u001b[1;33m,\u001b[0m\u001b[0mb3\u001b[0m\u001b[1;33m)\u001b[0m\u001b[1;33m\u001b[0m\u001b[1;33m\u001b[0m\u001b[0m\n\u001b[0m\u001b[0;32m     18\u001b[0m     \u001b[0mprint\u001b[0m\u001b[1;33m(\u001b[0m\u001b[1;34m\"70-30 Holdout Method :- \"\u001b[0m\u001b[1;33m)\u001b[0m\u001b[1;33m\u001b[0m\u001b[1;33m\u001b[0m\u001b[0m\n\u001b[0;32m     19\u001b[0m     \u001b[0mprint\u001b[0m\u001b[1;33m(\u001b[0m\u001b[1;33m)\u001b[0m\u001b[1;33m\u001b[0m\u001b[1;33m\u001b[0m\u001b[0m\n",
      "\u001b[1;31mTypeError\u001b[0m: cannot unpack non-iterable float object"
     ]
    }
   ],
   "source": [
    "holdout(X,Y,0.7)"
   ]
  },
  {
   "cell_type": "code",
   "execution_count": null,
   "metadata": {},
   "outputs": [],
   "source": [
    "k_fold(5)"
   ]
  },
  {
   "cell_type": "code",
   "execution_count": null,
   "metadata": {},
   "outputs": [],
   "source": []
  }
 ],
 "metadata": {
  "kernelspec": {
   "display_name": "Python 3",
   "language": "python",
   "name": "python3"
  },
  "language_info": {
   "codemirror_mode": {
    "name": "ipython",
    "version": 3
   },
   "file_extension": ".py",
   "mimetype": "text/x-python",
   "name": "python",
   "nbconvert_exporter": "python",
   "pygments_lexer": "ipython3",
   "version": "3.7.3"
  },
  "varInspector": {
   "cols": {
    "lenName": 16,
    "lenType": 16,
    "lenVar": 40
   },
   "kernels_config": {
    "python": {
     "delete_cmd_postfix": "",
     "delete_cmd_prefix": "del ",
     "library": "var_list.py",
     "varRefreshCmd": "print(var_dic_list())"
    },
    "r": {
     "delete_cmd_postfix": ") ",
     "delete_cmd_prefix": "rm(",
     "library": "var_list.r",
     "varRefreshCmd": "cat(var_dic_list()) "
    }
   },
   "types_to_exclude": [
    "module",
    "function",
    "builtin_function_or_method",
    "instance",
    "_Feature"
   ],
   "window_display": false
  }
 },
 "nbformat": 4,
 "nbformat_minor": 2
}
