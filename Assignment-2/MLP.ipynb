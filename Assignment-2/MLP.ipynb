{
 "cells": [
  {
   "cell_type": "code",
   "execution_count": 22,
   "metadata": {},
   "outputs": [],
   "source": [
    "import numpy as np\n",
    "from preprocessing import getData\n",
    "from pandas import *"
   ]
  },
  {
   "cell_type": "code",
   "execution_count": 23,
   "metadata": {},
   "outputs": [],
   "source": [
    "def sigmoid(Z):\n",
    "    return 1/(1 + np.exp(-Z))\n",
    "def sigmoidDerivate(A):\n",
    "    return A*(1-A)"
   ]
  },
  {
   "cell_type": "code",
   "execution_count": 24,
   "metadata": {},
   "outputs": [],
   "source": [
    "def train(train_X,train_Y,train_size,features,classes,weight_seed):\n",
    "    #Training\n",
    "    num_hidden1 = 10\n",
    "    num_hidden2 = 5\n",
    "    num_iterations = 2000\n",
    "    alpha = [0.0075,0.0075,0.0075]\n",
    "    np.random.seed(weight_seed)\n",
    "    #Initialization of weights\n",
    "    W1 = np.random.randn(num_hidden1,features)\n",
    "    b1 = np.zeros((num_hidden1,1))\n",
    "    W2 = np.random.randn(num_hidden2,num_hidden1)\n",
    "    b2 = np.zeros((num_hidden2,1))\n",
    "    W3 = np.random.randn(classes,num_hidden2)\n",
    "    b3 = np.zeros((classes,1))\n",
    "    costs = []\n",
    "    iters = []\n",
    "    for iteration in range(num_iterations):\n",
    "        #Forward propagation\n",
    "        Z1 = np.dot(W1,train_X) + b1\n",
    "        A1 = sigmoid(Z1)\n",
    "        Z2 = np.dot(W2,A1) + b2\n",
    "        A2 = sigmoid(Z2)\n",
    "        Z3 = np.dot(W3,A2) + b3\n",
    "        A3 = Y_tilda = sigmoid(Z3)\n",
    "        #Calculating cost\n",
    "        costs.append((np.sum(np.power((Y_tilda-train_Y),2)))/(2*train_size*classes))\n",
    "        iters.append(iteration+1)\n",
    "        #Backpropagation\n",
    "        delta_3 = (Y_tilda - train_Y)*sigmoidDerivate(A3)\n",
    "        delta_2 = W3.T.dot((delta_3))*sigmoidDerivate(A2)\n",
    "        delta_1 = W2.T.dot((delta_2))*sigmoidDerivate(A1)\n",
    "        #Update weights\n",
    "        W3 = W3 - alpha[0]*np.dot(delta_3,A2.T)\n",
    "        b3 = b3 - alpha[0]*np.sum(delta_3,axis=1,keepdims=True)\n",
    "        W2 = W2 - alpha[1]*np.dot(delta_2,A1.T)\n",
    "        b2 = b2 - alpha[1]*np.sum(delta_2,axis=1,keepdims=True)\n",
    "        W1 = W1 - alpha[2]*np.dot(delta_1,train_X.T)\n",
    "        b1 = b1 - alpha[2]*np.sum(delta_1,axis=1,keepdims=True)\n",
    "    \n",
    "    return W1,b1,W2,b2,W3,b3"
   ]
  },
  {
   "cell_type": "code",
   "execution_count": 42,
   "metadata": {},
   "outputs": [],
   "source": [
    "def test(test_X,test_Y,W1,b1,W2,b2,W3,b3):\n",
    "    #Testing\n",
    "    Z1 = np.dot(W1,test_X) + b1\n",
    "    A1 = sigmoid(Z1)\n",
    "    Z2 = np.dot(W2,A1) + b2\n",
    "    A2 = sigmoid(Z2)\n",
    "    Z3 = np.dot(W3,A2) + b3\n",
    "    Y_tilda = sigmoid(Z3)\n",
    "    test_size = test_X.shape[1]\n",
    "    count = 0\n",
    "    TrueZeros = TrueOnes = FalseZeros = FalseOnes = 0\n",
    "    for i in range(test_size):\n",
    "        actualClass = np.argmax(test_Y.T[i,:])\n",
    "        predictedClass = np.argmax(Y_tilda.T[i,:])\n",
    "        if actualClass == predictedClass:\n",
    "            count += 1\n",
    "            if actualClass == 0:\n",
    "                TrueZeros += 1\n",
    "            else:\n",
    "                TrueOnes += 1\n",
    "        else:\n",
    "            if actualClass == 0:\n",
    "                FalseZeros += 1\n",
    "            else:\n",
    "                FalseOnes += 1\n",
    "    conf_mat = ([[TrueZeros, FalseZeros], [FalseOnes, TrueOnes]])\n",
    "    accuracy = count*100/test_size\n",
    "    return [accuracy, conf_mat]"
   ]
  },
  {
   "cell_type": "code",
   "execution_count": 43,
   "metadata": {},
   "outputs": [],
   "source": [
    "#Holdout method -> 70,30\n",
    "def holdout(X,Y,train_percent):\n",
    "    train_size = int(train_percent*X.shape[0])\n",
    "    test_size = X.shape[0] - train_size\n",
    "    train_X = X[:train_size,:]\n",
    "    test_X = X[train_size:,:]\n",
    "    train_Y = Y[:train_size,:]\n",
    "    test_Y = Y[train_size:,:]\n",
    "    instances = train_X.shape[0] # equals to train_size\n",
    "    classes = test_Y.shape[1]\n",
    "    features = train_X.shape[1]\n",
    "    train_X = train_X.T\n",
    "    test_X = test_X.T\n",
    "    train_Y = train_Y.T\n",
    "    test_Y = test_Y.T\n",
    "    W1,b1,W2,b2,W3,b3 = train(train_X,train_Y,train_size,features,classes,1)\n",
    "    [accuracy, conf_mat] = test(test_X,test_Y,W1,b1,W2,b2,W3,b3)\n",
    "    print(\"70-30 Holdout Method :- \")\n",
    "    print()\n",
    "    print(\"Confusion Matrix :-\")\n",
    "    print(DataFrame(conf_mat))\n",
    "    print()\n",
    "    print(\"Accuracy :-\", accuracy)"
   ]
  },
  {
   "cell_type": "code",
   "execution_count": 44,
   "metadata": {},
   "outputs": [],
   "source": [
    "#5 fold cross validation\n",
    "from sklearn.model_selection import KFold\n",
    "def k_fold(k):\n",
    "    kf = KFold(n_splits=5)\n",
    "    kf.get_n_splits(X)\n",
    "    fold = 0\n",
    "    avg_accuracy = 0\n",
    "    for train_index, test_index in kf.split(X):\n",
    "        fold += 1\n",
    "        train_X, test_X = X[train_index], X[test_index]\n",
    "        train_Y, test_Y = Y[train_index], Y[test_index]\n",
    "        instances = train_X.shape[0]\n",
    "        classes = test_Y.shape[1]\n",
    "        features = train_X.shape[1]\n",
    "        train_X = train_X.T\n",
    "        test_X = test_X.T\n",
    "        train_Y = train_Y.T\n",
    "        test_Y = test_Y.T\n",
    "        W1,b1,W2,b2,W3,b3 = train(train_X,train_Y,instances,features,classes,5)\n",
    "        [accuracy, conf_mat] = test(test_X,test_Y,W1,b1,W2,b2,W3,b3)\n",
    "        print(\"Fold %d Accuracy :- %s\"%(fold,accuracy),\"%\")\n",
    "        print()\n",
    "        print(\"Confusion Matrix :-\")\n",
    "        print(DataFrame(conf_mat))\n",
    "        print()\n",
    "        avg_accuracy += accuracy\n",
    "\n",
    "    print(\"Average Accuracy is :- %s\"%(avg_accuracy/fold),\"%\")"
   ]
  },
  {
   "cell_type": "code",
   "execution_count": 45,
   "metadata": {},
   "outputs": [],
   "source": [
    "X, Y = getData('data.mat')"
   ]
  },
  {
   "cell_type": "code",
   "execution_count": 46,
   "metadata": {},
   "outputs": [
    {
     "name": "stdout",
     "output_type": "stream",
     "text": [
      "70-30 Holdout Method :- \n",
      "\n",
      "Confusion Matrix :-\n",
      "     0    1\n",
      "0  288   45\n",
      "1   35  277\n",
      "\n",
      "Accuracy :- 87.59689922480621\n"
     ]
    }
   ],
   "source": [
    "holdout(X,Y,0.7)"
   ]
  },
  {
   "cell_type": "code",
   "execution_count": 47,
   "metadata": {},
   "outputs": [
    {
     "name": "stdout",
     "output_type": "stream",
     "text": [
      "Fold 1 Accuracy :- 89.76744186046511 %\n",
      "\n",
      "Confusion Matrix :-\n",
      "     0    1\n",
      "0  185   23\n",
      "1   21  201\n",
      "\n",
      "Fold 2 Accuracy :- 90.93023255813954 %\n",
      "\n",
      "Confusion Matrix :-\n",
      "     0    1\n",
      "0  193   12\n",
      "1   27  198\n",
      "\n",
      "Fold 3 Accuracy :- 92.55813953488372 %\n",
      "\n",
      "Confusion Matrix :-\n",
      "     0    1\n",
      "0  204   17\n",
      "1   15  194\n",
      "\n",
      "Fold 4 Accuracy :- 87.41258741258741 %\n",
      "\n",
      "Confusion Matrix :-\n",
      "     0    1\n",
      "0  186   22\n",
      "1   32  189\n",
      "\n",
      "Fold 5 Accuracy :- 88.81118881118881 %\n",
      "\n",
      "Confusion Matrix :-\n",
      "     0    1\n",
      "0  207   26\n",
      "1   22  174\n",
      "\n",
      "Average Accuracy is :- 89.89591803545292 %\n"
     ]
    }
   ],
   "source": [
    "k_fold(5)"
   ]
  },
  {
   "cell_type": "code",
   "execution_count": null,
   "metadata": {},
   "outputs": [],
   "source": []
  }
 ],
 "metadata": {
  "kernelspec": {
   "display_name": "Python 3",
   "language": "python",
   "name": "python3"
  },
  "language_info": {
   "codemirror_mode": {
    "name": "ipython",
    "version": 3
   },
   "file_extension": ".py",
   "mimetype": "text/x-python",
   "name": "python",
   "nbconvert_exporter": "python",
   "pygments_lexer": "ipython3",
   "version": "3.7.3"
  },
  "varInspector": {
   "cols": {
    "lenName": 16,
    "lenType": 16,
    "lenVar": 40
   },
   "kernels_config": {
    "python": {
     "delete_cmd_postfix": "",
     "delete_cmd_prefix": "del ",
     "library": "var_list.py",
     "varRefreshCmd": "print(var_dic_list())"
    },
    "r": {
     "delete_cmd_postfix": ") ",
     "delete_cmd_prefix": "rm(",
     "library": "var_list.r",
     "varRefreshCmd": "cat(var_dic_list()) "
    }
   },
   "types_to_exclude": [
    "module",
    "function",
    "builtin_function_or_method",
    "instance",
    "_Feature"
   ],
   "window_display": false
  }
 },
 "nbformat": 4,
 "nbformat_minor": 2
}
