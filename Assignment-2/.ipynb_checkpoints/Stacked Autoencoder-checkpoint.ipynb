{
 "cells": [
  {
   "cell_type": "code",
   "execution_count": 2,
   "metadata": {},
   "outputs": [],
   "source": [
    "import numpy as np\n",
    "from preprocessing import getData"
   ]
  },
  {
   "cell_type": "code",
   "execution_count": 15,
   "metadata": {},
   "outputs": [],
   "source": [
    "def sigmoid(Z):\n",
    "    return 1/(1 + np.exp(-Z))\n",
    "def sigmoidDerivative(A):\n",
    "    return A*(1-A)\n",
    "def PreTrain(Input, Output, HiddenNeurons):\n",
    "    #Parameters\n",
    "    Features = Input.shape[0]\n",
    "    Classes = Output.shape[0]\n",
    "    num_iterations = 1000\n",
    "    alpha = 0.05\n",
    "    np.random.seed(15)\n",
    "    #Random Initialization of weights\n",
    "    W1 = np.random.randn(HiddenNeurons, Features)\n",
    "    b1 = np.zeros((HiddenNeurons, 1))\n",
    "    W2 = np.random.randn(Classes, HiddenNeurons)\n",
    "    b2 = np.zeros((Classes, 1))\n",
    "    #Start Training\n",
    "    for iteration in range(num_iterations):\n",
    "        #Forward Propagation\n",
    "        Z1 = W1.dot(Input) + b1\n",
    "        A1 = sigmoid(Z1)\n",
    "        Z2 = W2.dot(A1) + b2\n",
    "        A2 = Y_tilda = sigmoid(Z2)\n",
    "        #Backpropagation\n",
    "        Delta_2 = (Y_tilda - Output) * sigmoidDerivative(A2)\n",
    "        Delta_1 = W2.T.dot(Delta_2) * sigmoidDerivative(A1)\n",
    "        #Weight and bias updation\n",
    "        W2 = W2 - alpha * np.dot(Delta_2, A1.T)\n",
    "        W1 = W1 - alpha * np.dot(Delta_1, Input.T)\n",
    "        b2 = b2 - alpha * np.sum(Delta_2, axis = 1, keepdims = True)\n",
    "        b1 = b1 - alpha * np.sum(Delta_1, axis = 1, keepdims = True)\n",
    "    #Completed Training\n",
    "    return [W1, b1, sigmoid(W1.dot(Input) + b1)]"
   ]
  },
  {
   "cell_type": "code",
   "execution_count": 21,
   "metadata": {},
   "outputs": [],
   "source": [
    "X, Y = getData('data.mat')\n",
    "#Holdout method\n",
    "train_percent = 0.7\n",
    "train_size = int(train_percent*X.shape[0])\n",
    "train_X = X[:train_size,:]\n",
    "test_X = X[train_size:,:]\n",
    "train_Y = Y[:train_size,:]\n",
    "test_Y = Y[train_size:,:]\n",
    "train_X = train_X.T\n",
    "train_Y = train_Y.T\n",
    "test_X = test_X.T\n",
    "test_Y = test_Y.T"
   ]
  },
  {
   "cell_type": "code",
   "execution_count": null,
   "metadata": {},
   "outputs": [],
   "source": [
    "train_X"
   ]
  },
  {
   "cell_type": "code",
   "execution_count": 18,
   "metadata": {},
   "outputs": [],
   "source": [
    "#Stacked Autoencoder based Deep Neural Network\n",
    "HiddenLayer = [75, 75, 75]"
   ]
  },
  {
   "cell_type": "code",
   "execution_count": 19,
   "metadata": {},
   "outputs": [],
   "source": [
    "#Pre-training the three autoencoders\n",
    "[W1, b1, Output1] = PreTrain(train_X, train_X, HiddenLayer[0])\n",
    "[W2, b2, Output2] = PreTrain(Output1, Output1, HiddenLayer[1])\n",
    "[W3, b3, Output3] = PreTrain(Output2, Output2, HiddenLayer[2])"
   ]
  },
  {
   "cell_type": "code",
   "execution_count": 20,
   "metadata": {},
   "outputs": [
    {
     "ename": "ValueError",
     "evalue": "shapes (75,72) and (2,1503) not aligned: 72 (dim 1) != 2 (dim 0)",
     "output_type": "error",
     "traceback": [
      "\u001b[1;31m---------------------------------------------------------------------------\u001b[0m",
      "\u001b[1;31mValueError\u001b[0m                                Traceback (most recent call last)",
      "\u001b[1;32m<ipython-input-20-d99be4bf842a>\u001b[0m in \u001b[0;36m<module>\u001b[1;34m\u001b[0m\n\u001b[0;32m     19\u001b[0m \u001b[1;32mfor\u001b[0m \u001b[0miteration\u001b[0m \u001b[1;32min\u001b[0m \u001b[0mrange\u001b[0m\u001b[1;33m(\u001b[0m\u001b[0mnum_iterations\u001b[0m\u001b[1;33m)\u001b[0m\u001b[1;33m:\u001b[0m\u001b[1;33m\u001b[0m\u001b[1;33m\u001b[0m\u001b[0m\n\u001b[0;32m     20\u001b[0m     \u001b[1;31m#Forward Propagation\u001b[0m\u001b[1;33m\u001b[0m\u001b[1;33m\u001b[0m\u001b[1;33m\u001b[0m\u001b[0m\n\u001b[1;32m---> 21\u001b[1;33m     \u001b[0mZ1\u001b[0m \u001b[1;33m=\u001b[0m \u001b[0mW1\u001b[0m\u001b[1;33m.\u001b[0m\u001b[0mdot\u001b[0m\u001b[1;33m(\u001b[0m\u001b[0mInput\u001b[0m\u001b[1;33m)\u001b[0m \u001b[1;33m+\u001b[0m \u001b[0mb1\u001b[0m\u001b[1;33m\u001b[0m\u001b[1;33m\u001b[0m\u001b[0m\n\u001b[0m\u001b[0;32m     22\u001b[0m     \u001b[0mA1\u001b[0m \u001b[1;33m=\u001b[0m \u001b[0msigmoid\u001b[0m\u001b[1;33m(\u001b[0m\u001b[0mZ1\u001b[0m\u001b[1;33m)\u001b[0m\u001b[1;33m\u001b[0m\u001b[1;33m\u001b[0m\u001b[0m\n\u001b[0;32m     23\u001b[0m     \u001b[0mZ2\u001b[0m \u001b[1;33m=\u001b[0m \u001b[0mW2\u001b[0m\u001b[1;33m.\u001b[0m\u001b[0mdot\u001b[0m\u001b[1;33m(\u001b[0m\u001b[0mA1\u001b[0m\u001b[1;33m)\u001b[0m \u001b[1;33m+\u001b[0m \u001b[0mb2\u001b[0m\u001b[1;33m\u001b[0m\u001b[1;33m\u001b[0m\u001b[0m\n",
      "\u001b[1;31mValueError\u001b[0m: shapes (75,72) and (2,1503) not aligned: 72 (dim 1) != 2 (dim 0)"
     ]
    }
   ],
   "source": [
    "#Fine Tuning by stacking all those three autoencoders\n",
    "\"\"\"\n",
    "      W1     W2      W3      W4\n",
    "Input --- H1 ---- H2 ---- H3 --- Output\n",
    "      b1     b2      b3      b4\n",
    "Use W1, W2, W3 from pre-trained autoencoders\n",
    "Randomly initalize W4\n",
    "\"\"\"\n",
    "#Parameters\n",
    "Input = train_X, Output = train_Y\n",
    "Classes = Output.shape[0]\n",
    "num_iterations = 1000\n",
    "alpha = 0.05\n",
    "np.random.seed(17)\n",
    "#Random initialize W4, b4\n",
    "W4 = np.random.randn(Classes, HiddenLayer[2])\n",
    "b4 = np.zeros((Classes, 1))\n",
    "#Start Training\n",
    "for iteration in range(num_iterations):\n",
    "    #Forward Propagation\n",
    "    Z1 = W1.dot(Input) + b1\n",
    "    A1 = sigmoid(Z1)\n",
    "    Z2 = W2.dot(A1) + b2\n",
    "    A2 = sigmoid(Z2)\n",
    "    Z3 = W3.dot(A2) + b3\n",
    "    A3 = sigmoid(Z3)\n",
    "    Z4 = W4.dot(A3) + b4\n",
    "    A4 = Y_tilda = sigmoid(Z4)\n",
    "    #Backpropagation\n",
    "    delta_4 = (Y_tilda - Output) * sigmoidDerivative(A4)\n",
    "    delta_3 = W4.T.dot(delta_4) * sigmoidDerivate(A3)\n",
    "    delta_2 = W3.T.dot(delta_3) * sigmoidDerivate(A2)\n",
    "    delta_1 = W2.T.dot(delta_2) * sigmoidDerivate(A1)\n",
    "    #Weight and bias updation\n",
    "    W4 = W4 - alpha * np.dot(delta_4, A3.T)\n",
    "    b3 = b3 - alpha * np.sum(delta_4, axis = 1, keepdims = True)\n",
    "    W3 = W3 - alpha * np.dot(delta_3, A2.T)\n",
    "    b3 = b3 - alpha * np.sum(delta_3, axis = 1, keepdims = True)\n",
    "    W2 = W2 - alpha * np.dot(delta_2, A1.T)\n",
    "    b2 = b2 - alpha * np.sum(delta_2, axis = 1 ,keepdims = True)\n",
    "    W1 = W1 - alpha * np.dot(delta_1, train_X.T)\n",
    "    b1 = b1 - alpha * np.sum(delta_1, axis = 1, keepdims = True)\n",
    "#After end of loop we have optimal parameters"
   ]
  },
  {
   "cell_type": "code",
   "execution_count": null,
   "metadata": {},
   "outputs": [],
   "source": []
  }
 ],
 "metadata": {
  "kernelspec": {
   "display_name": "Python 3",
   "language": "python",
   "name": "python3"
  },
  "language_info": {
   "codemirror_mode": {
    "name": "ipython",
    "version": 3
   },
   "file_extension": ".py",
   "mimetype": "text/x-python",
   "name": "python",
   "nbconvert_exporter": "python",
   "pygments_lexer": "ipython3",
   "version": "3.7.3"
  },
  "varInspector": {
   "cols": {
    "lenName": 16,
    "lenType": 16,
    "lenVar": 40
   },
   "kernels_config": {
    "python": {
     "delete_cmd_postfix": "",
     "delete_cmd_prefix": "del ",
     "library": "var_list.py",
     "varRefreshCmd": "print(var_dic_list())"
    },
    "r": {
     "delete_cmd_postfix": ") ",
     "delete_cmd_prefix": "rm(",
     "library": "var_list.r",
     "varRefreshCmd": "cat(var_dic_list()) "
    }
   },
   "types_to_exclude": [
    "module",
    "function",
    "builtin_function_or_method",
    "instance",
    "_Feature"
   ],
   "window_display": false
  }
 },
 "nbformat": 4,
 "nbformat_minor": 2
}
