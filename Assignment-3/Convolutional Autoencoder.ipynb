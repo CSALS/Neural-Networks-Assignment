{
 "cells": [
  {
   "cell_type": "code",
   "execution_count": 2,
   "metadata": {},
   "outputs": [],
   "source": [
    "#Data Preprocessing\n",
    "import scipy.io\n",
    "import numpy as np\n",
    "\n",
    "def scaler():\n",
    "    data = scipy.io.loadmat('data_for_cnn.mat')\n",
    "    X = data['ecg_in_window']\n",
    "    data = scipy.io.loadmat('class_label.mat')\n",
    "    Y = data['label']\n",
    "    valueArray = np.concatenate((X, Y), axis = 1)\n",
    "    np.random.shuffle(valueArray)\n",
    "    X = valueArray[0:, :1000]\n",
    "    Y = valueArray[0:, -1]\n",
    "    Y = np.reshape(Y,(Y.shape[0],1))\n",
    "    Y = Y.astype(int)\n",
    "    #Feature Scaling\n",
    "    X = (X - np.mean(X, axis = 0))/np.std(X, axis = 0)\n",
    "    X = X.reshape(X.shape[0], X.shape[1], 1)\n",
    "    #Output in correct format\n",
    "    Y = np.eye(len(np.unique(Y,axis=0)))[(Y.T).flatten()]\n",
    "    return X, Y"
   ]
  },
  {
   "cell_type": "code",
   "execution_count": 3,
   "metadata": {},
   "outputs": [],
   "source": [
    "X, Y = scaler()"
   ]
  },
  {
   "cell_type": "code",
   "execution_count": 4,
   "metadata": {},
   "outputs": [],
   "source": [
    "# Holdout Method\n",
    "train_size = 0.8\n",
    "train_X = X[0: int(train_size * X.shape[0])]\n",
    "test_X = X[int(train_size * X.shape[0]):]"
   ]
  },
  {
   "cell_type": "code",
   "execution_count": 19,
   "metadata": {},
   "outputs": [
    {
     "data": {
      "text/plain": [
       "((800, 1000, 1), (200, 1000, 1))"
      ]
     },
     "execution_count": 19,
     "metadata": {},
     "output_type": "execute_result"
    }
   ],
   "source": [
    "train_X.shape, test_X.shape"
   ]
  },
  {
   "cell_type": "code",
   "execution_count": 5,
   "metadata": {},
   "outputs": [
    {
     "name": "stderr",
     "output_type": "stream",
     "text": [
      "Using TensorFlow backend.\n"
     ]
    }
   ],
   "source": [
    "from keras.models import Model, Sequential\n",
    "from keras.layers import Dense, Conv1D, Flatten, Lambda, MaxPooling1D, UpSampling1D, Conv2DTranspose, Input,Reshape\n",
    "from keras.engine.topology import Layer\n",
    "import keras\n",
    "import keras.backend as K"
   ]
  },
  {
   "cell_type": "code",
   "execution_count": 6,
   "metadata": {},
   "outputs": [],
   "source": [
    "class Conv1DTranspose(Layer):\n",
    "    def __init__(self, filters, kernel_size, strides=1, *args, **kwargs):\n",
    "        self._filters = filters\n",
    "        self._kernel_size = (1, kernel_size)\n",
    "        self._strides = (1, strides)\n",
    "        self._args, self._kwargs = args, kwargs\n",
    "        super(Conv1DTranspose, self).__init__()\n",
    "\n",
    "    def build(self, input_shape):\n",
    "        print(\"build\", input_shape)\n",
    "        self._model = Sequential()\n",
    "        self._model.add(Lambda(lambda x: K.expand_dims(x,axis=1), batch_input_shape=input_shape))\n",
    "        self._model.add(Conv2DTranspose(self._filters,\n",
    "                                        kernel_size=self._kernel_size,\n",
    "                                        strides=self._strides,\n",
    "                                        *self._args, **self._kwargs))\n",
    "        self._model.add(Lambda(lambda x: x[:,0]))\n",
    "        self._model.summary()\n",
    "        super(Conv1DTranspose, self).build(input_shape)\n",
    "\n",
    "    def call(self, x):\n",
    "        return self._model(x)\n",
    "\n",
    "    def compute_output_shape(self, input_shape):\n",
    "        return self._model.compute_output_shape(input_shape)"
   ]
  },
  {
   "cell_type": "code",
   "execution_count": null,
   "metadata": {},
   "outputs": [
    {
     "name": "stdout",
     "output_type": "stream",
     "text": [
      "build (None, 496, 64)\n",
      "Model: \"sequential_5\"\n",
      "_________________________________________________________________\n",
      "Layer (type)                 Output Shape              Param #   \n",
      "=================================================================\n",
      "lambda_8 (Lambda)            (None, 1, 496, 64)        0         \n",
      "_________________________________________________________________\n",
      "conv2d_transpose_5 (Conv2DTr (None, 1, 1000, 1)        641       \n",
      "_________________________________________________________________\n",
      "lambda_9 (Lambda)            (None, 1000, 1)           0         \n",
      "=================================================================\n",
      "Total params: 641\n",
      "Trainable params: 641\n",
      "Non-trainable params: 0\n",
      "_________________________________________________________________\n"
     ]
    }
   ],
   "source": [
    "filters = 64\n",
    "\n",
    "# Encoder\n",
    "input_data = Input(shape = (1000,1))\n",
    "l1 = Conv1D(filters, 10, strides = 2, activation = 'relu')(input_data)\n",
    "l2 = MaxPooling1D(2)(l1)\n",
    "l3 = Flatten()(l2)\n",
    "l4 = Dense(248 * filters, activation = 'relu')(l3)\n",
    "# Decoder\n",
    "l4 = Reshape((248, filters))(l4)\n",
    "l5 = UpSampling1D(2)(l4)\n",
    "output_data = Conv1DTranspose(1, 10, strides = 2)(l5)\n",
    "model = Model(input_data, output_data)\n",
    "model.compile(loss = 'mean_squared_error', optimizer = 'adam')\n",
    "model.fit(train_X, train_X, validation_data = (test_X, test_X), batch_size = 100, epochs = 50)"
   ]
  },
  {
   "cell_type": "code",
   "execution_count": null,
   "metadata": {},
   "outputs": [],
   "source": []
  }
 ],
 "metadata": {
  "kernelspec": {
   "display_name": "Python 3",
   "language": "python",
   "name": "python3"
  },
  "language_info": {
   "codemirror_mode": {
    "name": "ipython",
    "version": 3
   },
   "file_extension": ".py",
   "mimetype": "text/x-python",
   "name": "python",
   "nbconvert_exporter": "python",
   "pygments_lexer": "ipython3",
   "version": "3.7.3"
  },
  "varInspector": {
   "cols": {
    "lenName": 16,
    "lenType": 16,
    "lenVar": 40
   },
   "kernels_config": {
    "python": {
     "delete_cmd_postfix": "",
     "delete_cmd_prefix": "del ",
     "library": "var_list.py",
     "varRefreshCmd": "print(var_dic_list())"
    },
    "r": {
     "delete_cmd_postfix": ") ",
     "delete_cmd_prefix": "rm(",
     "library": "var_list.r",
     "varRefreshCmd": "cat(var_dic_list()) "
    }
   },
   "types_to_exclude": [
    "module",
    "function",
    "builtin_function_or_method",
    "instance",
    "_Feature"
   ],
   "window_display": false
  }
 },
 "nbformat": 4,
 "nbformat_minor": 2
}
