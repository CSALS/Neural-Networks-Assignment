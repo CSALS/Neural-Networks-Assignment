{
 "cells": [
  {
   "cell_type": "code",
   "execution_count": 17,
   "metadata": {},
   "outputs": [],
   "source": [
    "import scipy.io\n",
    "import numpy as np"
   ]
  },
  {
   "cell_type": "code",
   "execution_count": 18,
   "metadata": {},
   "outputs": [],
   "source": [
    "def scaler():\n",
    "    data = scipy.io.loadmat('data_for_cnn.mat')\n",
    "    X = data['ecg_in_window']\n",
    "    data = scipy.io.loadmat('class_label.mat')\n",
    "    Y = data['label']\n",
    "    valueArray = np.concatenate((X, Y), axis = 1)\n",
    "    np.random.shuffle(valueArray)\n",
    "    X = valueArray[0:, :1001]\n",
    "    Y = valueArray[0:, -1]\n",
    "    Y = np.reshape(Y,(Y.shape[0],1))\n",
    "    Y = Y.astype(int)\n",
    "    #Feature Scaling\n",
    "    X = (X - np.mean(X, axis = 0))/np.std(X, axis = 1)\n",
    "    #Output in correct format\n",
    "    Y = np.eye(len(np.unique(Y,axis=0)))[(Y.T).flatten()]\n",
    "    return X, Y"
   ]
  }
 ],
 "metadata": {
  "kernelspec": {
   "display_name": "Python 3",
   "language": "python",
   "name": "python3"
  },
  "language_info": {
   "codemirror_mode": {
    "name": "ipython",
    "version": 3
   },
   "file_extension": ".py",
   "mimetype": "text/x-python",
   "name": "python",
   "nbconvert_exporter": "python",
   "pygments_lexer": "ipython3",
   "version": "3.7.3"
  },
  "varInspector": {
   "cols": {
    "lenName": 16,
    "lenType": 16,
    "lenVar": 40
   },
   "kernels_config": {
    "python": {
     "delete_cmd_postfix": "",
     "delete_cmd_prefix": "del ",
     "library": "var_list.py",
     "varRefreshCmd": "print(var_dic_list())"
    },
    "r": {
     "delete_cmd_postfix": ") ",
     "delete_cmd_prefix": "rm(",
     "library": "var_list.r",
     "varRefreshCmd": "cat(var_dic_list()) "
    }
   },
   "types_to_exclude": [
    "module",
    "function",
    "builtin_function_or_method",
    "instance",
    "_Feature"
   ],
   "window_display": false
  }
 },
 "nbformat": 4,
 "nbformat_minor": 2
}
