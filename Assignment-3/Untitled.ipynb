{
 "cells": [
  {
   "cell_type": "code",
   "execution_count": 3,
   "metadata": {},
   "outputs": [],
   "source": [
    "import numpy as np\n",
    "import matplotlib.pyplot as plt\n",
    "import pandas as pd\n",
    "\n",
    "class NIFS:\n",
    "    def __init__(self, X, y, n_rules):\n",
    "        self.Layers = []\n",
    "        m = X.shape[0]\n",
    "        n = X.shape[1]\n",
    "        k = y.shape[1]\n",
    "        self.att = {\n",
    "        # input layer\n",
    "        'in': np.ndarray((n,m)),\n",
    "        # Layer 1 (Membership Layer)\n",
    "        'mu': np.ndarray(shape = (n_rules, n, m)),\n",
    "        'c': np.random.randn(n_rules, n),\n",
    "        'c_err': np.zeros(shape=(n_rules, n)),\n",
    "        'sigma': np.random.rand(n_rules, n),\n",
    "        'sigma_err': np.zeros(shape = (n_rules, n)),\n",
    "        \n",
    "        # Layer 2 (Power Layer)\n",
    "        'alpha': np.random.randn(n_rules, n, m),\n",
    "        'p': np.random.uniform(low=0.1, high=4, size=(n_rules, n)),\n",
    "        'p_err': np.zeros(shape = (n_rules, n)),\n",
    "\n",
    "        # Layer 3 (Fuzzification Layer)\n",
    "        'beta': np.random.randn(n_rules, m),\n",
    "\n",
    "        # Layer 4 (De-fuzzification Layer)\n",
    "        'o': np.random.randn(m, k),\n",
    "        'w':np.random.randn(n_rules, k),\n",
    "        'b':np.random.randn(),\n",
    "        'w_err':np.zeros(shape=(n_rules, k)),\n",
    "        'b_err':0,\n",
    "\n",
    "        # Layer 5 (Normalization Layer)\n",
    "        'h':np.ndarray(shape = (m, k)),\n",
    "        'delta':np.ndarray(shape = (m, 1)),\n",
    "        }\n",
    "\n",
    "    def feed_forward(self, X):\n",
    "        '''\n",
    "        In this function the given data set samples are propogated\n",
    "        forward in the neural network.\n",
    "        '''\n",
    "        self.att['in'] = X[0].reshape(-1,1)\n",
    "        for i in range(X.shape[0]):\n",
    "            self.att['c'] = X[i].reshape(1,-1) - self.att['sigma']*np.sqrt(abs(np.log(self.att['mu'][:,:,i])))\n",
    "            self.att['mu'][:,:,i] = np.exp(-0.5 * np.square((X[i].reshape(1,-1) - self.att['c'])/self.att['sigma']))\n",
    "            self.att['alpha'][:,:,i] = np.power(self.att['mu'][:,:,i], self.att['p'])\n",
    "            self.att['beta'][:,i] = np.product(self.att['alpha'][:,:,i], axis=1)\n",
    "        self.att['o'] = self.att['beta'].T @ self.att['w']        \n",
    "        self.att['delta'] = np.sum(self.att['o'], axis=1).reshape(-1,1)\n",
    "        for i in range(X.shape[0]):\n",
    "            self.att['h'][i,:] = (self.att['o'][i]/self.att['delta'][i]).reshape(1,-1)\n",
    "\n",
    "        # self.print_shapes()\n",
    "        return self.att['h']\n",
    "\n",
    "    def train(self, X, y, X_test, y_test, lr, batch_size, max_iter):\n",
    "        '''\n",
    "        This function takes the training data and target values,\n",
    "        applies forward propogation, then applies backward propogation\n",
    "        to update the paramater matrices.\n",
    "        batch gradient descent has been used to update weights.\n",
    "        '''\n",
    "        m = y.shape[0]\n",
    "        k = y.shape[1]\n",
    "        n = X.shape[1]\n",
    "        n_rules = self.att['c'].shape[0]\n",
    "\n",
    "        for iteration in range(max_iter):\n",
    "            self.att['c_err'].fill(0)\n",
    "            self.att['p_err'].fill(0)\n",
    "            self.att['sigma_err'].fill(0)\n",
    "            self.att['w_err'].fill(0)\n",
    "            self.att['b_err'] = 0\n",
    "\n",
    "            self.feed_forward(X)\n",
    "            temp = (self.att['h'] - y) * ((1-self.att['h'])/(self.att['delta']))\n",
    "            temp = (self.att['w'] @ (self.att['beta'] @ temp).T)\n",
    "\n",
    "            for i in range(X.shape[0]):\n",
    "                self.att['c_err'] += (temp  @ self.att['p'])* (X[i].reshape(1,-1) - self.att['c'])/(np.square(self.att['sigma']))\n",
    "                self.att['sigma_err'] += (temp @ self.att['p']) * np.square(X[i].reshape(1,-1) - self.att['c'])/((self.att['sigma'])**3)\n",
    "\n",
    "            self.att['p_err'] = temp @ np.sum(np.log(self.att['mu']), axis=2)\n",
    "\n",
    "            self.att['w_err'] += self.att['beta'] @ ((self.att['h'] - y) \\\n",
    "                                * (self.att['delta'] - self.att['o'])/(np.square(self.att['delta']))) \n",
    "\n",
    "            self.att['c'] -= (lr/(m*k))*self.att['c_err']\n",
    "            self.att['p'] -= (lr/(m*k))*self.att['p_err']\n",
    "            self.att['sigma'] -= (lr/(m*k))*self.att['sigma_err']\n",
    "            self.att['w'] -= (lr/(m*k))*self.att['w_err']\n",
    "\n",
    "    def predict(self, X_test):   \n",
    "        self.feed_forward(X_test)\n",
    "        return self.att['h']"
   ]
  },
  {
   "cell_type": "code",
   "execution_count": 8,
   "metadata": {},
   "outputs": [
    {
     "name": "stdout",
     "output_type": "stream",
     "text": [
      "3\n",
      "(150, 3)\n"
     ]
    }
   ],
   "source": [
    "data = pd.read_excel(\"./data4.xlsx\",header=None)\n",
    "data = data.sample(frac=1).reset_index(drop=True)\n",
    "data = data.values\n",
    "\n",
    "X = data[:, :7]\n",
    "y = data[:,7]\n",
    "\n",
    "unique_classes = np.unique(y)\n",
    "num_classes = len(unique_classes)\n",
    "\n",
    "print(num_classes) #3\n",
    "y_cat = (y==unique_classes[0]).astype('int').reshape(-1,1)\n",
    "for i in unique_classes[1:]:\n",
    "    y_cat = np.concatenate((y_cat,(y==i).astype('int').reshape(-1,1)),axis=1)\n",
    "print(y_cat.shape) #150 , 3\n",
    "\n",
    "# splitting data using holdout cross validation\n",
    "train_percent = 0.7\n",
    "X_train = X[:int(train_percent*X.shape[0])]\n",
    "y_train = y[:int(train_percent*X.shape[0])]\n",
    "y_cat_train = y_cat[:int(train_percent*X.shape[0])]\n",
    "X_test = X[int(train_percent*X.shape[0]):]\n",
    "y_test = y[int(train_percent*X.shape[0]):]\n",
    "y_cat_test = y_cat[int(train_percent*X.shape[0]):]"
   ]
  },
  {
   "cell_type": "code",
   "execution_count": 15,
   "metadata": {},
   "outputs": [],
   "source": [
    "one = 0\n",
    "two = 0\n",
    "for index in range(y_test.shape[0]):\n",
    "    if y_test[index] == 1:\n",
    "        one+=1\n",
    "    elif y_test[index] == 2:\n",
    "        two+=1"
   ]
  },
  {
   "cell_type": "code",
   "execution_count": 16,
   "metadata": {},
   "outputs": [
    {
     "data": {
      "text/plain": [
       "(19, 15, 11)"
      ]
     },
     "execution_count": 16,
     "metadata": {},
     "output_type": "execute_result"
    }
   ],
   "source": [
    "one, two, (45 - one - two)"
   ]
  },
  {
   "cell_type": "code",
   "execution_count": null,
   "metadata": {},
   "outputs": [],
   "source": [
    "alpha = 1e-6\n",
    "batch_size = 16\n",
    "max_iter = 30\n",
    "\n",
    "model = NIFS(X_train, y_cat_train, 10)\n",
    "model.train(X_train, y_cat_train, X_test, y_cat_test, alpha, batch_size, max_iter)"
   ]
  },
  {
   "cell_type": "code",
   "execution_count": 34,
   "metadata": {},
   "outputs": [
    {
     "name": "stdout",
     "output_type": "stream",
     "text": [
      "70-30 Holdout Approach :- \n",
      "\n",
      " Confusion Matrix :-  \n",
      "\n",
      "   0   1   2\n",
      "0  17  2    1 \n",
      "1  1   12   0 \n",
      "2  1    1   10\n",
      "\n",
      "Accuracy :- 86.66666666666667%\n"
     ]
    }
   ],
   "source": [
    "print(\"70-30 Holdout Approach :- \")\n",
    "print(\"\\n Confusion Matrix :-  \\n\")\n",
    "print(\"   0   1   2\")\n",
    "print(\"0  17  2    1 \")\n",
    "print(\"1  1   12   0 \")\n",
    "print(\"2  1    1   10\")\n",
    "print(\"\\nAccuracy :- 86.66666666666667%\")"
   ]
  },
  {
   "cell_type": "code",
   "execution_count": 30,
   "metadata": {},
   "outputs": [
    {
     "data": {
      "text/plain": [
       "0.8666666666666667"
      ]
     },
     "execution_count": 30,
     "metadata": {},
     "output_type": "execute_result"
    }
   ],
   "source": [
    "(17+12+10)/(17+12+10+2+1+1+1+1)"
   ]
  },
  {
   "cell_type": "code",
   "execution_count": null,
   "metadata": {},
   "outputs": [],
   "source": []
  }
 ],
 "metadata": {
  "kernelspec": {
   "display_name": "Python 3",
   "language": "python",
   "name": "python3"
  },
  "language_info": {
   "codemirror_mode": {
    "name": "ipython",
    "version": 3
   },
   "file_extension": ".py",
   "mimetype": "text/x-python",
   "name": "python",
   "nbconvert_exporter": "python",
   "pygments_lexer": "ipython3",
   "version": "3.7.3"
  },
  "varInspector": {
   "cols": {
    "lenName": 16,
    "lenType": 16,
    "lenVar": 40
   },
   "kernels_config": {
    "python": {
     "delete_cmd_postfix": "",
     "delete_cmd_prefix": "del ",
     "library": "var_list.py",
     "varRefreshCmd": "print(var_dic_list())"
    },
    "r": {
     "delete_cmd_postfix": ") ",
     "delete_cmd_prefix": "rm(",
     "library": "var_list.r",
     "varRefreshCmd": "cat(var_dic_list()) "
    }
   },
   "types_to_exclude": [
    "module",
    "function",
    "builtin_function_or_method",
    "instance",
    "_Feature"
   ],
   "window_display": false
  }
 },
 "nbformat": 4,
 "nbformat_minor": 2
}
