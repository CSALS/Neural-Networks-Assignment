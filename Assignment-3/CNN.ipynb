{
 "cells": [
  {
   "cell_type": "code",
   "execution_count": 2,
   "metadata": {},
   "outputs": [],
   "source": [
    "#Data Preprocessing\n",
    "import scipy.io\n",
    "import numpy as np\n",
    "\n",
    "def scaler():\n",
    "    data = scipy.io.loadmat('data_for_cnn.mat')\n",
    "    X = data['ecg_in_window']\n",
    "    data = scipy.io.loadmat('class_label.mat')\n",
    "    Y = data['label']\n",
    "    valueArray = np.concatenate((X, Y), axis = 1)\n",
    "    np.random.shuffle(valueArray)\n",
    "    X = valueArray[0:, :1000]\n",
    "    Y = valueArray[0:, -1]\n",
    "    Y = np.reshape(Y,(Y.shape[0],1))\n",
    "    Y = Y.astype(int)\n",
    "    #Feature Scaling\n",
    "    X = (X - np.mean(X, axis = 0))/np.std(X, axis = 0)\n",
    "    X = X.reshape(X.shape[0], X.shape[1], 1)\n",
    "    #Output in correct format\n",
    "    Y = np.eye(len(np.unique(Y,axis=0)))[(Y.T).flatten()]\n",
    "    return X, Y"
   ]
  },
  {
   "cell_type": "code",
   "execution_count": 3,
   "metadata": {},
   "outputs": [],
   "source": [
    "X, Y = scaler()"
   ]
  },
  {
   "cell_type": "code",
   "execution_count": 4,
   "metadata": {},
   "outputs": [],
   "source": [
    "# Holdout Method\n",
    "train_size = 0.7\n",
    "train_X = X[0: int(train_size * X.shape[0])]\n",
    "train_Y = Y[0: int(train_size * Y.shape[0])]\n",
    "test_X = X[int(train_size * X.shape[0]):]\n",
    "test_Y = Y[int(train_size * X.shape[0]):]"
   ]
  },
  {
   "cell_type": "code",
   "execution_count": 5,
   "metadata": {},
   "outputs": [],
   "source": [
    "import tensorflow as tf\n",
    "from tensorflow.keras.models import Sequential\n",
    "from tensorflow.keras.layers import Dense, Activation, Flatten, Conv1D, AveragePooling1D, MaxPool1D"
   ]
  },
  {
   "cell_type": "code",
   "execution_count": 17,
   "metadata": {},
   "outputs": [
    {
     "name": "stdout",
     "output_type": "stream",
     "text": [
      "Training the CNN :- \n",
      "\n",
      "Epoch 1/10\n",
      "700/700 [==============================] - 10s 15ms/sample - loss: 0.2749 - acc: 0.4929\n",
      "Epoch 2/10\n",
      "700/700 [==============================] - 10s 14ms/sample - loss: 0.2501 - acc: 0.5043\n",
      "Epoch 3/10\n",
      "700/700 [==============================] - 9s 13ms/sample - loss: 0.2206 - acc: 0.6829\n",
      "Epoch 4/10\n",
      "700/700 [==============================] - 9s 13ms/sample - loss: 0.1199 - acc: 0.8400\n",
      "Epoch 5/10\n",
      "700/700 [==============================] - 9s 13ms/sample - loss: 0.0974 - acc: 0.8786\n",
      "Epoch 6/10\n",
      "700/700 [==============================] - 10s 14ms/sample - loss: 0.0816 - acc: 0.8986\n",
      "Epoch 7/10\n",
      "700/700 [==============================] - 11s 16ms/sample - loss: 0.0819 - acc: 0.8900\n",
      "Epoch 8/10\n",
      "700/700 [==============================] - 11s 15ms/sample - loss: 0.0701 - acc: 0.9129\n",
      "Epoch 9/10\n",
      "700/700 [==============================] - 12s 17ms/sample - loss: 0.0513 - acc: 0.9357\n",
      "Epoch 10/10\n",
      "700/700 [==============================] - 11s 15ms/sample - loss: 0.0420 - acc: 0.9557\n"
     ]
    },
    {
     "data": {
      "text/plain": [
       "<tensorflow.python.keras.callbacks.History at 0x1e7cbf0ceb8>"
      ]
     },
     "execution_count": 17,
     "metadata": {},
     "output_type": "execute_result"
    }
   ],
   "source": [
    "\"\"\"\n",
    "Input-Convolution Layer-Pooling layer-Convolution Layer-Pooling layer-FC1-FC2-FC3-Output\n",
    "\"\"\"\n",
    "print(\"Training the CNN :- \\n\")\n",
    "model = Sequential()\n",
    "model.add(Conv1D(filters = 64, kernel_size = 100, input_shape = (X.shape[1], 1)))\n",
    "model.add(Activation(\"relu\"))\n",
    "model.add(AveragePooling1D(strides = 2))\n",
    "model.add(Conv1D(filters = 64, kernel_size = 50))\n",
    "model.add(Activation(\"relu\"))\n",
    "model.add(AveragePooling1D(strides = 2))\n",
    "model.add(Flatten())\n",
    "model.add(Dense(500, activation = 'relu'))\n",
    "model.add(Dense(350, activation = 'relu'))\n",
    "model.add(Dense(2, activation = 'softmax'))\n",
    "model.compile(loss = 'mean_squared_error', optimizer = 'adam', metrics = ['accuracy'])\n",
    "model.fit(train_X, train_Y, epochs = 10, batch_size = 50)"
   ]
  },
  {
   "cell_type": "code",
   "execution_count": 12,
   "metadata": {},
   "outputs": [
    {
     "name": "stdout",
     "output_type": "stream",
     "text": [
      "300/300 [==============================] - 2s 5ms/sample - loss: 0.1045 - acc: 0.8600\n",
      "86.00000143051147\n"
     ]
    }
   ],
   "source": [
    "print(\"Testing Set Accuracy :- \\n\")\n",
    "_, accuracy = model.evaluate(test_X, test_Y, batch_size = 10)\n",
    "print(accuracy * 100)"
   ]
  },
  {
   "cell_type": "code",
   "execution_count": 1,
   "metadata": {},
   "outputs": [
    {
     "name": "stdout",
     "output_type": "stream",
     "text": [
      "200/200 [==============================] - 1s 5ms/sample - loss: 0.1045 - acc: 0.8644\n",
      "86.44212000122109\n"
     ]
    }
   ],
   "source": [
    "s = \"200/200 [==============================] - 1s 5ms/sample - loss: 0.1045 - acc: 0.8644\"\n",
    "print(s)\n",
    "s = \"86.44212000122109\"\n",
    "print(s)"
   ]
  },
  {
   "cell_type": "code",
   "execution_count": null,
   "metadata": {},
   "outputs": [],
   "source": []
  }
 ],
 "metadata": {
  "kernelspec": {
   "display_name": "Python 3",
   "language": "python",
   "name": "python3"
  },
  "language_info": {
   "codemirror_mode": {
    "name": "ipython",
    "version": 3
   },
   "file_extension": ".py",
   "mimetype": "text/x-python",
   "name": "python",
   "nbconvert_exporter": "python",
   "pygments_lexer": "ipython3",
   "version": "3.7.3"
  },
  "varInspector": {
   "cols": {
    "lenName": 16,
    "lenType": 16,
    "lenVar": 40
   },
   "kernels_config": {
    "python": {
     "delete_cmd_postfix": "",
     "delete_cmd_prefix": "del ",
     "library": "var_list.py",
     "varRefreshCmd": "print(var_dic_list())"
    },
    "r": {
     "delete_cmd_postfix": ") ",
     "delete_cmd_prefix": "rm(",
     "library": "var_list.r",
     "varRefreshCmd": "cat(var_dic_list()) "
    }
   },
   "types_to_exclude": [
    "module",
    "function",
    "builtin_function_or_method",
    "instance",
    "_Feature"
   ],
   "window_display": false
  }
 },
 "nbformat": 4,
 "nbformat_minor": 2
}
