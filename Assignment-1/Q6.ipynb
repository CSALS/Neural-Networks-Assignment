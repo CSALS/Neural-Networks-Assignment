{
 "cells": [
  {
   "cell_type": "code",
   "execution_count": 51,
   "metadata": {},
   "outputs": [],
   "source": [
    "#K Means Clustering Algorithm"
   ]
  },
  {
   "cell_type": "code",
   "execution_count": 2,
   "metadata": {},
   "outputs": [],
   "source": [
    "#importing libraries\n",
    "import numpy as np\n",
    "import pandas as pd\n",
    "import matplotlib.pyplot  as plt\n",
    "#only for jupyter notebook\n",
    "%matplotlib inline"
   ]
  },
  {
   "cell_type": "code",
   "execution_count": 3,
   "metadata": {},
   "outputs": [],
   "source": [
    "dataSet = 'data2.xlsx'"
   ]
  },
  {
   "cell_type": "code",
   "execution_count": 4,
   "metadata": {},
   "outputs": [],
   "source": [
    "#header = None states that there is no header row or else it would take first row of our data as header.\n",
    "df = pd.read_excel(dataSet,sheet_name='Sheet1',header=None)"
   ]
  },
  {
   "cell_type": "code",
   "execution_count": 5,
   "metadata": {},
   "outputs": [],
   "source": [
    "valueArray = df.to_numpy()\n",
    "m = valueArray.shape[0]\n",
    "X = valueArray # X -> x0 , x1 , x2 , x3\n",
    "X = (X - np.mean(X,axis=0))/np.std(X,axis=0)"
   ]
  },
  {
   "cell_type": "code",
   "execution_count": 6,
   "metadata": {},
   "outputs": [],
   "source": [
    "#Euclidian Distance between two data points\n",
    "def distance(a,b):\n",
    "    return np.linalg.norm(a-b)"
   ]
  },
  {
   "cell_type": "code",
   "execution_count": 7,
   "metadata": {},
   "outputs": [],
   "source": [
    "#K means algorithm\n",
    "#K = 2\n",
    "centroid1 = X[0]\n",
    "centroid2 = X[m-1]\n",
    "state = False #diff is 0 if previous centroids and current centroids are same else it is 1\n",
    "finalCluster1 = []\n",
    "finalCluster2 = []\n",
    "while not state:\n",
    "    cluster1 = []\n",
    "    cluster2 = []\n",
    "    #for each instance calculate distance from both the centroids\n",
    "    for index_instance,instance in enumerate(X):\n",
    "        if distance(instance,centroid1) <= distance(instance,centroid2) :\n",
    "            cluster1.append(index_instance)\n",
    "        else :\n",
    "            cluster2.append(index_instance)\n",
    "    \n",
    "    newCentroid1 = np.mean(X[cluster1],axis=0) #axis = 0 vertically , axis = 1 horizontally\n",
    "    newCentroid2 = np.mean(X[cluster2],axis=0)\n",
    "    if np.array_equal(newCentroid1,centroid1) and np.array_equal(newCentroid2,centroid2) :\n",
    "        state = True\n",
    "        finalCluster1 = cluster1\n",
    "        finalCluster2 = cluster2\n",
    "    centroid1 = newCentroid1\n",
    "    centroid2 = newCentroid2"
   ]
  },
  {
   "cell_type": "code",
   "execution_count": 8,
   "metadata": {},
   "outputs": [],
   "source": [
    "y_predicted = [None]*m\n",
    "for index_instance in finalCluster1:\n",
    "    y_predicted[index_instance] = 0\n",
    "for index_instance in finalCluster2:\n",
    "    y_predicted[index_instance] = 1"
   ]
  },
  {
   "cell_type": "code",
   "execution_count": 9,
   "metadata": {},
   "outputs": [],
   "source": [
    "y_predicted = np.asarray(y_predicted)"
   ]
  },
  {
   "cell_type": "code",
   "execution_count": 10,
   "metadata": {},
   "outputs": [],
   "source": [
    "#Method 1 -> Plotting scatter plots of each pair of features. N(N-1)/2 plots will be shown if N is the number of dimensions\n",
    "def twoDimensionSlices(X,y_predicted):\n",
    "    plt.title('Scatter Plot Of Feature 1 vs Feature 2')\n",
    "    plt.scatter(X[0:,0],X[0:,1],c=y_predicted)\n",
    "    plt.show()\n",
    "\n",
    "    plt.title('Scatter Plot Of Feature 1 vs Feature 3')\n",
    "    plt.scatter(X[0:,0],X[0:,2],c=y_predicted)\n",
    "    plt.show()\n",
    "\n",
    "    plt.title('Scatter Plot Of Feature 1 vs Feature 4')\n",
    "    plt.scatter(X[0:,0],X[0:,3],c=y_predicted)\n",
    "    plt.show()\n",
    "\n",
    "    plt.title('Scatter Plot Of Feature 2 vs Feature 3')\n",
    "    plt.scatter(X[0:,1],X[0:,2],c=y_predicted)\n",
    "    plt.show()\n",
    "\n",
    "    plt.title('Scatter Plot Of Feature 2 vs Feature 4')\n",
    "    plt.scatter(X[0:,1],X[0:,3],c=y_predicted)\n",
    "    plt.show()\n",
    "\n",
    "    plt.title('Scatter Plot Of Feature 3 vs Feature 4')\n",
    "    plt.scatter(X[0:,2],X[0:,3],c=y_predicted)\n",
    "    plt.show()"
   ]
  },
  {
   "cell_type": "code",
   "execution_count": 15,
   "metadata": {},
   "outputs": [
    {
     "name": "stdout",
     "output_type": "stream",
     "text": [
      "Center of Cluster 1 :  [-1.01457897  0.84230679 -1.30487835 -1.25512862]\n",
      "Center of Cluster 2 :  [ 0.50728948 -0.4211534   0.65243918  0.62756431]\n"
     ]
    }
   ],
   "source": [
    "print(\"Center of Cluster 1 : \",centroid1)\n",
    "print(\"Center of Cluster 2 : \",centroid2)"
   ]
  },
  {
   "cell_type": "code",
   "execution_count": 11,
   "metadata": {},
   "outputs": [],
   "source": [
    "X = [3,5]\n",
    "Y = [1,3]\n",
    "X = np.asarray(X)\n",
    "Y = np.asarray(Y)"
   ]
  },
  {
   "cell_type": "code",
   "execution_count": 12,
   "metadata": {},
   "outputs": [
    {
     "data": {
      "text/plain": [
       "2.8284271247461903"
      ]
     },
     "execution_count": 12,
     "metadata": {},
     "output_type": "execute_result"
    }
   ],
   "source": [
    "np.linalg.norm(X-Y,None)"
   ]
  },
  {
   "cell_type": "code",
   "execution_count": 13,
   "metadata": {},
   "outputs": [
    {
     "data": {
      "text/plain": [
       "2.8284271247461903"
      ]
     },
     "execution_count": 13,
     "metadata": {},
     "output_type": "execute_result"
    }
   ],
   "source": [
    "np.linalg.norm(X-Y,None)"
   ]
  },
  {
   "cell_type": "code",
   "execution_count": null,
   "metadata": {},
   "outputs": [],
   "source": []
  }
 ],
 "metadata": {
  "kernelspec": {
   "display_name": "Python 3",
   "language": "python",
   "name": "python3"
  },
  "language_info": {
   "codemirror_mode": {
    "name": "ipython",
    "version": 3
   },
   "file_extension": ".py",
   "mimetype": "text/x-python",
   "name": "python",
   "nbconvert_exporter": "python",
   "pygments_lexer": "ipython3",
   "version": "3.7.3"
  },
  "varInspector": {
   "cols": {
    "lenName": 16,
    "lenType": 16,
    "lenVar": 40
   },
   "kernels_config": {
    "python": {
     "delete_cmd_postfix": "",
     "delete_cmd_prefix": "del ",
     "library": "var_list.py",
     "varRefreshCmd": "print(var_dic_list())"
    },
    "r": {
     "delete_cmd_postfix": ") ",
     "delete_cmd_prefix": "rm(",
     "library": "var_list.r",
     "varRefreshCmd": "cat(var_dic_list()) "
    }
   },
   "types_to_exclude": [
    "module",
    "function",
    "builtin_function_or_method",
    "instance",
    "_Feature"
   ],
   "window_display": false
  }
 },
 "nbformat": 4,
 "nbformat_minor": 2
}
