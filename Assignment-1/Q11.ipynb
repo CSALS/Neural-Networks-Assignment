{
 "cells": [
  {
   "cell_type": "code",
   "execution_count": 11,
   "metadata": {},
   "outputs": [],
   "source": [
    "#Maximum a posteriori (MAP) decision rule for multiclass classification"
   ]
  },
  {
   "cell_type": "code",
   "execution_count": 150,
   "metadata": {},
   "outputs": [],
   "source": [
    "#Importing Libraries\n",
    "import numpy as np\n",
    "import pandas as pd"
   ]
  },
  {
   "cell_type": "code",
   "execution_count": 151,
   "metadata": {},
   "outputs": [],
   "source": [
    "dataSet = 'data4.xlsx'"
   ]
  },
  {
   "cell_type": "code",
   "execution_count": 152,
   "metadata": {},
   "outputs": [],
   "source": [
    "#header = None states that there is no header row or else it would take first row of our data as header.\n",
    "df = pd.read_excel(dataSet,sheet_name='Sheet1',header=None)"
   ]
  },
  {
   "cell_type": "code",
   "execution_count": 153,
   "metadata": {},
   "outputs": [],
   "source": [
    "valueArray = df.to_numpy()\n",
    "np.random.shuffle(valueArray)\n",
    "#Hold out cross validation 70 - 30\n",
    "trainSize = int((7*valueArray.shape[0])/10)\n",
    "trainData , testData = valueArray[0:trainSize,0:] , valueArray[trainSize:,0:]\n",
    "X_train , X_test = trainData[0:,0:7] , testData[0:,0:7]\n",
    "X_train = (X_train - X_train.mean())/X_train.std()\n",
    "X_test = (X_test - X_test.mean())/X_test.std()\n",
    "y_train , y_test = trainData[0:,7] , testData[0:,7]"
   ]
  },
  {
   "cell_type": "code",
   "execution_count": 154,
   "metadata": {},
   "outputs": [],
   "source": [
    "def prob(Xt,count,cov,mean,cov_det,cov_inverse):\n",
    "    prob_x_y = 1/(np.power(2*np.pi,(count/2))*np.power(cov_det,0.5))\n",
    "    prob_x_y = prob_x_y * np.exp(-0.5*np.matmul(np.matmul((Xt-mean).T,cov_inverse),(Xt-mean)))\n",
    "    return prob_x_y[0][0]"
   ]
  },
  {
   "cell_type": "code",
   "execution_count": 155,
   "metadata": {},
   "outputs": [],
   "source": [
    "#Finding mean and covariance matrix for each class"
   ]
  },
  {
   "cell_type": "code",
   "execution_count": 156,
   "metadata": {},
   "outputs": [],
   "source": [
    "Xtrain_y1 = X_train[y_train==1]\n",
    "count_y1 = Xtrain_y1.shape[0]\n",
    "covariance_matrix_y1 = np.cov(Xtrain_y1.T)\n",
    "covariance_matrix_det_y1 = np.linalg.det(covariance_matrix_y1)\n",
    "covariance_matrix_inverse_y1 = np.linalg.inv(covariance_matrix_y1)\n",
    "mean_y1 = np.mean(Xtrain_y1,axis=0).reshape(-1,1)"
   ]
  },
  {
   "cell_type": "code",
   "execution_count": 157,
   "metadata": {},
   "outputs": [],
   "source": [
    "Xtrain_y2 = X_train[y_train==2]\n",
    "count_y2 = Xtrain_y2.shape[0]\n",
    "covariance_matrix_y2 = np.cov(Xtrain_y2.T)\n",
    "covariance_matrix_det_y2 = np.linalg.det(covariance_matrix_y2)\n",
    "covariance_matrix_inverse_y2 = np.linalg.inv(covariance_matrix_y2)\n",
    "mean_y2 = np.mean(Xtrain_y2,axis=0).reshape(-1,1)"
   ]
  },
  {
   "cell_type": "code",
   "execution_count": 158,
   "metadata": {},
   "outputs": [],
   "source": [
    "Xtrain_y3 = X_train[y_train==3]\n",
    "count_y3 = Xtrain_y3.shape[0]\n",
    "covariance_matrix_y3 = np.cov(Xtrain_y3.T)\n",
    "covariance_matrix_det_y3 = np.linalg.det(covariance_matrix_y3)\n",
    "covariance_matrix_inverse_y3 = np.linalg.inv(covariance_matrix_y3)\n",
    "mean_y3 = np.mean(Xtrain_y3,axis=0).reshape(-1,1)"
   ]
  },
  {
   "cell_type": "code",
   "execution_count": 159,
   "metadata": {},
   "outputs": [],
   "source": [
    "#Testing on the testing points\n",
    "y_predicted = []"
   ]
  },
  {
   "cell_type": "code",
   "execution_count": 160,
   "metadata": {},
   "outputs": [],
   "source": [
    "prob_y1 = Xtrain_y1.shape[0]/X_train.shape[0]\n",
    "prob_y2 = Xtrain_y2.shape[0]/X_train.shape[0]\n",
    "prob_y3 = Xtrain_y3.shape[0]/X_train.shape[0]"
   ]
  },
  {
   "cell_type": "code",
   "execution_count": 161,
   "metadata": {},
   "outputs": [],
   "source": [
    "#y = argmax(P(yk/x))\n",
    "for i in range(X_test.shape[0]):\n",
    "    prob_x_y1 = prob(X_test[i].reshape(-1,1),7,covariance_matrix_y1,mean_y1,covariance_matrix_det_y1,covariance_matrix_inverse_y1)\n",
    "    prob_x_y2 = prob(X_test[i].reshape(-1,1),7,covariance_matrix_y2,mean_y2,covariance_matrix_det_y2,covariance_matrix_inverse_y2)\n",
    "    prob_x_y3 = prob(X_test[i].reshape(-1,1),7,covariance_matrix_y3,mean_y3,covariance_matrix_det_y3,covariance_matrix_inverse_y3)\n",
    "    prob_y1_x = prob_x_y1 * prob_y1\n",
    "    prob_y2_x = prob_x_y2 * prob_y2\n",
    "    prob_y3_x = prob_x_y3 * prob_y3\n",
    "    prob_y_x = [prob_y1_x,prob_y2_x,prob_y3_x]\n",
    "    prob_y_x = np.asarray(prob_y_x)\n",
    "    y_predicted.append(np.argmax(prob_y_x) + 1)"
   ]
  },
  {
   "cell_type": "code",
   "execution_count": 176,
   "metadata": {},
   "outputs": [],
   "source": [
    "u11 = u12 = u13 = u21 = u22 = u23 = u31 = u32 = u33 = 0\n",
    "for index in range(y_test.shape[0]):\n",
    "    if y_test[index] == 1 :\n",
    "        if y_predicted[index] == 1:\n",
    "            u11 += 1\n",
    "        elif y_predicted[index] == 2:\n",
    "            u12 += 1\n",
    "        else:\n",
    "            u13 += 1\n",
    "    elif y_test[index] == 2:\n",
    "        if y_predicted[index] == 1:\n",
    "            u21 += 1\n",
    "        elif y_predicted[index] == 2:\n",
    "            u22 += 1\n",
    "        else:\n",
    "            u23 += 1\n",
    "    elif y_test[index] == 3:\n",
    "        if y_predicted[index] == 1:\n",
    "            u31 += 1\n",
    "        elif y_predicted[index] == 2:\n",
    "            u32 += 1\n",
    "        else:\n",
    "            u33 += 1"
   ]
  },
  {
   "cell_type": "code",
   "execution_count": 177,
   "metadata": {},
   "outputs": [
    {
     "name": "stdout",
     "output_type": "stream",
     "text": [
      "Confusion Matrix is :\n",
      "14   0   0\n",
      "17   0   0\n",
      "14   0   0\n"
     ]
    }
   ],
   "source": [
    "print(\"Confusion Matrix is :\")\n",
    "print(u11,\" \",u12,\" \",u13)\n",
    "print(u21,\" \",u22,\" \",u23)\n",
    "print(u31,\" \",u32,\" \",u33)"
   ]
  },
  {
   "cell_type": "code",
   "execution_count": 178,
   "metadata": {},
   "outputs": [],
   "source": [
    "IA_class1 = (float(u11)/float(u11 + u12 + u13))*100\n",
    "IA_class2 = (float(u22)/float(u21 + u22 + u23))*100\n",
    "IA_class3 = (float(u33)/float(u31 + u32 + u33))*100\n",
    "Overall_Acc = (float(u11 + u22 + u33)/float(u11 + u12 + u13 + u21 + u22 + u23 + u31 + u32 + u33))*100"
   ]
  },
  {
   "cell_type": "code",
   "execution_count": 179,
   "metadata": {},
   "outputs": [
    {
     "name": "stdout",
     "output_type": "stream",
     "text": [
      "Individual Accuracy of class 1 is :  100.0 %\n",
      "Individual Accuracy of class 2 is :  0.0 %\n",
      "Individual Accuracy of class 3 is :  0.0 %\n",
      "Overall Accuracy is :  31.11111111111111 %\n"
     ]
    }
   ],
   "source": [
    "print(\"Individual Accuracy of class 1 is : \",IA_class1,\"%\")\n",
    "print(\"Individual Accuracy of class 2 is : \",IA_class2,\"%\")\n",
    "print(\"Individual Accuracy of class 3 is : \",IA_class3,\"%\")\n",
    "print(\"Overall Accuracy is : \",Overall_Acc,\"%\")"
   ]
  },
  {
   "cell_type": "code",
   "execution_count": null,
   "metadata": {},
   "outputs": [],
   "source": []
  }
 ],
 "metadata": {
  "kernelspec": {
   "display_name": "Python 3",
   "language": "python",
   "name": "python3"
  }
 },
 "nbformat": 4,
 "nbformat_minor": 2
}
