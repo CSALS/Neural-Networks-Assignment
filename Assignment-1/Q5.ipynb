{
 "cells": [
  {
   "cell_type": "code",
   "execution_count": 31,
   "metadata": {},
   "outputs": [],
   "source": [
    "#Least angle regression using Batch Gradient Descent  and Stochastic Gradient Descent"
   ]
  },
  {
   "cell_type": "code",
   "execution_count": 141,
   "metadata": {},
   "outputs": [],
   "source": [
    "#importing libraries\n",
    "import numpy as np\n",
    "import pandas as pd\n",
    "import matplotlib.pyplot as plt\n",
    "from mpl_toolkits.mplot3d import Axes3D\n",
    "#only for jupyter notebook\n",
    "%matplotlib inline "
   ]
  },
  {
   "cell_type": "code",
   "execution_count": 142,
   "metadata": {},
   "outputs": [],
   "source": [
    "dataSet = 'data.xlsx'"
   ]
  },
  {
   "cell_type": "code",
   "execution_count": 143,
   "metadata": {},
   "outputs": [],
   "source": [
    "#header = None states that there is no header row or else it would take first row of our data as header.\n",
    "df = pd.read_excel(dataSet,sheet_name='Sheet1',header=None)"
   ]
  },
  {
   "cell_type": "code",
   "execution_count": 144,
   "metadata": {},
   "outputs": [],
   "source": [
    "valueArray = df.to_numpy() #dataframe DF to numpyarray valueArray\n",
    "m = valueArray.shape[0] # Number of training examples   numpyArray.shape = (no of rows,no of cols)\n",
    "X = valueArray[0:,0:2] # Feature Vector [x1,x2] m*2 0: = 0,1,2 rows and 0:2 = 0,1 columns\n",
    "X = np.insert(X,0,1,axis=1) # axis = 1 (every row insert 1 at 0 column) , Adding x0 = 1 in feature matrix m*3\n",
    "y = valueArray[0:,2:] # Class label Vector [y]  0: = 0,1,2 rows and 2: = 2 column   y = m*1 matrix"
   ]
  },
  {
   "cell_type": "code",
   "execution_count": 145,
   "metadata": {},
   "outputs": [],
   "source": [
    "#Normalization\n",
    "X[0:,1:2] = (X[0:,1:2] - X[0:,1:2].mean())/(X[0:,1:2].std())\n",
    "X[0:,2:] = (X[0:,2:] - X[0:,2:].mean())/(X[0:,2:].std())"
   ]
  },
  {
   "cell_type": "code",
   "execution_count": 146,
   "metadata": {},
   "outputs": [],
   "source": [
    "def computeCostFunction(X,y,w):\n",
    "    sum = 0.0\n",
    "    for index in range(X.shape[0]):\n",
    "        sum += (y[index][0] - (w[0][0] * X[index][0] + w[1][0] * X[index][1] + w[2][0] * X[index][2]))**2\n",
    "    #adding sum of squares of weights multiplied by regularization parameter\n",
    "    sum += regParameter*(abs(w[1][0]) + abs(w[2][0]))\n",
    "    return 0.5 * (sum/m)"
   ]
  },
  {
   "cell_type": "code",
   "execution_count": 147,
   "metadata": {},
   "outputs": [],
   "source": [
    "#Implementing Batch Gradient Descent"
   ]
  },
  {
   "cell_type": "code",
   "execution_count": 149,
   "metadata": {},
   "outputs": [],
   "source": [
    "for i in range(iters):\n",
    "    #wj <- wj + for all points (h(x) - y)*xj\n",
    "    w0 = w1 = w2 = sum0 = sum1 = sum2 = 0.0 # will hold new values of weights after weight update\n",
    "    for xIndex in range(m):\n",
    "        sum0 += (X[xIndex][0]*w[0][0] + X[xIndex][1]*w[1][0] + X[xIndex][2]*w[2][0] - y[xIndex][0])*X[xIndex][0]\n",
    "        sum1 += (X[xIndex][0]*w[0][0] + X[xIndex][1]*w[1][0] + X[xIndex][2]*w[2][0] - y[xIndex][0])*X[xIndex][1]\n",
    "        sum2 += (X[xIndex][0]*w[0][0] + X[xIndex][1]*w[1][0] + X[xIndex][2]*w[2][0] - y[xIndex][0])*X[xIndex][2]\n",
    "    w[0][0] = w[0][0] - alpha*sum0/m\n",
    "    w[1][0] = w[1][0] - (alpha/m)*(sum1 + 0.5 * regParameter * (abs(w[1][0])/w[1][0]) )\n",
    "    w[2][0] = w[2][0] - (alpha/m)*(sum2 + 0.5 * regParameter * (abs(w[1][0])/w[1][0]) )\n",
    "    cost = computeCostFunction(X,y,w)\n",
    "    costs.append(cost)\n",
    "    iterations.append(i+1)\n",
    "    weight1.append(w1)\n",
    "    weight2.append(w2)"
   ]
  },
  {
   "cell_type": "code",
   "execution_count": 150,
   "metadata": {},
   "outputs": [],
   "source": [
    "#RESULTS"
   ]
  },
  {
   "cell_type": "code",
   "execution_count": 151,
   "metadata": {},
   "outputs": [
    {
     "data": {
      "image/png": "[encoded data removed]",
      "text/plain": [
       "<Figure size 432x288 with 1 Axes>"
      ]
     },
     "metadata": {
      "needs_background": "light"
     },
     "output_type": "display_data"
    }
   ],
   "source": [
    "#2D - Plot of cost function vs number of iterations\n",
    "plt.title('Cost Function J vs Number of Iterations')\n",
    "plt.xlabel('No. of iterations')\n",
    "plt.ylabel('Cost')\n",
    "plt.plot(iterations,costs)\n",
    "plt.show()"
   ]
  },
  {
   "cell_type": "code",
   "execution_count": 152,
   "metadata": {
    "scrolled": true
   },
   "outputs": [
    {
     "data": {
      "text/plain": [
       "array([[14.90478629],\n",
       "       [ 0.36514491],\n",
       "       [ 1.69436918]])"
      ]
     },
     "execution_count": 152,
     "metadata": {},
     "output_type": "execute_result"
    }
   ],
   "source": [
    "w"
   ]
  },
  {
   "cell_type": "code",
   "execution_count": 153,
   "metadata": {},
   "outputs": [
    {
     "data": {
      "text/plain": [
       "9.409142873251163"
      ]
     },
     "execution_count": 153,
     "metadata": {},
     "output_type": "execute_result"
    }
   ],
   "source": [
    "costs[len(iterations)-1]"
   ]
  },
  {
   "cell_type": "code",
   "execution_count": 43,
   "metadata": {},
   "outputs": [],
   "source": [
    "#Implementing Stochastic Gradient Descent"
   ]
  },
  {
   "cell_type": "code",
   "execution_count": 300,
   "metadata": {},
   "outputs": [
    {
     "name": "stdout",
     "output_type": "stream",
     "text": [
      "[[0.20846054]\n",
      " [0.48168106]\n",
      " [0.42053804]]\n"
     ]
    }
   ],
   "source": [
    "alpha = 0.75\n",
    "iters = 200\n",
    "costs = []\n",
    "iterations = []\n",
    "weight1 = []\n",
    "weight2 = []\n",
    "batchSize = 40\n",
    "#Regularization\n",
    "regParameter = 0.15\n",
    "np.random.seed(22) \n",
    "w = np.random.rand(3,1) #Weight matrix with random values 3*1 matrix\n",
    "print(w)"
   ]
  },
  {
   "cell_type": "code",
   "execution_count": 301,
   "metadata": {},
   "outputs": [],
   "source": [
    "def generateMiniBatch(X,y):\n",
    "    data = np.hstack((X,y)) #X and y are combined row-wise\n",
    "    np.random.shuffle(data)\n",
    "    miniBatch = []\n",
    "    for index in range(batchSize):\n",
    "        miniBatch.append([data[index][0],data[index][1],data[index][2],data[index][3]])\n",
    "    return miniBatch"
   ]
  },
  {
   "cell_type": "code",
   "execution_count": 302,
   "metadata": {},
   "outputs": [],
   "source": [
    "#In each iteration take random 30 points from 'm' points and calculate gradient wrt each of the 30 points and update the weights\n",
    "for i in range(iters):\n",
    "    w0 = w1 = w2 = grad0 = grad1 = grad2 = 0.0 # will hold new values of weights after weight update\n",
    "    miniBatch = generateMiniBatch(X,y)\n",
    "    X_mini = []\n",
    "    y_mini = []\n",
    "    for arr in miniBatch:\n",
    "        X_mini.append([arr[0],arr[1],arr[2]])\n",
    "        y_mini.append([arr[3]])\n",
    "    for xIndex in range(batchSize):\n",
    "        grad0 = (X_mini[xIndex][0]*w[0][0] + X_mini[xIndex][1]*w[1][0] + X_mini[xIndex][2]*w[2][0] - y_mini[xIndex][0])*X_mini[xIndex][0]\n",
    "        grad1 = (X_mini[xIndex][0]*w[0][0] +X_mini[xIndex][1]*w[1][0] + X_mini[xIndex][2]*w[2][0] - y_mini[xIndex][0])*X_mini[xIndex][1]\n",
    "        grad2 = (X_mini[xIndex][0]*w[0][0] + X_mini[xIndex][1]*w[1][0] + X_mini[xIndex][2]*w[2][0] - y_mini[xIndex][0])*X_mini[xIndex][2]\n",
    "        w[0][0] = w[0][0] - (alpha/m)*grad0\n",
    "        w[1][0] = w[1][0] - (alpha/m)*(grad1 + 0.5 * regParameter * (abs(w[1][0])/w[1][0]) )\n",
    "        w[2][0] = w[2][0] - (alpha/m)*(grad2 + 0.5 * regParameter * (abs(w[1][0])/w[1][0]) )\n",
    "    cost = computeCostFunction(X,y,w)\n",
    "    costs.append(cost)\n",
    "    iterations.append(i+1)\n",
    "    weight1.append(w1)\n",
    "    weight2.append(w2)"
   ]
  },
  {
   "cell_type": "code",
   "execution_count": 303,
   "metadata": {},
   "outputs": [],
   "source": [
    "#RESULTS"
   ]
  },
  {
   "cell_type": "code",
   "execution_count": 304,
   "metadata": {},
   "outputs": [
    {
     "data": {
      "image/png": "[encoded data removed]",
      "text/plain": [
       "<Figure size 432x288 with 1 Axes>"
      ]
     },
     "metadata": {
      "needs_background": "light"
     },
     "output_type": "display_data"
    }
   ],
   "source": [
    "#2D - Plot of cost function vs number of iterations\n",
    "plt.title('Cost Function J vs Number of Iterations')\n",
    "plt.xlabel('No. of iterations')\n",
    "plt.ylabel('Cost')\n",
    "plt.plot(iterations,costs)\n",
    "plt.show()"
   ]
  },
  {
   "cell_type": "code",
   "execution_count": 305,
   "metadata": {},
   "outputs": [],
   "source": [
    "#3D Surface Graph of cost function vs w1 and w2"
   ]
  },
  {
   "cell_type": "code",
   "execution_count": 306,
   "metadata": {},
   "outputs": [],
   "source": [
    "#2D contour plot of cost function vs w1 and w2"
   ]
  },
  {
   "cell_type": "code",
   "execution_count": 307,
   "metadata": {},
   "outputs": [
    {
     "data": {
      "text/plain": [
       "array([[15.08382559],\n",
       "       [ 0.29797433],\n",
       "       [ 1.78106739]])"
      ]
     },
     "execution_count": 307,
     "metadata": {},
     "output_type": "execute_result"
    }
   ],
   "source": [
    "w"
   ]
  },
  {
   "cell_type": "code",
   "execution_count": 308,
   "metadata": {},
   "outputs": [
    {
     "data": {
      "text/plain": [
       "9.424151696377528"
      ]
     },
     "execution_count": 308,
     "metadata": {},
     "output_type": "execute_result"
    }
   ],
   "source": [
    "costs[len(iterations)-1]"
   ]
  },
  {
   "cell_type": "code",
   "execution_count": 310,
   "metadata": {},
   "outputs": [
    {
     "data": {
      "text/plain": [
       "15.083825592102865"
      ]
     },
     "execution_count": 310,
     "metadata": {},
     "output_type": "execute_result"
    }
   ],
   "source": [
    "w[0][0]"
   ]
  },
  {
   "cell_type": "code",
   "execution_count": 311,
   "metadata": {},
   "outputs": [
    {
     "name": "stdout",
     "output_type": "stream",
     "text": [
      "4.341360365347999\n"
     ]
    }
   ],
   "source": [
    "y_pred = []\n",
    "for index in range(m):\n",
    "        y_pred.append([(w[0][0] * X[index][0] + w[1][0] * X[index][1] + w[2][0] * X[index][2])])\n",
    "mse = np.sum((y-y_pred)**2)\n",
    "rmse = np.sqrt(mse/m)\n",
    "print(rmse)"
   ]
  },
  {
   "cell_type": "code",
   "execution_count": null,
   "metadata": {},
   "outputs": [],
   "source": []
  }
 ],
 "metadata": {
  "kernelspec": {
   "display_name": "Python 3",
   "language": "python",
   "name": "python3"
  },
  "language_info": {
   "codemirror_mode": {
    "name": "ipython",
    "version": 3
   },
   "file_extension": ".py",
   "mimetype": "text/x-python",
   "name": "python",
   "nbconvert_exporter": "python",
   "pygments_lexer": "ipython3",
   "version": "3.7.4"
  }
 },
 "nbformat": 4,
 "nbformat_minor": 2
}
