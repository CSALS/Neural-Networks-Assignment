{
 "cells": [
  {
   "cell_type": "code",
   "execution_count": 230,
   "metadata": {},
   "outputs": [],
   "source": [
    "#Importing Libraries\n",
    "import numpy as np\n",
    "import pandas as pd"
   ]
  },
  {
   "cell_type": "code",
   "execution_count": 231,
   "metadata": {},
   "outputs": [],
   "source": [
    "dataSet = 'data4.xlsx'"
   ]
  },
  {
   "cell_type": "code",
   "execution_count": 232,
   "metadata": {},
   "outputs": [],
   "source": [
    "#header = None states that there is no header row or else it would take first row of our data as header.\n",
    "df = pd.read_excel(dataSet,sheet_name='Sheet1',header=None)\n",
    "df = df.sample(frac=1).reset_index(drop=True)"
   ]
  },
  {
   "cell_type": "code",
   "execution_count": 233,
   "metadata": {},
   "outputs": [],
   "source": [
    "valueArray = df.to_numpy()\n",
    "np.random.shuffle(valueArray)\n",
    "#Hold out cross validation 70 - 30\n",
    "trainSize = int((7*valueArray.shape[0])/10)\n",
    "trainData , testData = valueArray[0:trainSize,0:] , valueArray[trainSize:,0:]\n",
    "X_train , X_test = trainData[0:,0:7] , testData[0:,0:7]\n",
    "X_train = (X_train - X_train.mean())/X_train.std()\n",
    "X_test = (X_test - X_test.mean())/X_test.std()\n",
    "y_train , y_test = trainData[0:,7] , testData[0:,7]"
   ]
  },
  {
   "cell_type": "code",
   "execution_count": 234,
   "metadata": {},
   "outputs": [
    {
     "data": {
      "text/plain": [
       "((105,), (45,))"
      ]
     },
     "execution_count": 234,
     "metadata": {},
     "output_type": "execute_result"
    }
   ],
   "source": [
    "y_train.shape , y_test.shape"
   ]
  },
  {
   "cell_type": "code",
   "execution_count": 235,
   "metadata": {},
   "outputs": [],
   "source": [
    "def prob(Xt,count,cov,mean,cov_det,cov_inverse):\n",
    "    prob_x_y = (1/(np.power(2*np.pi,(7/2)))*np.power(cov_det,0.5))\n",
    "   # print(prob_x_y)\n",
    "    #print(-0.5*np.matmul(np.matmul((Xt-mean).T,cov_inverse),(Xt-mean)))\n",
    "    prob_x_y = prob_x_y * np.exp(-0.5/1000*np.matmul(np.matmul((Xt-mean).T,cov_inverse),(Xt-mean)))\n",
    "    return prob_x_y[0][0]"
   ]
  },
  {
   "cell_type": "code",
   "execution_count": 236,
   "metadata": {},
   "outputs": [],
   "source": [
    "classes = [1,2,3]\n",
    "count_classes = 3\n",
    "y_test_pred = np.ndarray((y_test.shape[0],count_classes))\n",
    "y_predicted = np.ndarray((y_test.shape[0]))"
   ]
  },
  {
   "cell_type": "code",
   "execution_count": 237,
   "metadata": {},
   "outputs": [],
   "source": [
    "for i in range(y_test.shape[0]):\n",
    "    for j in range(count_classes):\n",
    "        temp = X_train[y_train==classes[j]]\n",
    "        n = temp.shape[0]\n",
    "        cov = np.cov(temp.T)\n",
    "        cov_inv = np.linalg.inv(cov)\n",
    "        cov_det = np.linalg.det(cov)\n",
    "        mean = np.mean(temp,axis=0).reshape(-1,1)\n",
    "        y_test_pred[i][j] = prob(X_test[i].reshape(-1,1),n,cov,mean,cov_det,cov_inv)\n",
    "    y_predicted[i] = classes[np.argmax(y_test_pred[i])]"
   ]
  },
  {
   "cell_type": "code",
   "execution_count": 238,
   "metadata": {},
   "outputs": [],
   "source": [
    "u11 = u12 = u13 = u21 = u22 = u23 = u31 = u32 = u33 = 0\n",
    "for index in range(y_test.shape[0]):\n",
    "    if y_test[index] == 1 :\n",
    "        if y_predicted[index] == 1:\n",
    "            u11 += 1\n",
    "        elif y_predicted[index] == 2:\n",
    "            u12 += 1\n",
    "        else:\n",
    "            u13 += 1\n",
    "    elif y_test[index] == 2:\n",
    "        if y_predicted[index] == 1:\n",
    "            u21 += 1\n",
    "        elif y_predicted[index] == 2:\n",
    "            u22 += 1\n",
    "        else:\n",
    "            u23 += 1\n",
    "    elif y_test[index] == 3:\n",
    "        if y_predicted[index] == 1:\n",
    "            u31 += 1\n",
    "        elif y_predicted[index] == 2:\n",
    "            u32 += 1\n",
    "        else:\n",
    "            u33 += 1"
   ]
  },
  {
   "cell_type": "code",
   "execution_count": 239,
   "metadata": {},
   "outputs": [
    {
     "name": "stdout",
     "output_type": "stream",
     "text": [
      "Confusion Matrix is :\n",
      "15   0   0\n",
      "14   0   0\n",
      "16   0   0\n"
     ]
    }
   ],
   "source": [
    "print(\"Confusion Matrix is :\")\n",
    "print(u11,\" \",u12,\" \",u13)\n",
    "print(u21,\" \",u22,\" \",u23)\n",
    "print(u31,\" \",u32,\" \",u33)"
   ]
  },
  {
   "cell_type": "code",
   "execution_count": 240,
   "metadata": {},
   "outputs": [],
   "source": [
    "IA_class1 = (float(u11)/float(u11 + u12 + u13))*100\n",
    "IA_class2 = (float(u22)/float(u21 + u22 + u23))*100\n",
    "IA_class3 = (float(u33)/float(u31 + u32 + u33))*100\n",
    "Overall_Acc = (float(u11 + u22 + u33)/float(u11 + u12 + u13 + u21 + u22 + u23 + u31 + u32 + u33))*100"
   ]
  },
  {
   "cell_type": "code",
   "execution_count": 241,
   "metadata": {},
   "outputs": [
    {
     "name": "stdout",
     "output_type": "stream",
     "text": [
      "Individual Accuracy of class 1 is :  100.0 %\n",
      "Individual Accuracy of class 2 is :  0.0 %\n",
      "Individual Accuracy of class 3 is :  0.0 %\n",
      "Overall Accuracy is :  33.33333333333333 %\n"
     ]
    }
   ],
   "source": [
    "print(\"Individual Accuracy of class 1 is : \",IA_class1,\"%\")\n",
    "print(\"Individual Accuracy of class 2 is : \",IA_class2,\"%\")\n",
    "print(\"Individual Accuracy of class 3 is : \",IA_class3,\"%\")\n",
    "print(\"Overall Accuracy is : \",Overall_Acc,\"%\")"
   ]
  },
  {
   "cell_type": "code",
   "execution_count": null,
   "metadata": {},
   "outputs": [],
   "source": []
  },
  {
   "cell_type": "code",
   "execution_count": null,
   "metadata": {},
   "outputs": [],
   "source": []
  },
  {
   "cell_type": "code",
   "execution_count": null,
   "metadata": {},
   "outputs": [],
   "source": []
  }
 ],
 "metadata": {
  "kernelspec": {
   "display_name": "Python 3",
   "language": "python",
   "name": "python3"
  },
  "language_info": {
   "codemirror_mode": {
    "name": "ipython",
    "version": 3
   },
   "file_extension": ".py",
   "mimetype": "text/x-python",
   "name": "python",
   "nbconvert_exporter": "python",
   "pygments_lexer": "ipython3",
   "version": "3.7.4"
  }
 },
 "nbformat": 4,
 "nbformat_minor": 2
}
