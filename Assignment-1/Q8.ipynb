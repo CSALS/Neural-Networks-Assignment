{
 "cells": [
  {
   "cell_type": "code",
   "execution_count": 1,
   "metadata": {},
   "outputs": [],
   "source": [
    "#Multiclass Logistic Regression using \"one vs all\" and \"one vs one\" \n",
    "#and holdout crossvalidation technique"
   ]
  },
  {
   "cell_type": "code",
   "execution_count": 2,
   "metadata": {},
   "outputs": [],
   "source": [
    "#Importing Libraries\n",
    "import numpy as np\n",
    "import pandas as pd\n",
    "import matplotlib.pyplot as plt\n",
    "import math\n",
    "#only for jupyter notebook\n",
    "%matplotlib inline"
   ]
  },
  {
   "cell_type": "code",
   "execution_count": 3,
   "metadata": {},
   "outputs": [],
   "source": [
    "dataSet = 'data4.xlsx'"
   ]
  },
  {
   "cell_type": "code",
   "execution_count": 4,
   "metadata": {},
   "outputs": [],
   "source": [
    "#header = None states that there is no header row or else it would take first row of our data as header.\n",
    "df = pd.read_excel(dataSet,sheet_name='Sheet1',header=None)"
   ]
  },
  {
   "cell_type": "code",
   "execution_count": 25,
   "metadata": {},
   "outputs": [],
   "source": [
    "valueArray = df.to_numpy()\n",
    "np.random.shuffle(valueArray)\n",
    "#Hold out cross validation 60 - 40\n",
    "trainSize = int((6*valueArray.shape[0])/10)\n",
    "trainData , testData = valueArray[0:trainSize,0:] , valueArray[trainSize:,0:]\n",
    "X_train , X_test = trainData[0:,0:7] , testData[0:,0:7]\n",
    "X_train = (X_train - X_train.mean())/X_train.std()\n",
    "X_test = (X_test - X_test.mean())/X_test.std()\n",
    "y_train , y_test = trainData[0:,7:] , testData[0:,7:]"
   ]
  },
  {
   "cell_type": "code",
   "execution_count": 26,
   "metadata": {},
   "outputs": [],
   "source": [
    "#Binary Logistic Regression -> classifies between 1 and 0\n",
    "def sigmoid(z):\n",
    "    return 1.0/ (1.0 + math.exp(-z))\n",
    "\n",
    "def hypothesis(X,w,bias):\n",
    "    sum = 0.0\n",
    "    for index_feature,feature in enumerate(X):\n",
    "        sum += w[index_feature][0] * feature\n",
    "    sum += bias\n",
    "    return sigmoid(sum)\n",
    "\n",
    "def gradient(X,y,index_feature,w,bias):\n",
    "    grad = 0.0\n",
    "    if index_feature == -1 :\n",
    "        #find gradient for bias\n",
    "        for index in range(X.shape[0]):\n",
    "            grad += (hypothesis(X[index],w,bias) - y[index][0])\n",
    "    else:\n",
    "        #find gradient for w[index][0]\n",
    "        for index in range(X.shape[0]):\n",
    "            grad += (hypothesis(X[index],w,bias) - y[index][0]) * X[index][index_feature]\n",
    "            \n",
    "    return grad\n",
    "\n",
    "def logisticRegression(X,y,w,bias,alpha,iterations):\n",
    "    for index in range(iterations):\n",
    "        #update 7 weights and bias\n",
    "        #w = w - alpha/m * gradient\n",
    "        m = X.shape[0]\n",
    "        w0 = w[0][0] - (alpha/m) * gradient(X,y,0,w,bias)\n",
    "        w1 = w[1][0] - (alpha/m) * gradient(X,y,1,w,bias)\n",
    "        w2 = w[2][0] - (alpha/m) * gradient(X,y,2,w,bias)\n",
    "        w3 = w[3][0] - (alpha/m) * gradient(X,y,3,w,bias)\n",
    "        w4 = w[4][0] - (alpha/m) * gradient(X,y,4,w,bias)\n",
    "        w5 = w[5][0] - (alpha/m) * gradient(X,y,5,w,bias)\n",
    "        w6 = w[6][0] - (alpha/m) * gradient(X,y,6,w,bias)\n",
    "        b  = bias - (alpha/m) * gradient(X,y,-1,w,bias)\n",
    "        w[0][0] = w0\n",
    "        w[1][0] = w1\n",
    "        w[2][0] = w2\n",
    "        w[3][0] = w3\n",
    "        w[4][0] = w4\n",
    "        w[5][0] = w5\n",
    "        w[6][0] = w6\n",
    "        bias = b\n",
    "    return [w,bias]"
   ]
  },
  {
   "cell_type": "code",
   "execution_count": 27,
   "metadata": {},
   "outputs": [
    {
     "data": {
      "text/plain": [
       "'\\nOne vs All\\n\\n3 classes = 1 , 2 , 3 \\nWe will construct 3 models\\n\\nModel 1 -> 1 = 1 and 2,3 = 0\\nModel 2 -> 2 = 1 and 1,3 = 0\\nModel 3 -> 3 = 1 and 1,2 = 0\\n\\nfinal_predicted_value = max(model1_hypothesis,model2_hypothesis,model3_hypothesis,model4_hypothesis)\\n\\n'"
      ]
     },
     "execution_count": 27,
     "metadata": {},
     "output_type": "execute_result"
    }
   ],
   "source": [
    "\"\"\"\n",
    "One vs All\n",
    "\n",
    "3 classes = 1 , 2 , 3 \n",
    "We will construct 3 models\n",
    "\n",
    "Model 1 -> 1 = 1 and 2,3 = 0\n",
    "Model 2 -> 2 = 1 and 1,3 = 0\n",
    "Model 3 -> 3 = 1 and 1,2 = 0\n",
    "\n",
    "final_predicted_value = max(model1_hypothesis,model2_hypothesis,model3_hypothesis,model4_hypothesis)\n",
    "\n",
    "\"\"\""
   ]
  },
  {
   "cell_type": "code",
   "execution_count": 28,
   "metadata": {},
   "outputs": [],
   "source": [
    "def oneVsAllTrain(X,y,alpha,iterations):\n",
    "    np.random.seed(111) \n",
    "    w = np.random.rand(7,1) #Weight matrix with random values 7*1 matrix\n",
    "    #w[0][0] = w[1][0] = w[2][0] = w[3][0] = w[4][0] = w[5][0] = w[6][0] = 0.0\n",
    "    bias = 1\n",
    "    \n",
    "    y1 = y2 = y3 = np.zeros(shape = (y.shape[0],1))\n",
    "    #Model - 1\n",
    "    for index_target,target in enumerate(y):\n",
    "        if target == 2.0 or target == 3.0 :\n",
    "            y1[index_target][0] = 0.0\n",
    "        elif target == 1.0:\n",
    "            y1[index_target][0] = 1.0\n",
    "    \n",
    "    w = np.random.rand(7,1)\n",
    "    bias = 1\n",
    "    parameters = logisticRegression(X,y1,w,bias,alpha,iterations)\n",
    "    model1_w = parameters[0]\n",
    "    model1_bias = parameters[1]\n",
    "    #Model - 2\n",
    "    for index_target,target in enumerate(y):\n",
    "        if target == 1.0 or target == 3.0 :\n",
    "            y2[index_target][0] = 0.0\n",
    "        elif target == 2.0:\n",
    "            y2[index_target][0] = 1.0\n",
    "        \n",
    "    \n",
    "    w = np.random.rand(7,1)\n",
    "    bias = 1\n",
    "    parameters = logisticRegression(X,y2,w,bias,alpha,iterations)\n",
    "    model2_w = parameters[0]\n",
    "    model2_bias = parameters[1]\n",
    "    \n",
    "    #Model - 3\n",
    "    for index_target,target in enumerate(y):\n",
    "        if target == 1.0 or target == 2.0 :\n",
    "            y3[index_target][0] = 0.0\n",
    "        elif target == 3.0:\n",
    "            y3[index_target][0] = 1.0\n",
    "    \n",
    "    w = np.random.rand(7,1)\n",
    "    bias = 1\n",
    "    parameters = logisticRegression(X,y3,w,bias,alpha,iterations)\n",
    "    model3_w = parameters[0]\n",
    "    model3_bias = parameters[1]\n",
    "\n",
    "    return [model1_w,model1_bias,model2_w,model2_bias,model3_w,model3_bias]"
   ]
  },
  {
   "cell_type": "code",
   "execution_count": 29,
   "metadata": {},
   "outputs": [],
   "source": [
    "models = oneVsAllTrain(X_train,y_train,0.75,1000)"
   ]
  },
  {
   "cell_type": "code",
   "execution_count": 30,
   "metadata": {},
   "outputs": [],
   "source": [
    "def oneVsAllTest(models,X,y):\n",
    "    y_predicted = []\n",
    "    model1_w = models[0]\n",
    "    model1_bias = models[1]\n",
    "    model2_w = models[2]\n",
    "    model2_bias = models[3]\n",
    "    model3_w = models[4]\n",
    "    model3_bias = models[5]\n",
    "    for index in range(y.shape[0]):\n",
    "        h1 = hypothesis(X[index],model1_w,model1_bias)\n",
    "        h2 = hypothesis(X[index],model2_w,model2_bias)\n",
    "        h3 = hypothesis(X[index],model3_w,model3_bias)\n",
    "        h = [h1,h2,h3]\n",
    "        h = np.asarray(h)\n",
    "        predicted_class = np.argmax(h) + 1\n",
    "        y_predicted.append(predicted_class)\n",
    "    return y_predicted"
   ]
  },
  {
   "cell_type": "code",
   "execution_count": 31,
   "metadata": {},
   "outputs": [],
   "source": [
    "y_predicted = oneVsAllTest(models,X_test,y_test)"
   ]
  },
  {
   "cell_type": "code",
   "execution_count": 32,
   "metadata": {},
   "outputs": [
    {
     "data": {
      "text/plain": [
       "'\\n        Confusion matrix for multiclass classifier\\n        \\nActual Output                 Predicted Output\\n                    class1    class2    class3\\nclass 1             u11       u12       u13\\n\\nclass 2             u21       u22       u23\\n\\nclass 3             u31       u32       u33\\n\\nIndividual Accuracy of class i = uii / ui1 + ui2 + ui3\\nOverall Accuracy = u11 + u22 + u33 / sum(uij)\\n'"
      ]
     },
     "execution_count": 32,
     "metadata": {},
     "output_type": "execute_result"
    }
   ],
   "source": [
    "\"\"\"\n",
    "        Confusion matrix for multiclass classifier\n",
    "        \n",
    "Actual Output                 Predicted Output\n",
    "                    class1    class2    class3\n",
    "class 1             u11       u12       u13\n",
    "\n",
    "class 2             u21       u22       u23\n",
    "\n",
    "class 3             u31       u32       u33\n",
    "\n",
    "Individual Accuracy of class i = uii / ui1 + ui2 + ui3\n",
    "Overall Accuracy = u11 + u22 + u33 / sum(uij)\n",
    "\"\"\""
   ]
  },
  {
   "cell_type": "code",
   "execution_count": 33,
   "metadata": {},
   "outputs": [],
   "source": [
    "u11 = u12 = u13 = u21 = u22 = u23 = u31 = u32 = u33 = 0\n",
    "for index in range(y_test.shape[0]):\n",
    "    if y_test[index][0] == 1 :\n",
    "        if y_predicted[index] == 1:\n",
    "            u11 += 1\n",
    "        elif y_predicted[index] == 2:\n",
    "            u12 += 1\n",
    "        else:\n",
    "            u13 += 1\n",
    "    elif y_test[index][0] == 2:\n",
    "        if y_predicted[index] == 1:\n",
    "            u21 += 1\n",
    "        elif y_predicted[index] == 2:\n",
    "            u22 += 1\n",
    "        else:\n",
    "            u23 += 1\n",
    "    elif y_test[index][0] == 3:\n",
    "        if y_predicted[index] == 1:\n",
    "            u31 += 1\n",
    "        elif y_predicted[index] == 2:\n",
    "            u32 += 1\n",
    "        else:\n",
    "            u33 += 1"
   ]
  },
  {
   "cell_type": "code",
   "execution_count": 34,
   "metadata": {},
   "outputs": [
    {
     "name": "stdout",
     "output_type": "stream",
     "text": [
      "Confusion Matrix is :\n",
      "20   5   0\n",
      "2   8   8\n",
      "0   2   15\n"
     ]
    }
   ],
   "source": [
    "print(\"Confusion Matrix is :\")\n",
    "print(u11,\" \",u12,\" \",u13)\n",
    "print(u21,\" \",u22,\" \",u23)\n",
    "print(u31,\" \",u32,\" \",u33)"
   ]
  },
  {
   "cell_type": "code",
   "execution_count": 35,
   "metadata": {},
   "outputs": [],
   "source": [
    "IA_class1 = (float(u11)/float(u11 + u12 + u13))*100\n",
    "IA_class2 = (float(u22)/float(u21 + u22 + u23))*100\n",
    "IA_class3 = (float(u33)/float(u31 + u32 + u33))*100\n",
    "Overall_Acc = (float(u11 + u22 + u33)/float(u11 + u12 + u13 + u21 + u22 + u23 + u31 + u32 + u33))*100"
   ]
  },
  {
   "cell_type": "code",
   "execution_count": 36,
   "metadata": {},
   "outputs": [
    {
     "name": "stdout",
     "output_type": "stream",
     "text": [
      "Individual Accuracy of class 1 is :  80.0 %\n",
      "Individual Accuracy of class 2 is :  44.44444444444444 %\n",
      "Individual Accuracy of class 3 is :  88.23529411764706 %\n",
      "Overall Accuracy is :  71.66666666666667 %\n"
     ]
    }
   ],
   "source": [
    "print(\"Individual Accuracy of class 1 is : \",IA_class1,\"%\")\n",
    "print(\"Individual Accuracy of class 2 is : \",IA_class2,\"%\")\n",
    "print(\"Individual Accuracy of class 3 is : \",IA_class3,\"%\")\n",
    "print(\"Overall Accuracy is : \",Overall_Acc,\"%\")"
   ]
  },
  {
   "cell_type": "code",
   "execution_count": 37,
   "metadata": {},
   "outputs": [
    {
     "data": {
      "text/plain": [
       "'\\nOne vs One\\n\\n3 classes = 1 , 2 , 3 \\nWe will construct 3 models\\n\\nModel 1 -> 1 = 0 and 2 = 1\\nModel 2 -> 1 = 0 and 3 = 1\\nModel 3 -> 2 = 0 and 3 = 1\\n\\nfinal_predicted_value = mode(model1_prediction,model2_prediction,model3_prediction,model4_hypothesis)\\n\\n'"
      ]
     },
     "execution_count": 37,
     "metadata": {},
     "output_type": "execute_result"
    }
   ],
   "source": [
    "\"\"\"\n",
    "One vs One\n",
    "\n",
    "3 classes = 1 , 2 , 3 \n",
    "We will construct 3 models\n",
    "\n",
    "Model 1 -> 1 = 0 and 2 = 1\n",
    "Model 2 -> 1 = 0 and 3 = 1\n",
    "Model 3 -> 2 = 0 and 3 = 1\n",
    "\n",
    "final_predicted_value = mode(model1_prediction,model2_prediction,model3_prediction,model4_hypothesis)\n",
    "\n",
    "\"\"\""
   ]
  },
  {
   "cell_type": "code",
   "execution_count": 38,
   "metadata": {},
   "outputs": [],
   "source": [
    "\"\"\"One vs One training phase\"\"\"\n",
    "alpha = 0.86\n",
    "iterations = 1000\n",
    "\n",
    "#Preparing training data for model1\n",
    "trainData1 = []\n",
    "for index in range(trainData.shape[0]):\n",
    "    if trainData[index][7] != 3:\n",
    "        trainData1.append(trainData[index])\n",
    "trainData1 = np.asarray(trainData1)\n",
    "for index in range(trainData1.shape[0]):\n",
    "    if trainData1[index][7] == 1:\n",
    "        trainData1[index][7]= 0\n",
    "for index in range(trainData1.shape[0]):\n",
    "    if trainData1[index][7] == 2:\n",
    "        trainData1[index][7]= 1\n",
    "#\n",
    "\n",
    "X_train_1  = trainData1[0:,0:7] \n",
    "X_train_1 = (X_train_1 - X_train_1.mean())/X_train_1.std()\n",
    "y_train_1  = trainData1[0:,7:]\n",
    "\n",
    "np.random.seed(131) \n",
    "w = np.random.rand(7,1) #Weight matrix with random values 7*1 matrix\n",
    "bias = 1\n",
    "#Training model1\n",
    "parameters = logisticRegression(X_train_1,y_train_1,w,bias,alpha,iterations)\n",
    "model1_w = parameters[0]\n",
    "model1_bias = parameters[1]\n",
    "\n",
    "#Preparing training data for model2\n",
    "trainData2 = []\n",
    "for index in range(trainData.shape[0]):\n",
    "    if trainData[index][7] != 2:\n",
    "        trainData2.append(trainData[index])\n",
    "trainData2 = np.asarray(trainData2)\n",
    "for index in range(trainData2.shape[0]):\n",
    "    if trainData2[index][7] == 1:\n",
    "        trainData2[index][7]= 0\n",
    "for index in range(trainData2.shape[0]):\n",
    "    if trainData2[index][7] == 3:\n",
    "        trainData2[index][7]= 1\n",
    "#\n",
    "X_train_2  = trainData2[0:,0:7]\n",
    "X_train_2 = (X_train_2 - X_train_2.mean())/X_train_2.std()\n",
    "y_train_2  = trainData2[0:,7:]\n",
    "\n",
    "np.random.seed(131) \n",
    "w = np.random.rand(7,1) #Weight matrix with random values 7*1 matrix\n",
    "bias = 1\n",
    "#Training model2\n",
    "parameters = logisticRegression(X_train_2,y_train_2,w,bias,alpha,iterations)\n",
    "model2_w = parameters[0]\n",
    "model2_bias = parameters[1]\n",
    "\n",
    "#Preparing training data for model3\n",
    "trainData3 = []\n",
    "for index in range(trainData.shape[0]):\n",
    "    if trainData[index][7] != 1:\n",
    "        trainData3.append(trainData[index])\n",
    "trainData3 = np.asarray(trainData3)\n",
    "for index in range(trainData3.shape[0]):\n",
    "    if trainData3[index][7] == 2:\n",
    "        trainData3[index][7]= 0\n",
    "for index in range(trainData3.shape[0]):\n",
    "    if trainData3[index][7] == 3:\n",
    "        trainData3[index][7]= 1\n",
    "#\n",
    "X_train_3  = trainData3[0:,0:7]\n",
    "X_train_3 = (X_train_3 - X_train_3.mean())/X_train_3.std()\n",
    "y_train_3  = trainData3[0:,7:]\n",
    "\n",
    "np.random.seed(131) \n",
    "w = np.random.rand(7,1) #Weight matrix with random values 7*1 matrix\n",
    "bias = 1\n",
    "#Training model3\n",
    "parameters = logisticRegression(X_train_3,y_train_3,w,bias,alpha,iterations)\n",
    "model3_w = parameters[0]\n",
    "model3_bias = parameters[1]"
   ]
  },
  {
   "cell_type": "code",
   "execution_count": 39,
   "metadata": {},
   "outputs": [],
   "source": [
    "\"\"\"One vs One testing phase\"\"\"\n",
    "y_predicted = np.zeros(shape = (y_test.shape[0],1))\n",
    "\n",
    "for index in range(X_test.shape[0]):\n",
    "    y1 = y2 = y3 = 0\n",
    "    h1 = hypothesis(X_test[index],model1_w,model1_bias)\n",
    "    h2 = hypothesis(X_test[index],model2_w,model2_bias)\n",
    "    h3 = hypothesis(X_test[index],model3_w,model3_bias)\n",
    "    #model - 1 prediction\n",
    "    if h1 >= 0.5 :\n",
    "        y1 = 2\n",
    "    else :\n",
    "        y1 = 1\n",
    "    #model - 2 prediction\n",
    "    if h2 >= 0.5 :\n",
    "        y2 = 3\n",
    "    else :\n",
    "        y2 = 1\n",
    "    #model - 3 prediction\n",
    "    if h3 >= 0.5 :\n",
    "        y3 = 3\n",
    "    else :\n",
    "        y3 = 2\n",
    "    one = two = three = 0\n",
    "    y = [y1,y2,y3]\n",
    "    for i in range(3):\n",
    "        if y[i] == 1:\n",
    "            one += 1\n",
    "        elif y[i] == 2:\n",
    "            two += 1\n",
    "        else:\n",
    "            three += 1\n",
    "    if one > two and one > three :\n",
    "        y_predicted[index] = 1\n",
    "    elif two > one and two > three :\n",
    "        y_predicted[index] = 2\n",
    "    elif three > one and three > two :\n",
    "        y_predicted[index] = 3\n",
    "    else :\n",
    "        if h1 >= h2 and h1 >= h3 :\n",
    "            y_predicted[index] = 1\n",
    "        elif h2 >= h1 and h2 >= h3 :\n",
    "            y_predicted[index] = 2\n",
    "        else :\n",
    "            y_predicted[index] = 3\n",
    "#     elif y1 == 2 and y2 == 1 and y3 == 3:\n",
    "#         if h1 >= h2 and h1 >= h3 :\n",
    "#             y_predicted[index] = 1\n",
    "#         elif h2 >= h1 and h2 >= h3 :\n",
    "#             y_predicted[index] = 2\n",
    "#         else :\n",
    "#             y_predicted[index] = 3\n",
    "    #print(y)\n",
    "        "
   ]
  },
  {
   "cell_type": "code",
   "execution_count": 40,
   "metadata": {},
   "outputs": [
    {
     "data": {
      "text/plain": [
       "'\\n        Confusion matrix for multiclass classifier\\n        \\nActual Output                 Predicted Output\\n                    class1    class2    class3\\nclass 1             u11       u12       u13\\n\\nclass 2             u21       u22       u23\\n\\nclass 3             u31       u32       u33\\n\\nIndividual Accuracy of class i = uii / ui1 + ui2 + ui3\\nOverall Accuracy = u11 + u22 + u33 / sum(uij)\\n'"
      ]
     },
     "execution_count": 40,
     "metadata": {},
     "output_type": "execute_result"
    }
   ],
   "source": [
    "\"\"\"\n",
    "        Confusion matrix for multiclass classifier\n",
    "        \n",
    "Actual Output                 Predicted Output\n",
    "                    class1    class2    class3\n",
    "class 1             u11       u12       u13\n",
    "\n",
    "class 2             u21       u22       u23\n",
    "\n",
    "class 3             u31       u32       u33\n",
    "\n",
    "Individual Accuracy of class i = uii / ui1 + ui2 + ui3\n",
    "Overall Accuracy = u11 + u22 + u33 / sum(uij)\n",
    "\"\"\""
   ]
  },
  {
   "cell_type": "code",
   "execution_count": 41,
   "metadata": {},
   "outputs": [],
   "source": [
    "u11 = u12 = u13 = u21 = u22 = u23 = u31 = u32 = u33 = 0\n",
    "for index in range(y_test.shape[0]):\n",
    "    if y_test[index][0] == 1 :\n",
    "        if y_predicted[index][0] == 1:\n",
    "            u11 += 1\n",
    "        elif y_predicted[index][0] == 2:\n",
    "            u12 += 1\n",
    "        else:\n",
    "            u13 += 1\n",
    "    elif y_test[index][0] == 2:\n",
    "        if y_predicted[index][0] == 1:\n",
    "            u21 += 1\n",
    "        elif y_predicted[index][0] == 2:\n",
    "            u22 += 1\n",
    "        else:\n",
    "            u23 += 1\n",
    "    elif y_test[index][0] == 3:\n",
    "        if y_predicted[index][0] == 1:\n",
    "            u31 += 1\n",
    "        elif y_predicted[index][0] == 2:\n",
    "            u32 += 1\n",
    "        else:\n",
    "            u33 += 1"
   ]
  },
  {
   "cell_type": "code",
   "execution_count": 42,
   "metadata": {},
   "outputs": [
    {
     "name": "stdout",
     "output_type": "stream",
     "text": [
      "Confusion Matrix is :\n",
      "21   4   0\n",
      "2   7   9\n",
      "0   2   15\n"
     ]
    }
   ],
   "source": [
    "print(\"Confusion Matrix is :\")\n",
    "print(u11,\" \",u12,\" \",u13)\n",
    "print(u21,\" \",u22,\" \",u23)\n",
    "print(u31,\" \",u32,\" \",u33)"
   ]
  },
  {
   "cell_type": "code",
   "execution_count": 43,
   "metadata": {},
   "outputs": [],
   "source": [
    "IA_class1 = (float(u11)/float(u11 + u12 + u13))*100\n",
    "IA_class2 = (float(u22)/float(u21 + u22 + u23))*100\n",
    "IA_class3 = (float(u33)/float(u31 + u32 + u33))*100\n",
    "Overall_Acc = (float(u11 + u22 + u33)/float(u11 + u12 + u13 + u21 + u22 + u23 + u31 + u32 + u33))*100"
   ]
  },
  {
   "cell_type": "code",
   "execution_count": 44,
   "metadata": {},
   "outputs": [
    {
     "name": "stdout",
     "output_type": "stream",
     "text": [
      "Individual Accuracy of class 1 is :  84.0 %\n",
      "Individual Accuracy of class 2 is :  38.88888888888889 %\n",
      "Individual Accuracy of class 3 is :  88.23529411764706 %\n",
      "Overall Accuracy is :  71.66666666666667 %\n"
     ]
    }
   ],
   "source": [
    "print(\"Individual Accuracy of class 1 is : \",IA_class1,\"%\")\n",
    "print(\"Individual Accuracy of class 2 is : \",IA_class2,\"%\")\n",
    "print(\"Individual Accuracy of class 3 is : \",IA_class3,\"%\")\n",
    "print(\"Overall Accuracy is : \",Overall_Acc,\"%\")"
   ]
  },
  {
   "cell_type": "code",
   "execution_count": null,
   "metadata": {},
   "outputs": [],
   "source": []
  },
  {
   "cell_type": "code",
   "execution_count": null,
   "metadata": {},
   "outputs": [],
   "source": []
  }
 ],
 "metadata": {
  "kernelspec": {
   "display_name": "Python 3",
   "language": "python",
   "name": "python3"
  },
  "language_info": {
   "codemirror_mode": {
    "name": "ipython",
    "version": 3
   },
   "file_extension": ".py",
   "mimetype": "text/x-python",
   "name": "python",
   "nbconvert_exporter": "python",
   "pygments_lexer": "ipython3",
   "version": "3.7.3"
  },
  "varInspector": {
   "cols": {
    "lenName": 16,
    "lenType": 16,
    "lenVar": 40
   },
   "kernels_config": {
    "python": {
     "delete_cmd_postfix": "",
     "delete_cmd_prefix": "del ",
     "library": "var_list.py",
     "varRefreshCmd": "print(var_dic_list())"
    },
    "r": {
     "delete_cmd_postfix": ") ",
     "delete_cmd_prefix": "rm(",
     "library": "var_list.r",
     "varRefreshCmd": "cat(var_dic_list()) "
    }
   },
   "types_to_exclude": [
    "module",
    "function",
    "builtin_function_or_method",
    "instance",
    "_Feature"
   ],
   "window_display": false
  }
 },
 "nbformat": 4,
 "nbformat_minor": 2
}
