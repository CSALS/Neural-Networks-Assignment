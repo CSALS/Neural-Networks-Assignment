{
 "cells": [
  {
   "cell_type": "code",
   "execution_count": 1,
   "metadata": {},
   "outputs": [],
   "source": [
    "#Likelihood ratio test (LRT) for the binary classification"
   ]
  },
  {
   "cell_type": "code",
   "execution_count": 2,
   "metadata": {},
   "outputs": [
    {
     "data": {
      "text/plain": [
       "'\\n    P(X/y1)     P(y2)\\nif  -------  > --------  then belongs to y1\\n    P(X/y2)     P(y1)\\n\\nelse it belongs to y2\\n\\n'"
      ]
     },
     "execution_count": 2,
     "metadata": {},
     "output_type": "execute_result"
    }
   ],
   "source": [
    "\"\"\"\n",
    "    P(X/y1)     P(y2)\n",
    "if  -------  > --------  then belongs to y1\n",
    "    P(X/y2)     P(y1)\n",
    "\n",
    "else it belongs to y2\n",
    "\n",
    "\"\"\"\n"
   ]
  },
  {
   "cell_type": "code",
   "execution_count": 3,
   "metadata": {},
   "outputs": [],
   "source": [
    "#Importing Libraries\n",
    "import numpy as np\n",
    "import pandas as pd"
   ]
  },
  {
   "cell_type": "code",
   "execution_count": 4,
   "metadata": {},
   "outputs": [],
   "source": [
    "dataSet = 'data3.xlsx'"
   ]
  },
  {
   "cell_type": "code",
   "execution_count": 5,
   "metadata": {},
   "outputs": [],
   "source": [
    "#header = None states that there is no header row or else it would take first row of our data as header.\n",
    "df = pd.read_excel(dataSet,sheet_name='Sheet1',header=None)"
   ]
  },
  {
   "cell_type": "code",
   "execution_count": 6,
   "metadata": {},
   "outputs": [],
   "source": [
    "valueArray = df.to_numpy()\n",
    "np.random.shuffle(valueArray)\n",
    "#Hold out cross validation technique 60 - 40\n",
    "trainData , testData = valueArray[0:60,0:] , valueArray[60:,0:]\n",
    "X_train , y_train  = trainData[0:,0:4:] , trainData[0:,4]\n",
    "X_test , y_test = testData[0:,0:4:] , testData[0:,4]\n",
    "y_train = y_train - 1\n",
    "y_test = y_test -1"
   ]
  },
  {
   "cell_type": "code",
   "execution_count": 7,
   "metadata": {},
   "outputs": [],
   "source": [
    "#Finding mean , covariance for each class"
   ]
  },
  {
   "cell_type": "code",
   "execution_count": 8,
   "metadata": {},
   "outputs": [],
   "source": [
    "Xtrain_y1 = X_train[y_train==0]\n",
    "count_y1 = Xtrain_y1.shape[0]\n",
    "covariance_matrix_y1 = np.cov(Xtrain_y1.T)\n",
    "covariance_matrix_det_y1 = np.linalg.det(covariance_matrix_y1)\n",
    "covariance_matrix_inverse_y1 = np.linalg.inv(covariance_matrix_y1)\n",
    "mean_y1 = np.mean(Xtrain_y1,axis=0).reshape(-1,1)"
   ]
  },
  {
   "cell_type": "code",
   "execution_count": 9,
   "metadata": {},
   "outputs": [],
   "source": [
    "Xtrain_y2 = X_train[y_train==1]\n",
    "count_y2 = Xtrain_y2.shape[0]\n",
    "covariance_matrix_y2 = np.cov(Xtrain_y2.T)\n",
    "covariance_matrix_det_y2 = np.linalg.det(covariance_matrix_y2)\n",
    "covariance_matrix_inverse_y2 = np.linalg.inv(covariance_matrix_y2)\n",
    "mean_y2 = np.mean(Xtrain_y2,axis=0).reshape(-1,1)"
   ]
  },
  {
   "cell_type": "code",
   "execution_count": 10,
   "metadata": {},
   "outputs": [],
   "source": [
    "def prob(Xt,count,cov,mean,cov_det,cov_inverse):\n",
    "    prob_x_y = 1/(np.power(2*np.pi,(count/2)))*np.power(cov_det,0.5)\n",
    "    prob_x_y = prob_x_y * np.exp(-0.5*np.matmul(np.matmul((Xt-mean).T,cov_inverse),(Xt-mean)))\n",
    "    return prob_x_y[0][0]"
   ]
  },
  {
   "cell_type": "code",
   "execution_count": 11,
   "metadata": {},
   "outputs": [],
   "source": [
    "#Testing on the testing points\n",
    "y_predicted = []"
   ]
  },
  {
   "cell_type": "code",
   "execution_count": 12,
   "metadata": {},
   "outputs": [],
   "source": [
    "prob_y1 = Xtrain_y1.shape[0]/X_train.shape[0]\n",
    "prob_y2 = Xtrain_y2.shape[0]/X_train.shape[0]"
   ]
  },
  {
   "cell_type": "code",
   "execution_count": 13,
   "metadata": {},
   "outputs": [],
   "source": [
    "for i in range(X_test.shape[0]):\n",
    "    prob_x_y1 = prob(X_test[i].reshape(-1,1),4,covariance_matrix_y1,mean_y1,covariance_matrix_det_y1,covariance_matrix_inverse_y1)\n",
    "    prob_x_y2 = prob(X_test[i].reshape(-1,1),4,covariance_matrix_y2,mean_y2,covariance_matrix_det_y2,covariance_matrix_inverse_y2)\n",
    "    if ((prob_x_y1/prob_x_y2) > ((prob_y2)/prob_y1)) :\n",
    "        y_predicted.append(0)\n",
    "    else :\n",
    "        y_predicted.append(1)"
   ]
  },
  {
   "cell_type": "code",
   "execution_count": 14,
   "metadata": {},
   "outputs": [],
   "source": [
    "#Results"
   ]
  },
  {
   "cell_type": "code",
   "execution_count": 15,
   "metadata": {},
   "outputs": [
    {
     "data": {
      "text/plain": [
       "'\\nConfusion Matrix\\n\\nActual Output   Predicted Output\\n\\n                class 2 | class 1\\nclass 2         TN      |   FP\\n________________________|____________\\n                        |\\nclass 1         FN      |   TP\\n\\n'"
      ]
     },
     "execution_count": 15,
     "metadata": {},
     "output_type": "execute_result"
    }
   ],
   "source": [
    "\"\"\"\n",
    "Confusion Matrix\n",
    "\n",
    "Actual Output   Predicted Output\n",
    "\n",
    "                class 2 | class 1\n",
    "class 2         TN      |   FP\n",
    "________________________|____________\n",
    "                        |\n",
    "class 1         FN      |   TP\n",
    "\n",
    "\"\"\""
   ]
  },
  {
   "cell_type": "code",
   "execution_count": 19,
   "metadata": {},
   "outputs": [
    {
     "name": "stdout",
     "output_type": "stream",
     "text": [
      "Confusion Matrix -> \n",
      "22   0\n",
      "0   18\n"
     ]
    }
   ],
   "source": [
    "trueNegatives = truePositives = falsePositives = falseNegatives = 0\n",
    "for index in range(y_test.shape[0]):\n",
    "    if y_test[index] == 1 :\n",
    "        if y_predicted[index] == 1 :\n",
    "            trueNegatives += 1\n",
    "        else :\n",
    "            falsePositives += 1\n",
    "    else :\n",
    "        if y_predicted[index] == 0:\n",
    "            truePositives += 1\n",
    "        else :\n",
    "            falseNegatives += 1\n",
    "print(\"Confusion Matrix -> \")\n",
    "print(trueNegatives,\" \",falsePositives)\n",
    "print(falseNegatives,\" \",truePositives)"
   ]
  },
  {
   "cell_type": "code",
   "execution_count": 17,
   "metadata": {},
   "outputs": [],
   "source": [
    "#Sensitivity = TP(TP + FN)\n",
    "SE = float(truePositives)/float(truePositives + falseNegatives)\n",
    "#Specificity = TN(TN + FP)\n",
    "SP = float(trueNegatives)/float(trueNegatives + falsePositives)\n",
    "#Accuracy = (TP + TN)/(TP + TN + FP + FN)\n",
    "Acc = float(truePositives + trueNegatives)/float(trueNegatives + truePositives + falsePositives + falseNegatives)"
   ]
  },
  {
   "cell_type": "code",
   "execution_count": 18,
   "metadata": {},
   "outputs": [
    {
     "name": "stdout",
     "output_type": "stream",
     "text": [
      "Sensitivity is :  100.0 %\n",
      "Specificity is :  100.0 %\n",
      "Accuracy is :  100.0 %\n"
     ]
    }
   ],
   "source": [
    "print(\"Sensitivity is : \",SE*100,\"%\")\n",
    "print(\"Specificity is : \",SP*100,\"%\")\n",
    "print(\"Accuracy is : \",Acc*100,\"%\")"
   ]
  },
  {
   "cell_type": "code",
   "execution_count": null,
   "metadata": {},
   "outputs": [],
   "source": []
  },
  {
   "cell_type": "code",
   "execution_count": null,
   "metadata": {},
   "outputs": [],
   "source": []
  }
 ],
 "metadata": {
  "kernelspec": {
   "display_name": "Python 3",
   "language": "python",
   "name": "python3"
  },
  "language_info": {
   "codemirror_mode": {
    "name": "ipython",
    "version": 3
   },
   "file_extension": ".py",
   "mimetype": "text/x-python",
   "name": "python",
   "nbconvert_exporter": "python",
   "pygments_lexer": "ipython3",
   "version": "3.7.4"
  }
 },
 "nbformat": 4,
 "nbformat_minor": 2
}
